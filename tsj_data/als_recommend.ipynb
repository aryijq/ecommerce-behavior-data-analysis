{
 "cells": [
  {
   "cell_type": "code",
   "execution_count": 1,
   "metadata": {},
   "outputs": [],
   "source": [
    "import pandas as pd\n",
    "import numpy as np\n",
    "import matplotlib as mpl\n",
    "import matplotlib.pyplot as plt\n",
    "import seaborn as sns\n",
    "import datetime as dt\n",
    "from datetime import timedelta\n",
    "from dateutil.parser import parse\n",
    "import missingno as msno\n",
    "\n",
    "%matplotlib inline\n",
    "%config InlineBackend.figure_format='retina'\n",
    "\n",
    "plt.rcParams['axes.unicode_minus'] = False\n",
    "plt.rcParams['font.family'] = 'NanumGothic'"
   ]
  },
  {
   "cell_type": "code",
   "execution_count": 13,
   "metadata": {},
   "outputs": [
    {
     "name": "stdout",
     "output_type": "stream",
     "text": [
      "Note: you may need to restart the kernel to use updated packages.\n"
     ]
    }
   ],
   "source": [
    "pip install implicit umap-learn -q"
   ]
  },
  {
   "cell_type": "code",
   "execution_count": 15,
   "metadata": {},
   "outputs": [],
   "source": [
    "from implicit.als import AlternatingLeastSquares\n",
    "from implicit.nearest_neighbours import bm25_weight\n",
    "import numpy as np\n",
    "import matplotlib.pyplot as plt\n",
    "import pandas as pd\n",
    "import plotly.graph_objects as go\n",
    "from umap import UMAP\n",
    "from scipy.sparse import csr_matrix\n",
    "from sklearn.model_selection import train_test_split"
   ]
  },
  {
   "cell_type": "code",
   "execution_count": 29,
   "metadata": {},
   "outputs": [],
   "source": [
    "import pandas as pd\n",
    "import scipy.sparse as sparse\n",
    "import numpy as np\n",
    "from scipy.sparse.linalg import spsolve\n",
    "import random\n",
    "import implicit\n",
    "from sklearn.preprocessing import MinMaxScaler"
   ]
  },
  {
   "cell_type": "code",
   "execution_count": 2,
   "metadata": {},
   "outputs": [],
   "source": [
    "# parquet_path = \"/content/drive/MyDrive/Colab Notebooks/Datasets/cp2_ecommerce/df_mv_filled.parquet\"\n",
    "parquet_path = \"D:/cp2_dataset/df_cat_add.parquet\"\n",
    "df = pd.read_parquet(parquet_path, engine='pyarrow')"
   ]
  },
  {
   "cell_type": "code",
   "execution_count": 3,
   "metadata": {},
   "outputs": [
    {
     "data": {
      "text/html": [
       "<div>\n",
       "<style scoped>\n",
       "    .dataframe tbody tr th:only-of-type {\n",
       "        vertical-align: middle;\n",
       "    }\n",
       "\n",
       "    .dataframe tbody tr th {\n",
       "        vertical-align: top;\n",
       "    }\n",
       "\n",
       "    .dataframe thead th {\n",
       "        text-align: right;\n",
       "    }\n",
       "</style>\n",
       "<table border=\"1\" class=\"dataframe\">\n",
       "  <thead>\n",
       "    <tr style=\"text-align: right;\">\n",
       "      <th></th>\n",
       "      <th>event_time</th>\n",
       "      <th>month</th>\n",
       "      <th>day</th>\n",
       "      <th>day_name</th>\n",
       "      <th>hour</th>\n",
       "      <th>event_type</th>\n",
       "      <th>product_id</th>\n",
       "      <th>category_id</th>\n",
       "      <th>category_code</th>\n",
       "      <th>brand</th>\n",
       "      <th>price</th>\n",
       "      <th>user_id</th>\n",
       "      <th>user_session</th>\n",
       "      <th>main_cat</th>\n",
       "      <th>sub_cat_1</th>\n",
       "      <th>sub_cat_2</th>\n",
       "    </tr>\n",
       "  </thead>\n",
       "  <tbody>\n",
       "    <tr>\n",
       "      <th>0</th>\n",
       "      <td>2019-10-01 04:00:00+04:00</td>\n",
       "      <td>10</td>\n",
       "      <td>1</td>\n",
       "      <td>Tuesday</td>\n",
       "      <td>4</td>\n",
       "      <td>view</td>\n",
       "      <td>44600062</td>\n",
       "      <td>2103807459595387724</td>\n",
       "      <td>no_cat</td>\n",
       "      <td>shiseido</td>\n",
       "      <td>35.79</td>\n",
       "      <td>541312140</td>\n",
       "      <td>72d76fde-8bb3-4e00-8c23-a032dfed738c</td>\n",
       "      <td>no_cat</td>\n",
       "      <td>None</td>\n",
       "      <td>None</td>\n",
       "    </tr>\n",
       "    <tr>\n",
       "      <th>1</th>\n",
       "      <td>2019-10-01 04:00:00+04:00</td>\n",
       "      <td>10</td>\n",
       "      <td>1</td>\n",
       "      <td>Tuesday</td>\n",
       "      <td>4</td>\n",
       "      <td>view</td>\n",
       "      <td>3900821</td>\n",
       "      <td>2053013552326770905</td>\n",
       "      <td>appliances.environment.water_heater</td>\n",
       "      <td>aqua</td>\n",
       "      <td>33.20</td>\n",
       "      <td>554748717</td>\n",
       "      <td>9333dfbd-b87a-4708-9857-6336556b0fcc</td>\n",
       "      <td>appliances</td>\n",
       "      <td>environment</td>\n",
       "      <td>water_heater</td>\n",
       "    </tr>\n",
       "    <tr>\n",
       "      <th>2</th>\n",
       "      <td>2019-10-01 04:00:01+04:00</td>\n",
       "      <td>10</td>\n",
       "      <td>1</td>\n",
       "      <td>Tuesday</td>\n",
       "      <td>4</td>\n",
       "      <td>view</td>\n",
       "      <td>17200506</td>\n",
       "      <td>2053013559792632471</td>\n",
       "      <td>furniture.living_room.sofa</td>\n",
       "      <td>no_brand</td>\n",
       "      <td>543.10</td>\n",
       "      <td>519107250</td>\n",
       "      <td>566511c2-e2e3-422b-b695-cf8e6e792ca8</td>\n",
       "      <td>furniture</td>\n",
       "      <td>living_room</td>\n",
       "      <td>sofa</td>\n",
       "    </tr>\n",
       "  </tbody>\n",
       "</table>\n",
       "</div>"
      ],
      "text/plain": [
       "                 event_time  month  day day_name  hour event_type  product_id  \\\n",
       "0 2019-10-01 04:00:00+04:00     10    1  Tuesday     4       view    44600062   \n",
       "1 2019-10-01 04:00:00+04:00     10    1  Tuesday     4       view     3900821   \n",
       "2 2019-10-01 04:00:01+04:00     10    1  Tuesday     4       view    17200506   \n",
       "\n",
       "           category_id                        category_code     brand   price  \\\n",
       "0  2103807459595387724                               no_cat  shiseido   35.79   \n",
       "1  2053013552326770905  appliances.environment.water_heater      aqua   33.20   \n",
       "2  2053013559792632471           furniture.living_room.sofa  no_brand  543.10   \n",
       "\n",
       "     user_id                          user_session    main_cat    sub_cat_1  \\\n",
       "0  541312140  72d76fde-8bb3-4e00-8c23-a032dfed738c      no_cat         None   \n",
       "1  554748717  9333dfbd-b87a-4708-9857-6336556b0fcc  appliances  environment   \n",
       "2  519107250  566511c2-e2e3-422b-b695-cf8e6e792ca8   furniture  living_room   \n",
       "\n",
       "      sub_cat_2  \n",
       "0          None  \n",
       "1  water_heater  \n",
       "2          sofa  "
      ]
     },
     "execution_count": 3,
     "metadata": {},
     "output_type": "execute_result"
    }
   ],
   "source": [
    "df.head(3)"
   ]
  },
  {
   "cell_type": "code",
   "execution_count": 3,
   "metadata": {},
   "outputs": [],
   "source": [
    "cart_cond = (df[\"event_type\"] == \"cart\")\n",
    "df_cart = df[cart_cond]"
   ]
  },
  {
   "cell_type": "code",
   "execution_count": 4,
   "metadata": {},
   "outputs": [
    {
     "data": {
      "text/plain": [
       "((42380091, 16), (926366, 16))"
      ]
     },
     "execution_count": 4,
     "metadata": {},
     "output_type": "execute_result"
    }
   ],
   "source": [
    "df.shape, df_cart.shape"
   ]
  },
  {
   "cell_type": "code",
   "execution_count": 49,
   "metadata": {},
   "outputs": [
    {
     "data": {
      "text/html": [
       "<div>\n",
       "<style scoped>\n",
       "    .dataframe tbody tr th:only-of-type {\n",
       "        vertical-align: middle;\n",
       "    }\n",
       "\n",
       "    .dataframe tbody tr th {\n",
       "        vertical-align: top;\n",
       "    }\n",
       "\n",
       "    .dataframe thead th {\n",
       "        text-align: right;\n",
       "    }\n",
       "</style>\n",
       "<table border=\"1\" class=\"dataframe\">\n",
       "  <thead>\n",
       "    <tr style=\"text-align: right;\">\n",
       "      <th></th>\n",
       "      <th>event_time</th>\n",
       "      <th>month</th>\n",
       "      <th>day</th>\n",
       "      <th>day_name</th>\n",
       "      <th>hour</th>\n",
       "      <th>event_type</th>\n",
       "      <th>product_id</th>\n",
       "      <th>category_id</th>\n",
       "      <th>category_code</th>\n",
       "      <th>brand</th>\n",
       "      <th>price</th>\n",
       "      <th>user_id</th>\n",
       "      <th>user_session</th>\n",
       "      <th>main_cat</th>\n",
       "      <th>sub_cat_1</th>\n",
       "      <th>sub_cat_2</th>\n",
       "    </tr>\n",
       "  </thead>\n",
       "  <tbody>\n",
       "    <tr>\n",
       "      <th>331</th>\n",
       "      <td>2019-10-01 04:05:14+04:00</td>\n",
       "      <td>10</td>\n",
       "      <td>1</td>\n",
       "      <td>Tuesday</td>\n",
       "      <td>4</td>\n",
       "      <td>cart</td>\n",
       "      <td>5100816</td>\n",
       "      <td>2053013553375346967</td>\n",
       "      <td>electronics.clocks</td>\n",
       "      <td>xiaomi</td>\n",
       "      <td>29.51</td>\n",
       "      <td>550121407</td>\n",
       "      <td>6f623695-9581-4633-813f-825b8760c7ae</td>\n",
       "      <td>electronics</td>\n",
       "      <td>clocks</td>\n",
       "      <td>None</td>\n",
       "    </tr>\n",
       "    <tr>\n",
       "      <th>583</th>\n",
       "      <td>2019-10-01 04:09:33+04:00</td>\n",
       "      <td>10</td>\n",
       "      <td>1</td>\n",
       "      <td>Tuesday</td>\n",
       "      <td>4</td>\n",
       "      <td>cart</td>\n",
       "      <td>1002524</td>\n",
       "      <td>2053013555631882655</td>\n",
       "      <td>electronics.smartphone</td>\n",
       "      <td>apple</td>\n",
       "      <td>515.67</td>\n",
       "      <td>524325294</td>\n",
       "      <td>0b74a829-f9d7-4654-b5b0-35bc9822c238</td>\n",
       "      <td>electronics</td>\n",
       "      <td>smartphone</td>\n",
       "      <td>None</td>\n",
       "    </tr>\n",
       "    <tr>\n",
       "      <th>680</th>\n",
       "      <td>2019-10-01 04:11:00+04:00</td>\n",
       "      <td>10</td>\n",
       "      <td>1</td>\n",
       "      <td>Tuesday</td>\n",
       "      <td>4</td>\n",
       "      <td>cart</td>\n",
       "      <td>4804056</td>\n",
       "      <td>2053013554658804075</td>\n",
       "      <td>electronics.audio.headphone</td>\n",
       "      <td>apple</td>\n",
       "      <td>161.98</td>\n",
       "      <td>533624186</td>\n",
       "      <td>e5ac3caa-e6d5-4d6b-ae06-2c18cd9ca683</td>\n",
       "      <td>electronics</td>\n",
       "      <td>audio</td>\n",
       "      <td>headphone</td>\n",
       "    </tr>\n",
       "  </tbody>\n",
       "</table>\n",
       "</div>"
      ],
      "text/plain": [
       "                   event_time  month  day day_name  hour event_type  \\\n",
       "331 2019-10-01 04:05:14+04:00     10    1  Tuesday     4       cart   \n",
       "583 2019-10-01 04:09:33+04:00     10    1  Tuesday     4       cart   \n",
       "680 2019-10-01 04:11:00+04:00     10    1  Tuesday     4       cart   \n",
       "\n",
       "     product_id          category_id                category_code   brand  \\\n",
       "331     5100816  2053013553375346967           electronics.clocks  xiaomi   \n",
       "583     1002524  2053013555631882655       electronics.smartphone   apple   \n",
       "680     4804056  2053013554658804075  electronics.audio.headphone   apple   \n",
       "\n",
       "      price    user_id                          user_session     main_cat  \\\n",
       "331   29.51  550121407  6f623695-9581-4633-813f-825b8760c7ae  electronics   \n",
       "583  515.67  524325294  0b74a829-f9d7-4654-b5b0-35bc9822c238  electronics   \n",
       "680  161.98  533624186  e5ac3caa-e6d5-4d6b-ae06-2c18cd9ca683  electronics   \n",
       "\n",
       "      sub_cat_1  sub_cat_2  \n",
       "331      clocks       None  \n",
       "583  smartphone       None  \n",
       "680       audio  headphone  "
      ]
     },
     "execution_count": 49,
     "metadata": {},
     "output_type": "execute_result"
    }
   ],
   "source": [
    "df_cart.head(3)"
   ]
  },
  {
   "cell_type": "code",
   "execution_count": 48,
   "metadata": {},
   "outputs": [],
   "source": [
    "sub_cat_1 = (df[\"sub_cat_1\"] == \"smartphone\") \\\n",
    "            | (df[\"sub_cat_1\"] == \"video\") \\\n",
    "            | (df[\"sub_cat_1\"] == \"notebook\") \\\n",
    "            | (df[\"sub_cat_1\"] == \"kitchen\")\n",
    "\n",
    "day_cond = (df[\"day_name\"] == \"Friday\") \\\n",
    "           | (df[\"day_name\"] == \"Saturday\") \\\n",
    "           | (df[\"day_name\"] == \"Sunday\") "
   ]
  },
  {
   "cell_type": "code",
   "execution_count": 50,
   "metadata": {},
   "outputs": [
    {
     "data": {
      "text/plain": [
       "(296936, 16)"
      ]
     },
     "execution_count": 50,
     "metadata": {},
     "output_type": "execute_result"
    }
   ],
   "source": [
    "sub_cat_1 = (df[\"sub_cat_1\"] == \"smartphone\") \\\n",
    "            | (df[\"sub_cat_1\"] == \"video\") \\\n",
    "            | (df[\"sub_cat_1\"] == \"notebook\") \\\n",
    "            | (df[\"sub_cat_1\"] == \"kitchen\")\n",
    "df_cart_cat = df_cart.loc[sub_cat_1]\n",
    "df_day = df_cart_cat.loc[day_cond]\n",
    "df_day.shape"
   ]
  },
  {
   "cell_type": "code",
   "execution_count": 51,
   "metadata": {},
   "outputs": [
    {
     "data": {
      "text/html": [
       "<div>\n",
       "<style scoped>\n",
       "    .dataframe tbody tr th:only-of-type {\n",
       "        vertical-align: middle;\n",
       "    }\n",
       "\n",
       "    .dataframe tbody tr th {\n",
       "        vertical-align: top;\n",
       "    }\n",
       "\n",
       "    .dataframe thead th {\n",
       "        text-align: right;\n",
       "    }\n",
       "</style>\n",
       "<table border=\"1\" class=\"dataframe\">\n",
       "  <thead>\n",
       "    <tr style=\"text-align: right;\">\n",
       "      <th></th>\n",
       "      <th>user_id</th>\n",
       "      <th>product_id</th>\n",
       "    </tr>\n",
       "  </thead>\n",
       "  <tbody>\n",
       "    <tr>\n",
       "      <th>3515590</th>\n",
       "      <td>512433763</td>\n",
       "      <td>1005136</td>\n",
       "    </tr>\n",
       "    <tr>\n",
       "      <th>3515915</th>\n",
       "      <td>556510717</td>\n",
       "      <td>1003310</td>\n",
       "    </tr>\n",
       "    <tr>\n",
       "      <th>3516066</th>\n",
       "      <td>514302701</td>\n",
       "      <td>1005141</td>\n",
       "    </tr>\n",
       "    <tr>\n",
       "      <th>3516110</th>\n",
       "      <td>550696493</td>\n",
       "      <td>1004945</td>\n",
       "    </tr>\n",
       "    <tr>\n",
       "      <th>3516183</th>\n",
       "      <td>515905214</td>\n",
       "      <td>1005118</td>\n",
       "    </tr>\n",
       "    <tr>\n",
       "      <th>...</th>\n",
       "      <td>...</td>\n",
       "      <td>...</td>\n",
       "    </tr>\n",
       "    <tr>\n",
       "      <th>42447907</th>\n",
       "      <td>542774966</td>\n",
       "      <td>1004767</td>\n",
       "    </tr>\n",
       "    <tr>\n",
       "      <th>42448124</th>\n",
       "      <td>566280291</td>\n",
       "      <td>1005134</td>\n",
       "    </tr>\n",
       "    <tr>\n",
       "      <th>42448135</th>\n",
       "      <td>566280291</td>\n",
       "      <td>1005134</td>\n",
       "    </tr>\n",
       "    <tr>\n",
       "      <th>42448156</th>\n",
       "      <td>512717356</td>\n",
       "      <td>1003306</td>\n",
       "    </tr>\n",
       "    <tr>\n",
       "      <th>42448292</th>\n",
       "      <td>533892594</td>\n",
       "      <td>1004240</td>\n",
       "    </tr>\n",
       "  </tbody>\n",
       "</table>\n",
       "<p>296936 rows × 2 columns</p>\n",
       "</div>"
      ],
      "text/plain": [
       "            user_id  product_id\n",
       "3515590   512433763     1005136\n",
       "3515915   556510717     1003310\n",
       "3516066   514302701     1005141\n",
       "3516110   550696493     1004945\n",
       "3516183   515905214     1005118\n",
       "...             ...         ...\n",
       "42447907  542774966     1004767\n",
       "42448124  566280291     1005134\n",
       "42448135  566280291     1005134\n",
       "42448156  512717356     1003306\n",
       "42448292  533892594     1004240\n",
       "\n",
       "[296936 rows x 2 columns]"
      ]
     },
     "execution_count": 51,
     "metadata": {},
     "output_type": "execute_result"
    }
   ],
   "source": [
    "df_prac = df_day[[\"user_id\", \"product_id\"]]\n",
    "df_prac"
   ]
  },
  {
   "cell_type": "code",
   "execution_count": 52,
   "metadata": {},
   "outputs": [
    {
     "name": "stderr",
     "output_type": "stream",
     "text": [
      "c:\\Users\\aryij\\anaconda3\\envs\\cp2\\lib\\site-packages\\pandas\\core\\frame.py:3607: SettingWithCopyWarning: \n",
      "A value is trying to be set on a copy of a slice from a DataFrame.\n",
      "Try using .loc[row_indexer,col_indexer] = value instead\n",
      "\n",
      "See the caveats in the documentation: https://pandas.pydata.org/pandas-docs/stable/user_guide/indexing.html#returning-a-view-versus-a-copy\n",
      "  self._set_item(key, value)\n"
     ]
    }
   ],
   "source": [
    "df_prac.loc[:, \"quantity\"] = 1"
   ]
  },
  {
   "cell_type": "code",
   "execution_count": 53,
   "metadata": {},
   "outputs": [
    {
     "data": {
      "text/html": [
       "<div>\n",
       "<style scoped>\n",
       "    .dataframe tbody tr th:only-of-type {\n",
       "        vertical-align: middle;\n",
       "    }\n",
       "\n",
       "    .dataframe tbody tr th {\n",
       "        vertical-align: top;\n",
       "    }\n",
       "\n",
       "    .dataframe thead th {\n",
       "        text-align: right;\n",
       "    }\n",
       "</style>\n",
       "<table border=\"1\" class=\"dataframe\">\n",
       "  <thead>\n",
       "    <tr style=\"text-align: right;\">\n",
       "      <th></th>\n",
       "      <th>user_id</th>\n",
       "      <th>product_id</th>\n",
       "      <th>quantity</th>\n",
       "    </tr>\n",
       "  </thead>\n",
       "  <tbody>\n",
       "    <tr>\n",
       "      <th>3515590</th>\n",
       "      <td>512433763</td>\n",
       "      <td>1005136</td>\n",
       "      <td>1</td>\n",
       "    </tr>\n",
       "    <tr>\n",
       "      <th>3515915</th>\n",
       "      <td>556510717</td>\n",
       "      <td>1003310</td>\n",
       "      <td>1</td>\n",
       "    </tr>\n",
       "    <tr>\n",
       "      <th>3516066</th>\n",
       "      <td>514302701</td>\n",
       "      <td>1005141</td>\n",
       "      <td>1</td>\n",
       "    </tr>\n",
       "    <tr>\n",
       "      <th>3516110</th>\n",
       "      <td>550696493</td>\n",
       "      <td>1004945</td>\n",
       "      <td>1</td>\n",
       "    </tr>\n",
       "    <tr>\n",
       "      <th>3516183</th>\n",
       "      <td>515905214</td>\n",
       "      <td>1005118</td>\n",
       "      <td>1</td>\n",
       "    </tr>\n",
       "    <tr>\n",
       "      <th>...</th>\n",
       "      <td>...</td>\n",
       "      <td>...</td>\n",
       "      <td>...</td>\n",
       "    </tr>\n",
       "    <tr>\n",
       "      <th>42447907</th>\n",
       "      <td>542774966</td>\n",
       "      <td>1004767</td>\n",
       "      <td>1</td>\n",
       "    </tr>\n",
       "    <tr>\n",
       "      <th>42448124</th>\n",
       "      <td>566280291</td>\n",
       "      <td>1005134</td>\n",
       "      <td>1</td>\n",
       "    </tr>\n",
       "    <tr>\n",
       "      <th>42448135</th>\n",
       "      <td>566280291</td>\n",
       "      <td>1005134</td>\n",
       "      <td>1</td>\n",
       "    </tr>\n",
       "    <tr>\n",
       "      <th>42448156</th>\n",
       "      <td>512717356</td>\n",
       "      <td>1003306</td>\n",
       "      <td>1</td>\n",
       "    </tr>\n",
       "    <tr>\n",
       "      <th>42448292</th>\n",
       "      <td>533892594</td>\n",
       "      <td>1004240</td>\n",
       "      <td>1</td>\n",
       "    </tr>\n",
       "  </tbody>\n",
       "</table>\n",
       "<p>296936 rows × 3 columns</p>\n",
       "</div>"
      ],
      "text/plain": [
       "            user_id  product_id  quantity\n",
       "3515590   512433763     1005136         1\n",
       "3515915   556510717     1003310         1\n",
       "3516066   514302701     1005141         1\n",
       "3516110   550696493     1004945         1\n",
       "3516183   515905214     1005118         1\n",
       "...             ...         ...       ...\n",
       "42447907  542774966     1004767         1\n",
       "42448124  566280291     1005134         1\n",
       "42448135  566280291     1005134         1\n",
       "42448156  512717356     1003306         1\n",
       "42448292  533892594     1004240         1\n",
       "\n",
       "[296936 rows x 3 columns]"
      ]
     },
     "execution_count": 53,
     "metadata": {},
     "output_type": "execute_result"
    }
   ],
   "source": [
    "df_prac"
   ]
  },
  {
   "cell_type": "code",
   "execution_count": 54,
   "metadata": {},
   "outputs": [
    {
     "data": {
      "text/html": [
       "<div>\n",
       "<style scoped>\n",
       "    .dataframe tbody tr th:only-of-type {\n",
       "        vertical-align: middle;\n",
       "    }\n",
       "\n",
       "    .dataframe tbody tr th {\n",
       "        vertical-align: top;\n",
       "    }\n",
       "\n",
       "    .dataframe thead th {\n",
       "        text-align: right;\n",
       "    }\n",
       "</style>\n",
       "<table border=\"1\" class=\"dataframe\">\n",
       "  <thead>\n",
       "    <tr style=\"text-align: right;\">\n",
       "      <th></th>\n",
       "      <th>user_id</th>\n",
       "      <th>product_id</th>\n",
       "      <th>quantity</th>\n",
       "    </tr>\n",
       "  </thead>\n",
       "  <tbody>\n",
       "    <tr>\n",
       "      <th>0</th>\n",
       "      <td>284344819</td>\n",
       "      <td>1005122</td>\n",
       "      <td>1</td>\n",
       "    </tr>\n",
       "    <tr>\n",
       "      <th>1</th>\n",
       "      <td>318611205</td>\n",
       "      <td>1005003</td>\n",
       "      <td>1</td>\n",
       "    </tr>\n",
       "    <tr>\n",
       "      <th>2</th>\n",
       "      <td>336595257</td>\n",
       "      <td>1004767</td>\n",
       "      <td>2</td>\n",
       "    </tr>\n",
       "  </tbody>\n",
       "</table>\n",
       "</div>"
      ],
      "text/plain": [
       "     user_id  product_id  quantity\n",
       "0  284344819     1005122         1\n",
       "1  318611205     1005003         1\n",
       "2  336595257     1004767         2"
      ]
     },
     "execution_count": 54,
     "metadata": {},
     "output_type": "execute_result"
    }
   ],
   "source": [
    "df_grouped = df_prac.groupby([\"user_id\", \"product_id\"])[\"quantity\"].sum().reset_index()\n",
    "df_grouped.head(3)"
   ]
  },
  {
   "cell_type": "code",
   "execution_count": 55,
   "metadata": {},
   "outputs": [
    {
     "name": "stdout",
     "output_type": "stream",
     "text": [
      "126195\n",
      "3229\n"
     ]
    },
    {
     "data": {
      "text/plain": [
       "<126195x3229 sparse matrix of type '<class 'numpy.intc'>'\n",
       "\twith 168327 stored elements in Compressed Sparse Row format>"
      ]
     },
     "execution_count": 55,
     "metadata": {},
     "output_type": "execute_result"
    }
   ],
   "source": [
    "customers = list(np.sort(df_grouped['user_id'].unique()))\n",
    "products = list (df_grouped['product_id'].unique())\n",
    "quantity = list(df_grouped['quantity'])\n",
    "\n",
    "rows = df_grouped['user_id'].astype('category').cat.codes\n",
    "cols = df_grouped['product_id'].astype('category').cat.codes\n",
    "\n",
    "print(len(customers)) # 126195\n",
    "print(len(products))  # 3229\n",
    "\n",
    "# csr: Compressed Sparse matrix by Row\n",
    "purchase_sparse = sparse.csr_matrix((quantity, (rows, cols)), shape = (len(customers),len(products)))\n",
    "purchase_sparse #126195 x 3229 행렬"
   ]
  },
  {
   "cell_type": "code",
   "execution_count": 56,
   "metadata": {},
   "outputs": [
    {
     "data": {
      "text/plain": [
       "99.95869110381864"
      ]
     },
     "execution_count": 56,
     "metadata": {},
     "output_type": "execute_result"
    }
   ],
   "source": [
    "# Sparsity: 얼마나 비어있나?\n",
    "matrix_size = purchase_sparse.shape[0]* purchase_sparse.shape[1]\n",
    "num_purchases = len(purchase_sparse.nonzero()[0])\n",
    "sparsity = 100 * (1 - (num_purchases / matrix_size))\n",
    "sparsity\n",
    "\n",
    "# 상호작용 행렬의 99.9%가 비어있다\n",
    "# sparsity가 99.5%를 넘기 때문에, KNN을 사용하면 안되고 MF를 사용해야 한다"
   ]
  },
  {
   "cell_type": "code",
   "execution_count": 57,
   "metadata": {},
   "outputs": [],
   "source": [
    "# Train, Validation 세트 생성\n",
    "\n",
    "def make_train (matrix, percentage = .2):\n",
    "    '''\n",
    "    -----------------------------------------------------\n",
    "    설명\n",
    "    유저-아이템 행렬 (matrix)에서 \n",
    "    1. 0 이상의 값을 가지면 1의 값을 갖도록 binary하게 테스트 데이터를 만들고\n",
    "    2. 훈련 데이터는 원본 행렬에서 percentage 비율만큼 0으로 바뀜\n",
    "    \n",
    "    -----------------------------------------------------\n",
    "    반환\n",
    "    training_set: 훈련 데이터에서 percentage 비율만큼 0으로 바뀐 행렬\n",
    "    test_set:     원본 유저-아이템 행렬의 복사본\n",
    "    user_inds:    훈련 데이터에서 0으로 바뀐 유저의 index\n",
    "    '''\n",
    "    test_set = matrix.copy()\n",
    "    test_set[test_set !=0] = 1 # binary하게 만들기\n",
    "    \n",
    "    training_set = matrix.copy()\n",
    "    nonzero_inds = training_set.nonzero()\n",
    "    nonzero_pairs = list(zip(nonzero_inds[0], nonzero_inds[1]))\n",
    "    \n",
    "    random.seed(0)\n",
    "    num_samples = int(np.ceil(percentage * len(nonzero_pairs)))\n",
    "    samples = random.sample (nonzero_pairs, num_samples)\n",
    "    \n",
    "    user_inds = [index[0] for index in samples]\n",
    "    item_inds = [index[1] for index in samples]\n",
    "    \n",
    "    training_set[user_inds, item_inds] = 0\n",
    "    training_set.eliminate_zeros()\n",
    "    \n",
    "    return training_set, test_set, list(set(user_inds))"
   ]
  },
  {
   "cell_type": "code",
   "execution_count": 58,
   "metadata": {},
   "outputs": [],
   "source": [
    "product_train, product_test, product_users_altered = make_train(purchase_sparse, 0.2)"
   ]
  },
  {
   "cell_type": "code",
   "execution_count": 75,
   "metadata": {},
   "outputs": [
    {
     "data": {
      "text/plain": [
       "<126195x3229 sparse matrix of type '<class 'numpy.intc'>'\n",
       "\twith 134661 stored elements in Compressed Sparse Row format>"
      ]
     },
     "execution_count": 75,
     "metadata": {},
     "output_type": "execute_result"
    }
   ],
   "source": [
    "product_train"
   ]
  },
  {
   "cell_type": "code",
   "execution_count": 76,
   "metadata": {},
   "outputs": [
    {
     "data": {
      "text/plain": [
       "<126195x3229 sparse matrix of type '<class 'numpy.intc'>'\n",
       "\twith 168327 stored elements in Compressed Sparse Row format>"
      ]
     },
     "execution_count": 76,
     "metadata": {},
     "output_type": "execute_result"
    }
   ],
   "source": [
    "product_test"
   ]
  },
  {
   "cell_type": "code",
   "execution_count": 81,
   "metadata": {},
   "outputs": [
    {
     "name": "stderr",
     "output_type": "stream",
     "text": [
      "c:\\Users\\aryij\\anaconda3\\envs\\cp2\\lib\\site-packages\\implicit\\utils.py:26: UserWarning: OpenBLAS detected. Its highly recommend to set the environment variable 'export OPENBLAS_NUM_THREADS=1' to disable its internal multithreading\n",
      "  warnings.warn(\n",
      "100%|██████████| 10/10 [00:33<00:00,  3.33s/it, loss=0.000147]\n"
     ]
    }
   ],
   "source": [
    "from implicit.als import AlternatingLeastSquares\n",
    "\n",
    "model_user_item = AlternatingLeastSquares(factors=128,\n",
    "                                          random_state=42,\n",
    "                                          iterations=10,\n",
    "                                          calculate_training_loss=True,\n",
    "                                         )\n",
    "model_user_item.fit(product_train)"
   ]
  },
  {
   "cell_type": "code",
   "execution_count": 82,
   "metadata": {},
   "outputs": [],
   "source": [
    "# ALS Model"
   ]
  },
  {
   "cell_type": "code",
   "execution_count": 84,
   "metadata": {},
   "outputs": [],
   "source": [
    "user_id = 515905214"
   ]
  },
  {
   "cell_type": "code",
   "execution_count": 96,
   "metadata": {},
   "outputs": [],
   "source": [
    "user_idx = df_prac.index[df_prac[\"user_id\"] == user_id]"
   ]
  },
  {
   "cell_type": "code",
   "execution_count": 100,
   "metadata": {},
   "outputs": [
    {
     "data": {
      "text/plain": [
       "Int64Index([3516183, 3517069, 4212996, 4268014, 34692442, 34693866], dtype='int64')"
      ]
     },
     "execution_count": 100,
     "metadata": {},
     "output_type": "execute_result"
    }
   ],
   "source": [
    "user_idx"
   ]
  },
  {
   "cell_type": "code",
   "execution_count": 99,
   "metadata": {},
   "outputs": [
    {
     "ename": "IndexError",
     "evalue": "index (34693866) out of range",
     "output_type": "error",
     "traceback": [
      "\u001b[1;31m---------------------------------------------------------------------------\u001b[0m",
      "\u001b[1;31mIndexError\u001b[0m                                Traceback (most recent call last)",
      "\u001b[1;32mc:\\Users\\aryij\\Documents\\AI Bootcamp\\Codestates Project\\cp2\\ecommerce-behavior-data-analysis\\tsj_data\\als_recommend.ipynb Cell 26'\u001b[0m in \u001b[0;36m<cell line: 1>\u001b[1;34m()\u001b[0m\n\u001b[1;32m----> <a href='vscode-notebook-cell:/c%3A/Users/aryij/Documents/AI%20Bootcamp/Codestates%20Project/cp2/ecommerce-behavior-data-analysis/tsj_data/als_recommend.ipynb#ch0000043?line=0'>1</a>\u001b[0m recommendation \u001b[39m=\u001b[39m model_user_item\u001b[39m.\u001b[39mrecommend(user_idx, product_train[user_idx], N\u001b[39m=\u001b[39m\u001b[39m20\u001b[39m)\n\u001b[0;32m      <a href='vscode-notebook-cell:/c%3A/Users/aryij/Documents/AI%20Bootcamp/Codestates%20Project/cp2/ecommerce-behavior-data-analysis/tsj_data/als_recommend.ipynb#ch0000043?line=2'>3</a>\u001b[0m products\u001b[39m.\u001b[39mloc[[k[\u001b[39m0\u001b[39m] \u001b[39mfor\u001b[39;00m k \u001b[39min\u001b[39;00m recommendation], :]\n",
      "File \u001b[1;32mc:\\Users\\aryij\\anaconda3\\envs\\cp2\\lib\\site-packages\\scipy\\sparse\\_index.py:33\u001b[0m, in \u001b[0;36mIndexMixin.__getitem__\u001b[1;34m(self, key)\u001b[0m\n\u001b[0;32m     <a href='file:///c%3A/Users/aryij/anaconda3/envs/cp2/lib/site-packages/scipy/sparse/_index.py?line=31'>32</a>\u001b[0m \u001b[39mdef\u001b[39;00m \u001b[39m__getitem__\u001b[39m(\u001b[39mself\u001b[39m, key):\n\u001b[1;32m---> <a href='file:///c%3A/Users/aryij/anaconda3/envs/cp2/lib/site-packages/scipy/sparse/_index.py?line=32'>33</a>\u001b[0m     row, col \u001b[39m=\u001b[39m \u001b[39mself\u001b[39;49m\u001b[39m.\u001b[39;49m_validate_indices(key)\n\u001b[0;32m     <a href='file:///c%3A/Users/aryij/anaconda3/envs/cp2/lib/site-packages/scipy/sparse/_index.py?line=33'>34</a>\u001b[0m     \u001b[39m# Dispatch to specialized methods.\u001b[39;00m\n\u001b[0;32m     <a href='file:///c%3A/Users/aryij/anaconda3/envs/cp2/lib/site-packages/scipy/sparse/_index.py?line=34'>35</a>\u001b[0m     \u001b[39mif\u001b[39;00m \u001b[39misinstance\u001b[39m(row, INT_TYPES):\n",
      "File \u001b[1;32mc:\\Users\\aryij\\anaconda3\\envs\\cp2\\lib\\site-packages\\scipy\\sparse\\_index.py:138\u001b[0m, in \u001b[0;36mIndexMixin._validate_indices\u001b[1;34m(self, key)\u001b[0m\n\u001b[0;32m    <a href='file:///c%3A/Users/aryij/anaconda3/envs/cp2/lib/site-packages/scipy/sparse/_index.py?line=135'>136</a>\u001b[0m         row \u001b[39m+\u001b[39m\u001b[39m=\u001b[39m M\n\u001b[0;32m    <a href='file:///c%3A/Users/aryij/anaconda3/envs/cp2/lib/site-packages/scipy/sparse/_index.py?line=136'>137</a>\u001b[0m \u001b[39melif\u001b[39;00m \u001b[39mnot\u001b[39;00m \u001b[39misinstance\u001b[39m(row, \u001b[39mslice\u001b[39m):\n\u001b[1;32m--> <a href='file:///c%3A/Users/aryij/anaconda3/envs/cp2/lib/site-packages/scipy/sparse/_index.py?line=137'>138</a>\u001b[0m     row \u001b[39m=\u001b[39m \u001b[39mself\u001b[39;49m\u001b[39m.\u001b[39;49m_asindices(row, M)\n\u001b[0;32m    <a href='file:///c%3A/Users/aryij/anaconda3/envs/cp2/lib/site-packages/scipy/sparse/_index.py?line=139'>140</a>\u001b[0m \u001b[39mif\u001b[39;00m isintlike(col):\n\u001b[0;32m    <a href='file:///c%3A/Users/aryij/anaconda3/envs/cp2/lib/site-packages/scipy/sparse/_index.py?line=140'>141</a>\u001b[0m     col \u001b[39m=\u001b[39m \u001b[39mint\u001b[39m(col)\n",
      "File \u001b[1;32mc:\\Users\\aryij\\anaconda3\\envs\\cp2\\lib\\site-packages\\scipy\\sparse\\_index.py:170\u001b[0m, in \u001b[0;36mIndexMixin._asindices\u001b[1;34m(self, idx, length)\u001b[0m\n\u001b[0;32m    <a href='file:///c%3A/Users/aryij/anaconda3/envs/cp2/lib/site-packages/scipy/sparse/_index.py?line=167'>168</a>\u001b[0m max_indx \u001b[39m=\u001b[39m x\u001b[39m.\u001b[39mmax()\n\u001b[0;32m    <a href='file:///c%3A/Users/aryij/anaconda3/envs/cp2/lib/site-packages/scipy/sparse/_index.py?line=168'>169</a>\u001b[0m \u001b[39mif\u001b[39;00m max_indx \u001b[39m>\u001b[39m\u001b[39m=\u001b[39m length:\n\u001b[1;32m--> <a href='file:///c%3A/Users/aryij/anaconda3/envs/cp2/lib/site-packages/scipy/sparse/_index.py?line=169'>170</a>\u001b[0m     \u001b[39mraise\u001b[39;00m \u001b[39mIndexError\u001b[39;00m(\u001b[39m'\u001b[39m\u001b[39mindex (\u001b[39m\u001b[39m%d\u001b[39;00m\u001b[39m) out of range\u001b[39m\u001b[39m'\u001b[39m \u001b[39m%\u001b[39m max_indx)\n\u001b[0;32m    <a href='file:///c%3A/Users/aryij/anaconda3/envs/cp2/lib/site-packages/scipy/sparse/_index.py?line=171'>172</a>\u001b[0m min_indx \u001b[39m=\u001b[39m x\u001b[39m.\u001b[39mmin()\n\u001b[0;32m    <a href='file:///c%3A/Users/aryij/anaconda3/envs/cp2/lib/site-packages/scipy/sparse/_index.py?line=172'>173</a>\u001b[0m \u001b[39mif\u001b[39;00m min_indx \u001b[39m<\u001b[39m \u001b[39m0\u001b[39m:\n",
      "\u001b[1;31mIndexError\u001b[0m: index (34693866) out of range"
     ]
    }
   ],
   "source": [
    "recommendation = model_user_item.recommend(user_idx, product_train[user_idx], N=20)\n",
    "\n",
    "products.loc[[k[0] for k in recommendation], :]"
   ]
  },
  {
   "cell_type": "code",
   "execution_count": null,
   "metadata": {},
   "outputs": [],
   "source": []
  },
  {
   "cell_type": "code",
   "execution_count": null,
   "metadata": {},
   "outputs": [],
   "source": []
  },
  {
   "cell_type": "code",
   "execution_count": null,
   "metadata": {},
   "outputs": [],
   "source": []
  },
  {
   "cell_type": "code",
   "execution_count": 19,
   "metadata": {},
   "outputs": [],
   "source": [
    "class RandomModel():\n",
    "    def __init__(self):\n",
    "        self.products = None\n",
    "    \n",
    "    def train(self, products):\n",
    "        self.products = np.asarray(products)\n",
    "        return self\n",
    "\n",
    "    def recommend(self, size=(1,10)):\n",
    "        return np.random.choice(self.products, size=size, replace=False)"
   ]
  },
  {
   "cell_type": "code",
   "execution_count": 20,
   "metadata": {},
   "outputs": [],
   "source": [
    "random_model = RandomModel().train(df.index.tolist())"
   ]
  },
  {
   "cell_type": "code",
   "execution_count": 21,
   "metadata": {},
   "outputs": [
    {
     "data": {
      "text/plain": [
       "<__main__.RandomModel at 0x18fb5e7cfa0>"
      ]
     },
     "execution_count": 21,
     "metadata": {},
     "output_type": "execute_result"
    }
   ],
   "source": [
    "random_model"
   ]
  },
  {
   "cell_type": "code",
   "execution_count": 24,
   "metadata": {},
   "outputs": [],
   "source": [
    "random_rec = random_model.recommend()"
   ]
  },
  {
   "cell_type": "code",
   "execution_count": 25,
   "metadata": {},
   "outputs": [
    {
     "data": {
      "text/html": [
       "<div>\n",
       "<style scoped>\n",
       "    .dataframe tbody tr th:only-of-type {\n",
       "        vertical-align: middle;\n",
       "    }\n",
       "\n",
       "    .dataframe tbody tr th {\n",
       "        vertical-align: top;\n",
       "    }\n",
       "\n",
       "    .dataframe thead th {\n",
       "        text-align: right;\n",
       "    }\n",
       "</style>\n",
       "<table border=\"1\" class=\"dataframe\">\n",
       "  <thead>\n",
       "    <tr style=\"text-align: right;\">\n",
       "      <th></th>\n",
       "      <th>event_time</th>\n",
       "      <th>month</th>\n",
       "      <th>day</th>\n",
       "      <th>day_name</th>\n",
       "      <th>hour</th>\n",
       "      <th>event_type</th>\n",
       "      <th>product_id</th>\n",
       "      <th>category_id</th>\n",
       "      <th>category_code</th>\n",
       "      <th>brand</th>\n",
       "      <th>price</th>\n",
       "      <th>user_id</th>\n",
       "      <th>user_session</th>\n",
       "      <th>main_cat</th>\n",
       "      <th>sub_cat_1</th>\n",
       "      <th>sub_cat_2</th>\n",
       "    </tr>\n",
       "  </thead>\n",
       "  <tbody>\n",
       "    <tr>\n",
       "      <th>3155145</th>\n",
       "      <td>2019-10-03 18:49:44+04:00</td>\n",
       "      <td>10</td>\n",
       "      <td>3</td>\n",
       "      <td>Thursday</td>\n",
       "      <td>18</td>\n",
       "      <td>view</td>\n",
       "      <td>23300447</td>\n",
       "      <td>2053013561956893455</td>\n",
       "      <td>missing</td>\n",
       "      <td>missing</td>\n",
       "      <td>33.15</td>\n",
       "      <td>548792362</td>\n",
       "      <td>302ddeac-081f-4397-bf86-8440e8327d1b</td>\n",
       "      <td>missing</td>\n",
       "      <td>None</td>\n",
       "      <td>None</td>\n",
       "    </tr>\n",
       "    <tr>\n",
       "      <th>32645141</th>\n",
       "      <td>2019-10-24 15:41:55+04:00</td>\n",
       "      <td>10</td>\n",
       "      <td>24</td>\n",
       "      <td>Thursday</td>\n",
       "      <td>15</td>\n",
       "      <td>view</td>\n",
       "      <td>13901042</td>\n",
       "      <td>2053013557343158789</td>\n",
       "      <td>construction.components.faucet</td>\n",
       "      <td>no_brand</td>\n",
       "      <td>26.92</td>\n",
       "      <td>533443539</td>\n",
       "      <td>36dccc67-f8fa-46f4-8fc7-65ab33b72e25</td>\n",
       "      <td>construction</td>\n",
       "      <td>components</td>\n",
       "      <td>faucet</td>\n",
       "    </tr>\n",
       "    <tr>\n",
       "      <th>16671172</th>\n",
       "      <td>2019-10-13 15:50:36+04:00</td>\n",
       "      <td>10</td>\n",
       "      <td>13</td>\n",
       "      <td>Sunday</td>\n",
       "      <td>15</td>\n",
       "      <td>view</td>\n",
       "      <td>18700066</td>\n",
       "      <td>2053013555380224399</td>\n",
       "      <td>no_cat</td>\n",
       "      <td>sv</td>\n",
       "      <td>205.90</td>\n",
       "      <td>514487409</td>\n",
       "      <td>acea6c1b-1361-4939-b068-b92e726408a4</td>\n",
       "      <td>no_cat</td>\n",
       "      <td>None</td>\n",
       "      <td>None</td>\n",
       "    </tr>\n",
       "    <tr>\n",
       "      <th>18512307</th>\n",
       "      <td>2019-10-14 19:48:27+04:00</td>\n",
       "      <td>10</td>\n",
       "      <td>14</td>\n",
       "      <td>Monday</td>\n",
       "      <td>19</td>\n",
       "      <td>view</td>\n",
       "      <td>43900057</td>\n",
       "      <td>2127425440925614628</td>\n",
       "      <td>no_cat</td>\n",
       "      <td>bosch</td>\n",
       "      <td>123.04</td>\n",
       "      <td>516076072</td>\n",
       "      <td>ea16b310-ebcf-4972-8b52-3c70630d98b9</td>\n",
       "      <td>no_cat</td>\n",
       "      <td>None</td>\n",
       "      <td>None</td>\n",
       "    </tr>\n",
       "    <tr>\n",
       "      <th>7161383</th>\n",
       "      <td>2019-10-06 18:29:22+04:00</td>\n",
       "      <td>10</td>\n",
       "      <td>6</td>\n",
       "      <td>Sunday</td>\n",
       "      <td>18</td>\n",
       "      <td>view</td>\n",
       "      <td>3600666</td>\n",
       "      <td>2053013563810775923</td>\n",
       "      <td>appliances.kitchen.dishwasher</td>\n",
       "      <td>samsung</td>\n",
       "      <td>319.14</td>\n",
       "      <td>557383167</td>\n",
       "      <td>b9e1f8de-73db-4346-ba1e-897e022b32fc</td>\n",
       "      <td>appliances</td>\n",
       "      <td>kitchen</td>\n",
       "      <td>dishwasher</td>\n",
       "    </tr>\n",
       "    <tr>\n",
       "      <th>11369511</th>\n",
       "      <td>2019-10-09 21:40:15+04:00</td>\n",
       "      <td>10</td>\n",
       "      <td>9</td>\n",
       "      <td>Wednesday</td>\n",
       "      <td>21</td>\n",
       "      <td>view</td>\n",
       "      <td>12711054</td>\n",
       "      <td>2053013553559896355</td>\n",
       "      <td>auto.accessories.tire</td>\n",
       "      <td>tunga</td>\n",
       "      <td>39.64</td>\n",
       "      <td>549890710</td>\n",
       "      <td>530a0120-712c-40d3-bb36-6cdf08fcfddc</td>\n",
       "      <td>auto</td>\n",
       "      <td>accessories</td>\n",
       "      <td>tire</td>\n",
       "    </tr>\n",
       "    <tr>\n",
       "      <th>29908405</th>\n",
       "      <td>2019-10-22 15:45:14+04:00</td>\n",
       "      <td>10</td>\n",
       "      <td>22</td>\n",
       "      <td>Tuesday</td>\n",
       "      <td>15</td>\n",
       "      <td>view</td>\n",
       "      <td>3701370</td>\n",
       "      <td>2053013565983425517</td>\n",
       "      <td>appliances.environment.vacuum</td>\n",
       "      <td>lg</td>\n",
       "      <td>174.45</td>\n",
       "      <td>545834965</td>\n",
       "      <td>534ad2c4-3da3-431e-941e-7c5a431f95fd</td>\n",
       "      <td>appliances</td>\n",
       "      <td>environment</td>\n",
       "      <td>vacuum</td>\n",
       "    </tr>\n",
       "    <tr>\n",
       "      <th>20675268</th>\n",
       "      <td>2019-10-16 09:30:30+04:00</td>\n",
       "      <td>10</td>\n",
       "      <td>16</td>\n",
       "      <td>Wednesday</td>\n",
       "      <td>9</td>\n",
       "      <td>view</td>\n",
       "      <td>1004209</td>\n",
       "      <td>2053013555631882655</td>\n",
       "      <td>electronics.smartphone</td>\n",
       "      <td>samsung</td>\n",
       "      <td>88.80</td>\n",
       "      <td>535894680</td>\n",
       "      <td>899b4e95-4101-474f-9e55-fb25326f8d67</td>\n",
       "      <td>electronics</td>\n",
       "      <td>smartphone</td>\n",
       "      <td>None</td>\n",
       "    </tr>\n",
       "    <tr>\n",
       "      <th>7963965</th>\n",
       "      <td>2019-10-07 11:50:38+04:00</td>\n",
       "      <td>10</td>\n",
       "      <td>7</td>\n",
       "      <td>Monday</td>\n",
       "      <td>11</td>\n",
       "      <td>view</td>\n",
       "      <td>1002547</td>\n",
       "      <td>2053013555631882655</td>\n",
       "      <td>electronics.smartphone</td>\n",
       "      <td>apple</td>\n",
       "      <td>459.43</td>\n",
       "      <td>516206447</td>\n",
       "      <td>a794c940-414a-4299-987f-e2ace6fb48e7</td>\n",
       "      <td>electronics</td>\n",
       "      <td>smartphone</td>\n",
       "      <td>None</td>\n",
       "    </tr>\n",
       "    <tr>\n",
       "      <th>19552344</th>\n",
       "      <td>2019-10-15 14:25:04+04:00</td>\n",
       "      <td>10</td>\n",
       "      <td>15</td>\n",
       "      <td>Tuesday</td>\n",
       "      <td>14</td>\n",
       "      <td>view</td>\n",
       "      <td>1005104</td>\n",
       "      <td>2053013555631882655</td>\n",
       "      <td>electronics.smartphone</td>\n",
       "      <td>apple</td>\n",
       "      <td>1007.97</td>\n",
       "      <td>556282848</td>\n",
       "      <td>141c09d5-36ca-44ab-876e-99ffc5b805b8</td>\n",
       "      <td>electronics</td>\n",
       "      <td>smartphone</td>\n",
       "      <td>None</td>\n",
       "    </tr>\n",
       "  </tbody>\n",
       "</table>\n",
       "</div>"
      ],
      "text/plain": [
       "                        event_time  month  day   day_name  hour event_type  \\\n",
       "3155145  2019-10-03 18:49:44+04:00     10    3   Thursday    18       view   \n",
       "32645141 2019-10-24 15:41:55+04:00     10   24   Thursday    15       view   \n",
       "16671172 2019-10-13 15:50:36+04:00     10   13     Sunday    15       view   \n",
       "18512307 2019-10-14 19:48:27+04:00     10   14     Monday    19       view   \n",
       "7161383  2019-10-06 18:29:22+04:00     10    6     Sunday    18       view   \n",
       "11369511 2019-10-09 21:40:15+04:00     10    9  Wednesday    21       view   \n",
       "29908405 2019-10-22 15:45:14+04:00     10   22    Tuesday    15       view   \n",
       "20675268 2019-10-16 09:30:30+04:00     10   16  Wednesday     9       view   \n",
       "7963965  2019-10-07 11:50:38+04:00     10    7     Monday    11       view   \n",
       "19552344 2019-10-15 14:25:04+04:00     10   15    Tuesday    14       view   \n",
       "\n",
       "          product_id          category_id                   category_code  \\\n",
       "3155145     23300447  2053013561956893455                         missing   \n",
       "32645141    13901042  2053013557343158789  construction.components.faucet   \n",
       "16671172    18700066  2053013555380224399                          no_cat   \n",
       "18512307    43900057  2127425440925614628                          no_cat   \n",
       "7161383      3600666  2053013563810775923   appliances.kitchen.dishwasher   \n",
       "11369511    12711054  2053013553559896355           auto.accessories.tire   \n",
       "29908405     3701370  2053013565983425517   appliances.environment.vacuum   \n",
       "20675268     1004209  2053013555631882655          electronics.smartphone   \n",
       "7963965      1002547  2053013555631882655          electronics.smartphone   \n",
       "19552344     1005104  2053013555631882655          electronics.smartphone   \n",
       "\n",
       "             brand    price    user_id                          user_session  \\\n",
       "3155145    missing    33.15  548792362  302ddeac-081f-4397-bf86-8440e8327d1b   \n",
       "32645141  no_brand    26.92  533443539  36dccc67-f8fa-46f4-8fc7-65ab33b72e25   \n",
       "16671172        sv   205.90  514487409  acea6c1b-1361-4939-b068-b92e726408a4   \n",
       "18512307     bosch   123.04  516076072  ea16b310-ebcf-4972-8b52-3c70630d98b9   \n",
       "7161383    samsung   319.14  557383167  b9e1f8de-73db-4346-ba1e-897e022b32fc   \n",
       "11369511     tunga    39.64  549890710  530a0120-712c-40d3-bb36-6cdf08fcfddc   \n",
       "29908405        lg   174.45  545834965  534ad2c4-3da3-431e-941e-7c5a431f95fd   \n",
       "20675268   samsung    88.80  535894680  899b4e95-4101-474f-9e55-fb25326f8d67   \n",
       "7963965      apple   459.43  516206447  a794c940-414a-4299-987f-e2ace6fb48e7   \n",
       "19552344     apple  1007.97  556282848  141c09d5-36ca-44ab-876e-99ffc5b805b8   \n",
       "\n",
       "              main_cat    sub_cat_1   sub_cat_2  \n",
       "3155145        missing         None        None  \n",
       "32645141  construction   components      faucet  \n",
       "16671172        no_cat         None        None  \n",
       "18512307        no_cat         None        None  \n",
       "7161383     appliances      kitchen  dishwasher  \n",
       "11369511          auto  accessories        tire  \n",
       "29908405    appliances  environment      vacuum  \n",
       "20675268   electronics   smartphone        None  \n",
       "7963965    electronics   smartphone        None  \n",
       "19552344   electronics   smartphone        None  "
      ]
     },
     "execution_count": 25,
     "metadata": {},
     "output_type": "execute_result"
    }
   ],
   "source": [
    "df.loc[random_rec[0].tolist(), :]"
   ]
  },
  {
   "cell_type": "code",
   "execution_count": null,
   "metadata": {},
   "outputs": [],
   "source": []
  }
 ],
 "metadata": {
  "interpreter": {
   "hash": "082be1bbb8cf51e79f7eecb97b4a3116b1b28bb6664706b22c0c7433d973cc3c"
  },
  "kernelspec": {
   "display_name": "Python 3.8.13 ('cp2')",
   "language": "python",
   "name": "python3"
  },
  "language_info": {
   "codemirror_mode": {
    "name": "ipython",
    "version": 3
   },
   "file_extension": ".py",
   "mimetype": "text/x-python",
   "name": "python",
   "nbconvert_exporter": "python",
   "pygments_lexer": "ipython3",
   "version": "3.8.13"
  },
  "orig_nbformat": 4
 },
 "nbformat": 4,
 "nbformat_minor": 2
}
