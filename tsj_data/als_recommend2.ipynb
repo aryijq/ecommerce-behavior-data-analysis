{
 "cells": [
  {
   "cell_type": "code",
   "execution_count": 1,
   "metadata": {},
   "outputs": [
    {
     "name": "stdout",
     "output_type": "stream",
     "text": [
      "Note: you may need to restart the kernel to use updated packages.\n"
     ]
    }
   ],
   "source": [
    "pip install implicit umap-learn -q"
   ]
  },
  {
   "cell_type": "code",
   "execution_count": 3,
   "metadata": {},
   "outputs": [
    {
     "name": "stderr",
     "output_type": "stream",
     "text": [
      "c:\\Users\\aryij\\anaconda3\\envs\\cp2\\lib\\site-packages\\tqdm\\auto.py:22: TqdmWarning: IProgress not found. Please update jupyter and ipywidgets. See https://ipywidgets.readthedocs.io/en/stable/user_install.html\n",
      "  from .autonotebook import tqdm as notebook_tqdm\n"
     ]
    }
   ],
   "source": [
    "from implicit.als import AlternatingLeastSquares\n",
    "from implicit.nearest_neighbours import bm25_weight\n",
    "import numpy as np\n",
    "import matplotlib.pyplot as plt\n",
    "import pandas as pd\n",
    "import plotly.graph_objects as go\n",
    "from umap import UMAP\n",
    "from scipy.sparse import csr_matrix\n",
    "import scipy.sparse as sparse\n",
    "from scipy.sparse.linalg import spsolve\n",
    "import random"
   ]
  },
  {
   "cell_type": "markdown",
   "metadata": {},
   "source": [
    "## 데이터프레임 로드"
   ]
  },
  {
   "cell_type": "code",
   "execution_count": 4,
   "metadata": {},
   "outputs": [],
   "source": [
    "# parquet_path = \"/content/drive/MyDrive/Colab Notebooks/Datasets/cp2_ecommerce/df_mv_filled.parquet\"\n",
    "parquet_path = \"D:/cp2_dataset/df_cat_add.parquet\"\n",
    "df = pd.read_parquet(parquet_path, engine='pyarrow')"
   ]
  },
  {
   "cell_type": "code",
   "execution_count": 5,
   "metadata": {},
   "outputs": [
    {
     "data": {
      "text/html": [
       "<div>\n",
       "<style scoped>\n",
       "    .dataframe tbody tr th:only-of-type {\n",
       "        vertical-align: middle;\n",
       "    }\n",
       "\n",
       "    .dataframe tbody tr th {\n",
       "        vertical-align: top;\n",
       "    }\n",
       "\n",
       "    .dataframe thead th {\n",
       "        text-align: right;\n",
       "    }\n",
       "</style>\n",
       "<table border=\"1\" class=\"dataframe\">\n",
       "  <thead>\n",
       "    <tr style=\"text-align: right;\">\n",
       "      <th></th>\n",
       "      <th>event_time</th>\n",
       "      <th>month</th>\n",
       "      <th>day</th>\n",
       "      <th>day_name</th>\n",
       "      <th>hour</th>\n",
       "      <th>event_type</th>\n",
       "      <th>product_id</th>\n",
       "      <th>category_id</th>\n",
       "      <th>category_code</th>\n",
       "      <th>brand</th>\n",
       "      <th>price</th>\n",
       "      <th>user_id</th>\n",
       "      <th>user_session</th>\n",
       "      <th>main_cat</th>\n",
       "      <th>sub_cat_1</th>\n",
       "      <th>sub_cat_2</th>\n",
       "    </tr>\n",
       "  </thead>\n",
       "  <tbody>\n",
       "    <tr>\n",
       "      <th>0</th>\n",
       "      <td>2019-10-01 04:00:00+04:00</td>\n",
       "      <td>10</td>\n",
       "      <td>1</td>\n",
       "      <td>Tuesday</td>\n",
       "      <td>4</td>\n",
       "      <td>view</td>\n",
       "      <td>44600062</td>\n",
       "      <td>2103807459595387724</td>\n",
       "      <td>no_cat</td>\n",
       "      <td>shiseido</td>\n",
       "      <td>35.79</td>\n",
       "      <td>541312140</td>\n",
       "      <td>72d76fde-8bb3-4e00-8c23-a032dfed738c</td>\n",
       "      <td>no_cat</td>\n",
       "      <td>None</td>\n",
       "      <td>None</td>\n",
       "    </tr>\n",
       "    <tr>\n",
       "      <th>1</th>\n",
       "      <td>2019-10-01 04:00:00+04:00</td>\n",
       "      <td>10</td>\n",
       "      <td>1</td>\n",
       "      <td>Tuesday</td>\n",
       "      <td>4</td>\n",
       "      <td>view</td>\n",
       "      <td>3900821</td>\n",
       "      <td>2053013552326770905</td>\n",
       "      <td>appliances.environment.water_heater</td>\n",
       "      <td>aqua</td>\n",
       "      <td>33.20</td>\n",
       "      <td>554748717</td>\n",
       "      <td>9333dfbd-b87a-4708-9857-6336556b0fcc</td>\n",
       "      <td>appliances</td>\n",
       "      <td>environment</td>\n",
       "      <td>water_heater</td>\n",
       "    </tr>\n",
       "    <tr>\n",
       "      <th>2</th>\n",
       "      <td>2019-10-01 04:00:01+04:00</td>\n",
       "      <td>10</td>\n",
       "      <td>1</td>\n",
       "      <td>Tuesday</td>\n",
       "      <td>4</td>\n",
       "      <td>view</td>\n",
       "      <td>17200506</td>\n",
       "      <td>2053013559792632471</td>\n",
       "      <td>furniture.living_room.sofa</td>\n",
       "      <td>no_brand</td>\n",
       "      <td>543.10</td>\n",
       "      <td>519107250</td>\n",
       "      <td>566511c2-e2e3-422b-b695-cf8e6e792ca8</td>\n",
       "      <td>furniture</td>\n",
       "      <td>living_room</td>\n",
       "      <td>sofa</td>\n",
       "    </tr>\n",
       "  </tbody>\n",
       "</table>\n",
       "</div>"
      ],
      "text/plain": [
       "                 event_time  month  day day_name  hour event_type  product_id  \\\n",
       "0 2019-10-01 04:00:00+04:00     10    1  Tuesday     4       view    44600062   \n",
       "1 2019-10-01 04:00:00+04:00     10    1  Tuesday     4       view     3900821   \n",
       "2 2019-10-01 04:00:01+04:00     10    1  Tuesday     4       view    17200506   \n",
       "\n",
       "           category_id                        category_code     brand   price  \\\n",
       "0  2103807459595387724                               no_cat  shiseido   35.79   \n",
       "1  2053013552326770905  appliances.environment.water_heater      aqua   33.20   \n",
       "2  2053013559792632471           furniture.living_room.sofa  no_brand  543.10   \n",
       "\n",
       "     user_id                          user_session    main_cat    sub_cat_1  \\\n",
       "0  541312140  72d76fde-8bb3-4e00-8c23-a032dfed738c      no_cat         None   \n",
       "1  554748717  9333dfbd-b87a-4708-9857-6336556b0fcc  appliances  environment   \n",
       "2  519107250  566511c2-e2e3-422b-b695-cf8e6e792ca8   furniture  living_room   \n",
       "\n",
       "      sub_cat_2  \n",
       "0          None  \n",
       "1  water_heater  \n",
       "2          sofa  "
      ]
     },
     "execution_count": 5,
     "metadata": {},
     "output_type": "execute_result"
    }
   ],
   "source": [
    "df.head(3)"
   ]
  },
  {
   "cell_type": "markdown",
   "metadata": {},
   "source": [
    "### event_type = cart, day_name = 금, 토, 일 데이터만 사용"
   ]
  },
  {
   "cell_type": "code",
   "execution_count": 6,
   "metadata": {},
   "outputs": [],
   "source": [
    "cart_cond = (df[\"event_type\"] == \"cart\")\n",
    "df_cart = df[cart_cond]"
   ]
  },
  {
   "cell_type": "code",
   "execution_count": 6,
   "metadata": {},
   "outputs": [
    {
     "data": {
      "text/plain": [
       "((42380091, 16), (926366, 16))"
      ]
     },
     "execution_count": 6,
     "metadata": {},
     "output_type": "execute_result"
    }
   ],
   "source": [
    "df.shape, df_cart.shape"
   ]
  },
  {
   "cell_type": "code",
   "execution_count": 7,
   "metadata": {},
   "outputs": [],
   "source": [
    "sub_cat_1 = (df_cart[\"sub_cat_1\"] == \"smartphone\") \\\n",
    "            | (df_cart[\"sub_cat_1\"] == \"video\") \\\n",
    "            | (df_cart[\"sub_cat_1\"] == \"notebook\") \\\n",
    "            | (df_cart[\"sub_cat_1\"] == \"kitchen\")\n",
    "\n",
    "day_cond = (df_cart[\"day_name\"] == \"Friday\") \\\n",
    "           | (df_cart[\"day_name\"] == \"Saturday\") \\\n",
    "           | (df_cart[\"day_name\"] == \"Sunday\") "
   ]
  },
  {
   "cell_type": "code",
   "execution_count": 8,
   "metadata": {},
   "outputs": [
    {
     "data": {
      "text/plain": [
       "(296936, 16)"
      ]
     },
     "execution_count": 8,
     "metadata": {},
     "output_type": "execute_result"
    }
   ],
   "source": [
    "df_cart_cat = df_cart.loc[sub_cat_1]\n",
    "df_day = df_cart_cat.loc[day_cond]\n",
    "df_day.shape"
   ]
  },
  {
   "cell_type": "code",
   "execution_count": 100,
   "metadata": {},
   "outputs": [],
   "source": [
    "cart_day = df_day[[\"product_id\",\"user_id\"]]"
   ]
  },
  {
   "cell_type": "markdown",
   "metadata": {},
   "source": [
    "### counting을 위해 count 칼럼 생성"
   ]
  },
  {
   "cell_type": "code",
   "execution_count": 101,
   "metadata": {},
   "outputs": [
    {
     "name": "stderr",
     "output_type": "stream",
     "text": [
      "c:\\Users\\aryij\\anaconda3\\envs\\cp2\\lib\\site-packages\\pandas\\core\\frame.py:3607: SettingWithCopyWarning: \n",
      "A value is trying to be set on a copy of a slice from a DataFrame.\n",
      "Try using .loc[row_indexer,col_indexer] = value instead\n",
      "\n",
      "See the caveats in the documentation: https://pandas.pydata.org/pandas-docs/stable/user_guide/indexing.html#returning-a-view-versus-a-copy\n",
      "  self._set_item(key, value)\n"
     ]
    }
   ],
   "source": [
    "cart_day.loc[:, \"count\"] = 1"
   ]
  },
  {
   "cell_type": "code",
   "execution_count": 102,
   "metadata": {},
   "outputs": [
    {
     "data": {
      "text/html": [
       "<div>\n",
       "<style scoped>\n",
       "    .dataframe tbody tr th:only-of-type {\n",
       "        vertical-align: middle;\n",
       "    }\n",
       "\n",
       "    .dataframe tbody tr th {\n",
       "        vertical-align: top;\n",
       "    }\n",
       "\n",
       "    .dataframe thead th {\n",
       "        text-align: right;\n",
       "    }\n",
       "</style>\n",
       "<table border=\"1\" class=\"dataframe\">\n",
       "  <thead>\n",
       "    <tr style=\"text-align: right;\">\n",
       "      <th></th>\n",
       "      <th>product_id</th>\n",
       "      <th>user_id</th>\n",
       "      <th>count</th>\n",
       "    </tr>\n",
       "  </thead>\n",
       "  <tbody>\n",
       "    <tr>\n",
       "      <th>3515590</th>\n",
       "      <td>1005136</td>\n",
       "      <td>512433763</td>\n",
       "      <td>1</td>\n",
       "    </tr>\n",
       "    <tr>\n",
       "      <th>3515915</th>\n",
       "      <td>1003310</td>\n",
       "      <td>556510717</td>\n",
       "      <td>1</td>\n",
       "    </tr>\n",
       "    <tr>\n",
       "      <th>3516066</th>\n",
       "      <td>1005141</td>\n",
       "      <td>514302701</td>\n",
       "      <td>1</td>\n",
       "    </tr>\n",
       "  </tbody>\n",
       "</table>\n",
       "</div>"
      ],
      "text/plain": [
       "         product_id    user_id  count\n",
       "3515590     1005136  512433763      1\n",
       "3515915     1003310  556510717      1\n",
       "3516066     1005141  514302701      1"
      ]
     },
     "execution_count": 102,
     "metadata": {},
     "output_type": "execute_result"
    }
   ],
   "source": [
    "cart_day.head(3)"
   ]
  },
  {
   "cell_type": "code",
   "execution_count": 20,
   "metadata": {},
   "outputs": [
    {
     "data": {
      "text/plain": [
       "(296936, 3)"
      ]
     },
     "execution_count": 20,
     "metadata": {},
     "output_type": "execute_result"
    }
   ],
   "source": [
    "cart_day.shape"
   ]
  },
  {
   "cell_type": "markdown",
   "metadata": {},
   "source": [
    "### product_id에 따른 설명 테이블 item_lookup 생성"
   ]
  },
  {
   "cell_type": "code",
   "execution_count": 136,
   "metadata": {},
   "outputs": [
    {
     "data": {
      "text/html": [
       "<div>\n",
       "<style scoped>\n",
       "    .dataframe tbody tr th:only-of-type {\n",
       "        vertical-align: middle;\n",
       "    }\n",
       "\n",
       "    .dataframe tbody tr th {\n",
       "        vertical-align: top;\n",
       "    }\n",
       "\n",
       "    .dataframe thead th {\n",
       "        text-align: right;\n",
       "    }\n",
       "</style>\n",
       "<table border=\"1\" class=\"dataframe\">\n",
       "  <thead>\n",
       "    <tr style=\"text-align: right;\">\n",
       "      <th></th>\n",
       "      <th>product_id</th>\n",
       "      <th>main_cat</th>\n",
       "      <th>sub_cat_1</th>\n",
       "      <th>sub_cat_2</th>\n",
       "      <th>brand</th>\n",
       "    </tr>\n",
       "  </thead>\n",
       "  <tbody>\n",
       "    <tr>\n",
       "      <th>3515590</th>\n",
       "      <td>1005136</td>\n",
       "      <td>electronics</td>\n",
       "      <td>smartphone</td>\n",
       "      <td>None</td>\n",
       "      <td>apple</td>\n",
       "    </tr>\n",
       "    <tr>\n",
       "      <th>3515915</th>\n",
       "      <td>1003310</td>\n",
       "      <td>electronics</td>\n",
       "      <td>smartphone</td>\n",
       "      <td>None</td>\n",
       "      <td>apple</td>\n",
       "    </tr>\n",
       "    <tr>\n",
       "      <th>3516066</th>\n",
       "      <td>1005141</td>\n",
       "      <td>electronics</td>\n",
       "      <td>smartphone</td>\n",
       "      <td>None</td>\n",
       "      <td>apple</td>\n",
       "    </tr>\n",
       "    <tr>\n",
       "      <th>3516110</th>\n",
       "      <td>1004945</td>\n",
       "      <td>electronics</td>\n",
       "      <td>smartphone</td>\n",
       "      <td>None</td>\n",
       "      <td>samsung</td>\n",
       "    </tr>\n",
       "    <tr>\n",
       "      <th>3516183</th>\n",
       "      <td>1005118</td>\n",
       "      <td>electronics</td>\n",
       "      <td>smartphone</td>\n",
       "      <td>None</td>\n",
       "      <td>apple</td>\n",
       "    </tr>\n",
       "  </tbody>\n",
       "</table>\n",
       "</div>"
      ],
      "text/plain": [
       "         product_id     main_cat   sub_cat_1 sub_cat_2    brand\n",
       "3515590     1005136  electronics  smartphone      None    apple\n",
       "3515915     1003310  electronics  smartphone      None    apple\n",
       "3516066     1005141  electronics  smartphone      None    apple\n",
       "3516110     1004945  electronics  smartphone      None  samsung\n",
       "3516183     1005118  electronics  smartphone      None    apple"
      ]
     },
     "execution_count": 136,
     "metadata": {},
     "output_type": "execute_result"
    }
   ],
   "source": [
    "item_lookup = df_day[['product_id','main_cat', \"sub_cat_1\", \"sub_cat_2\", \"brand\"]].drop_duplicates()\n",
    "item_lookup.head()"
   ]
  },
  {
   "cell_type": "code",
   "execution_count": 104,
   "metadata": {},
   "outputs": [
    {
     "data": {
      "text/html": [
       "<div>\n",
       "<style scoped>\n",
       "    .dataframe tbody tr th:only-of-type {\n",
       "        vertical-align: middle;\n",
       "    }\n",
       "\n",
       "    .dataframe tbody tr th {\n",
       "        vertical-align: top;\n",
       "    }\n",
       "\n",
       "    .dataframe thead th {\n",
       "        text-align: right;\n",
       "    }\n",
       "</style>\n",
       "<table border=\"1\" class=\"dataframe\">\n",
       "  <thead>\n",
       "    <tr style=\"text-align: right;\">\n",
       "      <th></th>\n",
       "      <th>user_id</th>\n",
       "      <th>product_id</th>\n",
       "      <th>count</th>\n",
       "    </tr>\n",
       "  </thead>\n",
       "  <tbody>\n",
       "    <tr>\n",
       "      <th>0</th>\n",
       "      <td>284344819</td>\n",
       "      <td>1005122</td>\n",
       "      <td>1</td>\n",
       "    </tr>\n",
       "    <tr>\n",
       "      <th>1</th>\n",
       "      <td>318611205</td>\n",
       "      <td>1005003</td>\n",
       "      <td>1</td>\n",
       "    </tr>\n",
       "    <tr>\n",
       "      <th>2</th>\n",
       "      <td>336595257</td>\n",
       "      <td>1004767</td>\n",
       "      <td>2</td>\n",
       "    </tr>\n",
       "    <tr>\n",
       "      <th>3</th>\n",
       "      <td>403013066</td>\n",
       "      <td>1003304</td>\n",
       "      <td>2</td>\n",
       "    </tr>\n",
       "    <tr>\n",
       "      <th>4</th>\n",
       "      <td>403013066</td>\n",
       "      <td>1004836</td>\n",
       "      <td>1</td>\n",
       "    </tr>\n",
       "  </tbody>\n",
       "</table>\n",
       "</div>"
      ],
      "text/plain": [
       "     user_id  product_id  count\n",
       "0  284344819     1005122      1\n",
       "1  318611205     1005003      1\n",
       "2  336595257     1004767      2\n",
       "3  403013066     1003304      2\n",
       "4  403013066     1004836      1"
      ]
     },
     "execution_count": 104,
     "metadata": {},
     "output_type": "execute_result"
    }
   ],
   "source": [
    "# 고객과 아이템 별로 총 얼마나 구매했는지 \n",
    "grouped_cart = cart_day.groupby(['user_id','product_id'])[\"count\"].sum().reset_index()\n",
    "\n",
    "grouped_cart.head(5)"
   ]
  },
  {
   "cell_type": "code",
   "execution_count": 14,
   "metadata": {},
   "outputs": [
    {
     "data": {
      "text/plain": [
       "(168327, 3)"
      ]
     },
     "execution_count": 14,
     "metadata": {},
     "output_type": "execute_result"
    }
   ],
   "source": [
    "grouped_cart.shape"
   ]
  },
  {
   "cell_type": "markdown",
   "metadata": {},
   "source": [
    "### ALS 알고리즘의 입력값 형태 만들기 위해, 희소 행렬 생성\n",
    "- 희소 행렬\n",
    "    - row : 유니크한 user_id\n",
    "    - column : 유니크한 product_id\n",
    "    - 행렬의 값은 유저가 각 제품 구매한 횟수"
   ]
  },
  {
   "cell_type": "code",
   "execution_count": 105,
   "metadata": {},
   "outputs": [
    {
     "name": "stdout",
     "output_type": "stream",
     "text": [
      "126195\n",
      "3229\n"
     ]
    }
   ],
   "source": [
    "# matrix가 매우 크기 때문에 Sparse matrix로 바꾸어주어서\n",
    "# zero가 아닌 값들의 위치와 그 값만 저장하도록 메모리 절약!\n",
    "\n",
    "users = list(np.sort(grouped_cart['user_id'].unique()))\n",
    "products = list (grouped_cart['product_id'].unique())\n",
    "counts = list(grouped_cart['count'])\n",
    "\n",
    "rows = grouped_cart['user_id'].astype('category').cat.codes\n",
    "cols = grouped_cart['product_id'].astype('category').cat.codes\n",
    "\n",
    "print(len(users))  # 126195\n",
    "print(len(products)) # 3229\n",
    "\n",
    "# The implicit library expects data as a item-user matrix so we\n",
    "# create two matricies, one for fitting the model (item-user) \n",
    "# and one for recommendations (user-item)\n",
    "sparse_item_user = sparse.csr_matrix((grouped_cart['product_id'].astype(float), (cols, rows)))\n",
    "# sparse_user_item = sparse.csr_matrix((grouped_cart['product_id'].astype(float), (rows, cols)))"
   ]
  },
  {
   "cell_type": "code",
   "execution_count": 93,
   "metadata": {},
   "outputs": [],
   "source": [
    "bm25_sparse_item_user = bm25_weight(sparse_item_user, K1=100, B=0.8)\n",
    "sparse_user_item = bm25_sparse_item_user.T.tocsr()"
   ]
  },
  {
   "cell_type": "markdown",
   "metadata": {},
   "source": [
    "## 모델링"
   ]
  },
  {
   "cell_type": "markdown",
   "metadata": {},
   "source": [
    "#### Random Model (Base line)"
   ]
  },
  {
   "cell_type": "code",
   "execution_count": 106,
   "metadata": {},
   "outputs": [],
   "source": [
    "class RandomModel():\n",
    "    def __init__(self):\n",
    "        self.products = None\n",
    "    \n",
    "    def train(self, products):\n",
    "        self.products = np.asarray(products)\n",
    "        return self\n",
    "\n",
    "    def recommend(self, size=(1,10)):\n",
    "        return np.random.choice(self.products, size=size, replace=False)"
   ]
  },
  {
   "cell_type": "code",
   "execution_count": 139,
   "metadata": {},
   "outputs": [],
   "source": [
    "random_model = RandomModel().train(item_lookup.index.tolist())"
   ]
  },
  {
   "cell_type": "markdown",
   "metadata": {},
   "source": [
    "### Alternating Least Squares (ALS) model"
   ]
  },
  {
   "cell_type": "code",
   "execution_count": 146,
   "metadata": {},
   "outputs": [
    {
     "name": "stderr",
     "output_type": "stream",
     "text": [
      "100%|██████████| 10/10 [00:30<00:00,  3.04s/it, loss=0.0106]\n"
     ]
    }
   ],
   "source": [
    "model = AlternatingLeastSquares(factors=64,\n",
    "                                regularization=0.05,\n",
    "                                iterations=10, \n",
    "                                calculate_training_loss=True)\n",
    "model.fit(2 * sparse_user_item)"
   ]
  },
  {
   "cell_type": "markdown",
   "metadata": {},
   "source": [
    "## Evaluation"
   ]
  },
  {
   "cell_type": "markdown",
   "metadata": {},
   "source": [
    "#### Random Model"
   ]
  },
  {
   "cell_type": "code",
   "execution_count": 148,
   "metadata": {},
   "outputs": [
    {
     "data": {
      "text/html": [
       "<div>\n",
       "<style scoped>\n",
       "    .dataframe tbody tr th:only-of-type {\n",
       "        vertical-align: middle;\n",
       "    }\n",
       "\n",
       "    .dataframe tbody tr th {\n",
       "        vertical-align: top;\n",
       "    }\n",
       "\n",
       "    .dataframe thead th {\n",
       "        text-align: right;\n",
       "    }\n",
       "</style>\n",
       "<table border=\"1\" class=\"dataframe\">\n",
       "  <thead>\n",
       "    <tr style=\"text-align: right;\">\n",
       "      <th></th>\n",
       "      <th>product_id</th>\n",
       "      <th>main_cat</th>\n",
       "      <th>sub_cat_1</th>\n",
       "      <th>sub_cat_2</th>\n",
       "      <th>brand</th>\n",
       "    </tr>\n",
       "  </thead>\n",
       "  <tbody>\n",
       "    <tr>\n",
       "      <th>33365081</th>\n",
       "      <td>1005182</td>\n",
       "      <td>electronics</td>\n",
       "      <td>smartphone</td>\n",
       "      <td>None</td>\n",
       "      <td>samsung</td>\n",
       "    </tr>\n",
       "    <tr>\n",
       "      <th>23349166</th>\n",
       "      <td>1005210</td>\n",
       "      <td>electronics</td>\n",
       "      <td>smartphone</td>\n",
       "      <td>None</td>\n",
       "      <td>jinga</td>\n",
       "    </tr>\n",
       "    <tr>\n",
       "      <th>17300083</th>\n",
       "      <td>1005215</td>\n",
       "      <td>electronics</td>\n",
       "      <td>smartphone</td>\n",
       "      <td>None</td>\n",
       "      <td>samsung</td>\n",
       "    </tr>\n",
       "    <tr>\n",
       "      <th>35085713</th>\n",
       "      <td>2601752</td>\n",
       "      <td>appliances</td>\n",
       "      <td>kitchen</td>\n",
       "      <td>cooker</td>\n",
       "      <td>artel</td>\n",
       "    </tr>\n",
       "    <tr>\n",
       "      <th>3616329</th>\n",
       "      <td>1003965</td>\n",
       "      <td>electronics</td>\n",
       "      <td>smartphone</td>\n",
       "      <td>None</td>\n",
       "      <td>samsung</td>\n",
       "    </tr>\n",
       "    <tr>\n",
       "      <th>23468316</th>\n",
       "      <td>1801883</td>\n",
       "      <td>electronics</td>\n",
       "      <td>video</td>\n",
       "      <td>tv</td>\n",
       "      <td>philips</td>\n",
       "    </tr>\n",
       "    <tr>\n",
       "      <th>5795764</th>\n",
       "      <td>4501432</td>\n",
       "      <td>appliances</td>\n",
       "      <td>kitchen</td>\n",
       "      <td>hob</td>\n",
       "      <td>bosch</td>\n",
       "    </tr>\n",
       "    <tr>\n",
       "      <th>24221621</th>\n",
       "      <td>3601612</td>\n",
       "      <td>appliances</td>\n",
       "      <td>kitchen</td>\n",
       "      <td>dishwasher</td>\n",
       "      <td>lg</td>\n",
       "    </tr>\n",
       "    <tr>\n",
       "      <th>34428968</th>\n",
       "      <td>15902204</td>\n",
       "      <td>furniture</td>\n",
       "      <td>kitchen</td>\n",
       "      <td>pan</td>\n",
       "      <td>tefal</td>\n",
       "    </tr>\n",
       "    <tr>\n",
       "      <th>23497628</th>\n",
       "      <td>1801796</td>\n",
       "      <td>electronics</td>\n",
       "      <td>video</td>\n",
       "      <td>tv</td>\n",
       "      <td>elenberg</td>\n",
       "    </tr>\n",
       "  </tbody>\n",
       "</table>\n",
       "</div>"
      ],
      "text/plain": [
       "          product_id     main_cat   sub_cat_1   sub_cat_2     brand\n",
       "33365081     1005182  electronics  smartphone        None   samsung\n",
       "23349166     1005210  electronics  smartphone        None     jinga\n",
       "17300083     1005215  electronics  smartphone        None   samsung\n",
       "35085713     2601752   appliances     kitchen      cooker     artel\n",
       "3616329      1003965  electronics  smartphone        None   samsung\n",
       "23468316     1801883  electronics       video          tv   philips\n",
       "5795764      4501432   appliances     kitchen         hob     bosch\n",
       "24221621     3601612   appliances     kitchen  dishwasher        lg\n",
       "34428968    15902204    furniture     kitchen         pan     tefal\n",
       "23497628     1801796  electronics       video          tv  elenberg"
      ]
     },
     "execution_count": 148,
     "metadata": {},
     "output_type": "execute_result"
    }
   ],
   "source": [
    "random_rec = random_model.recommend()\n",
    "\n",
    "item_lookup.loc[random_rec[0].tolist(), :]"
   ]
  },
  {
   "cell_type": "markdown",
   "metadata": {},
   "source": [
    "#### ALS Model"
   ]
  },
  {
   "cell_type": "code",
   "execution_count": 110,
   "metadata": {},
   "outputs": [],
   "source": [
    "user_id = 539016593"
   ]
  },
  {
   "cell_type": "markdown",
   "metadata": {},
   "source": [
    "##### 해당 user_id가 실제 cart에 가장 많이 넣은 제품들"
   ]
  },
  {
   "cell_type": "code",
   "execution_count": 145,
   "metadata": {},
   "outputs": [
    {
     "data": {
      "text/html": [
       "<div>\n",
       "<style scoped>\n",
       "    .dataframe tbody tr th:only-of-type {\n",
       "        vertical-align: middle;\n",
       "    }\n",
       "\n",
       "    .dataframe tbody tr th {\n",
       "        vertical-align: top;\n",
       "    }\n",
       "\n",
       "    .dataframe thead th {\n",
       "        text-align: right;\n",
       "    }\n",
       "</style>\n",
       "<table border=\"1\" class=\"dataframe\">\n",
       "  <thead>\n",
       "    <tr style=\"text-align: right;\">\n",
       "      <th></th>\n",
       "      <th>product_id</th>\n",
       "      <th>main_cat</th>\n",
       "      <th>sub_cat_1</th>\n",
       "      <th>sub_cat_2</th>\n",
       "      <th>brand</th>\n",
       "      <th>counts</th>\n",
       "    </tr>\n",
       "  </thead>\n",
       "  <tbody>\n",
       "    <tr>\n",
       "      <th>0</th>\n",
       "      <td>1802037</td>\n",
       "      <td>electronics</td>\n",
       "      <td>video</td>\n",
       "      <td>tv</td>\n",
       "      <td>lg</td>\n",
       "      <td>6</td>\n",
       "    </tr>\n",
       "    <tr>\n",
       "      <th>1</th>\n",
       "      <td>1005100</td>\n",
       "      <td>electronics</td>\n",
       "      <td>smartphone</td>\n",
       "      <td>None</td>\n",
       "      <td>samsung</td>\n",
       "      <td>4</td>\n",
       "    </tr>\n",
       "    <tr>\n",
       "      <th>2</th>\n",
       "      <td>1004809</td>\n",
       "      <td>electronics</td>\n",
       "      <td>smartphone</td>\n",
       "      <td>None</td>\n",
       "      <td>xiaomi</td>\n",
       "      <td>3</td>\n",
       "    </tr>\n",
       "    <tr>\n",
       "      <th>3</th>\n",
       "      <td>1004777</td>\n",
       "      <td>electronics</td>\n",
       "      <td>smartphone</td>\n",
       "      <td>None</td>\n",
       "      <td>xiaomi</td>\n",
       "      <td>3</td>\n",
       "    </tr>\n",
       "    <tr>\n",
       "      <th>4</th>\n",
       "      <td>1005204</td>\n",
       "      <td>electronics</td>\n",
       "      <td>smartphone</td>\n",
       "      <td>None</td>\n",
       "      <td>xiaomi</td>\n",
       "      <td>3</td>\n",
       "    </tr>\n",
       "    <tr>\n",
       "      <th>5</th>\n",
       "      <td>1004838</td>\n",
       "      <td>electronics</td>\n",
       "      <td>smartphone</td>\n",
       "      <td>None</td>\n",
       "      <td>oppo</td>\n",
       "      <td>2</td>\n",
       "    </tr>\n",
       "    <tr>\n",
       "      <th>6</th>\n",
       "      <td>1801998</td>\n",
       "      <td>electronics</td>\n",
       "      <td>video</td>\n",
       "      <td>tv</td>\n",
       "      <td>artel</td>\n",
       "      <td>1</td>\n",
       "    </tr>\n",
       "    <tr>\n",
       "      <th>7</th>\n",
       "      <td>1005006</td>\n",
       "      <td>electronics</td>\n",
       "      <td>smartphone</td>\n",
       "      <td>None</td>\n",
       "      <td>xiaomi</td>\n",
       "      <td>1</td>\n",
       "    </tr>\n",
       "    <tr>\n",
       "      <th>8</th>\n",
       "      <td>1801770</td>\n",
       "      <td>electronics</td>\n",
       "      <td>video</td>\n",
       "      <td>tv</td>\n",
       "      <td>changhong</td>\n",
       "      <td>1</td>\n",
       "    </tr>\n",
       "    <tr>\n",
       "      <th>9</th>\n",
       "      <td>1005195</td>\n",
       "      <td>electronics</td>\n",
       "      <td>smartphone</td>\n",
       "      <td>None</td>\n",
       "      <td>xiaomi</td>\n",
       "      <td>1</td>\n",
       "    </tr>\n",
       "  </tbody>\n",
       "</table>\n",
       "</div>"
      ],
      "text/plain": [
       "   product_id     main_cat   sub_cat_1 sub_cat_2      brand  counts\n",
       "0     1802037  electronics       video        tv         lg       6\n",
       "1     1005100  electronics  smartphone      None    samsung       4\n",
       "2     1004809  electronics  smartphone      None     xiaomi       3\n",
       "3     1004777  electronics  smartphone      None     xiaomi       3\n",
       "4     1005204  electronics  smartphone      None     xiaomi       3\n",
       "5     1004838  electronics  smartphone      None       oppo       2\n",
       "6     1801998  electronics       video        tv      artel       1\n",
       "7     1005006  electronics  smartphone      None     xiaomi       1\n",
       "8     1801770  electronics       video        tv  changhong       1\n",
       "9     1005195  electronics  smartphone      None     xiaomi       1"
      ]
     },
     "execution_count": 145,
     "metadata": {},
     "output_type": "execute_result"
    }
   ],
   "source": [
    "user_prod_freq = (\n",
    "    cart_day\n",
    "    .loc[cart_day[\"user_id\"] == user_id, \"product_id\"]\n",
    "    .value_counts()\n",
    "    .iloc[:10]\n",
    ")\n",
    "freq_item = item_lookup.set_index(\"product_id\").loc[user_prod_freq.index.to_list(), :]\n",
    "freq_item.loc[:, \"counts\"] = user_prod_freq.to_list()\n",
    "freq_item.reset_index()"
   ]
  },
  {
   "cell_type": "markdown",
   "metadata": {},
   "source": [
    "##### 추천 시스템"
   ]
  },
  {
   "cell_type": "code",
   "execution_count": 149,
   "metadata": {},
   "outputs": [],
   "source": [
    "# user_id = 513414926\n",
    "user_id = 539016593\n",
    "user_idx = list(grouped_cart['user_id']).index(user_id)"
   ]
  },
  {
   "cell_type": "code",
   "execution_count": 150,
   "metadata": {},
   "outputs": [
    {
     "data": {
      "text/plain": [
       "89012"
      ]
     },
     "execution_count": 150,
     "metadata": {},
     "output_type": "execute_result"
    }
   ],
   "source": [
    "user_idx"
   ]
  },
  {
   "cell_type": "code",
   "execution_count": 151,
   "metadata": {},
   "outputs": [],
   "source": [
    "ids, scores = model.recommend(user_idx, sparse_user_item[user_idx], N=10, filter_already_liked_items=False)"
   ]
  },
  {
   "cell_type": "code",
   "execution_count": 162,
   "metadata": {},
   "outputs": [
    {
     "data": {
      "text/html": [
       "<div>\n",
       "<style scoped>\n",
       "    .dataframe tbody tr th:only-of-type {\n",
       "        vertical-align: middle;\n",
       "    }\n",
       "\n",
       "    .dataframe tbody tr th {\n",
       "        vertical-align: top;\n",
       "    }\n",
       "\n",
       "    .dataframe thead th {\n",
       "        text-align: right;\n",
       "    }\n",
       "</style>\n",
       "<table border=\"1\" class=\"dataframe\">\n",
       "  <thead>\n",
       "    <tr style=\"text-align: right;\">\n",
       "      <th></th>\n",
       "      <th>product_id</th>\n",
       "      <th>score</th>\n",
       "      <th>already_carted</th>\n",
       "    </tr>\n",
       "  </thead>\n",
       "  <tbody>\n",
       "    <tr>\n",
       "      <th>99</th>\n",
       "      <td>1004739</td>\n",
       "      <td>1.001975</td>\n",
       "      <td>True</td>\n",
       "    </tr>\n",
       "    <tr>\n",
       "      <th>29</th>\n",
       "      <td>1005228</td>\n",
       "      <td>0.340133</td>\n",
       "      <td>False</td>\n",
       "    </tr>\n",
       "    <tr>\n",
       "      <th>887</th>\n",
       "      <td>1004237</td>\n",
       "      <td>0.290203</td>\n",
       "      <td>False</td>\n",
       "    </tr>\n",
       "    <tr>\n",
       "      <th>256</th>\n",
       "      <td>2900632</td>\n",
       "      <td>0.290033</td>\n",
       "      <td>False</td>\n",
       "    </tr>\n",
       "    <tr>\n",
       "      <th>1</th>\n",
       "      <td>1005003</td>\n",
       "      <td>0.283211</td>\n",
       "      <td>False</td>\n",
       "    </tr>\n",
       "    <tr>\n",
       "      <th>319</th>\n",
       "      <td>1004777</td>\n",
       "      <td>0.279208</td>\n",
       "      <td>False</td>\n",
       "    </tr>\n",
       "    <tr>\n",
       "      <th>100</th>\n",
       "      <td>4501774</td>\n",
       "      <td>0.242472</td>\n",
       "      <td>False</td>\n",
       "    </tr>\n",
       "    <tr>\n",
       "      <th>399</th>\n",
       "      <td>1005004</td>\n",
       "      <td>0.234827</td>\n",
       "      <td>False</td>\n",
       "    </tr>\n",
       "    <tr>\n",
       "      <th>255</th>\n",
       "      <td>2900626</td>\n",
       "      <td>0.224733</td>\n",
       "      <td>False</td>\n",
       "    </tr>\n",
       "    <tr>\n",
       "      <th>48</th>\n",
       "      <td>1004708</td>\n",
       "      <td>0.223168</td>\n",
       "      <td>False</td>\n",
       "    </tr>\n",
       "  </tbody>\n",
       "</table>\n",
       "</div>"
      ],
      "text/plain": [
       "     product_id     score  already_carted\n",
       "99      1004739  1.001975            True\n",
       "29      1005228  0.340133           False\n",
       "887     1004237  0.290203           False\n",
       "256     2900632  0.290033           False\n",
       "1       1005003  0.283211           False\n",
       "319     1004777  0.279208           False\n",
       "100     4501774  0.242472           False\n",
       "399     1005004  0.234827           False\n",
       "255     2900626  0.224733           False\n",
       "48      1004708  0.223168           False"
      ]
     },
     "execution_count": 162,
     "metadata": {},
     "output_type": "execute_result"
    }
   ],
   "source": [
    "als_rec = pd.DataFrame({\"product_id\": grouped_cart[\"product_id\"][ids], \n",
    "                        \"score\": scores, \n",
    "                        \"already_carted\": np.in1d(ids, sparse_user_item[user_idx].indices)})\n",
    "als_rec"
   ]
  },
  {
   "cell_type": "code",
   "execution_count": 164,
   "metadata": {},
   "outputs": [
    {
     "data": {
      "text/html": [
       "<div>\n",
       "<style scoped>\n",
       "    .dataframe tbody tr th:only-of-type {\n",
       "        vertical-align: middle;\n",
       "    }\n",
       "\n",
       "    .dataframe tbody tr th {\n",
       "        vertical-align: top;\n",
       "    }\n",
       "\n",
       "    .dataframe thead th {\n",
       "        text-align: right;\n",
       "    }\n",
       "</style>\n",
       "<table border=\"1\" class=\"dataframe\">\n",
       "  <thead>\n",
       "    <tr style=\"text-align: right;\">\n",
       "      <th></th>\n",
       "      <th>product_id</th>\n",
       "      <th>main_cat</th>\n",
       "      <th>sub_cat_1</th>\n",
       "      <th>sub_cat_2</th>\n",
       "      <th>brand</th>\n",
       "      <th>score</th>\n",
       "      <th>already_carted</th>\n",
       "    </tr>\n",
       "  </thead>\n",
       "  <tbody>\n",
       "    <tr>\n",
       "      <th>0</th>\n",
       "      <td>1004739</td>\n",
       "      <td>electronics</td>\n",
       "      <td>smartphone</td>\n",
       "      <td>None</td>\n",
       "      <td>xiaomi</td>\n",
       "      <td>1.001975</td>\n",
       "      <td>True</td>\n",
       "    </tr>\n",
       "    <tr>\n",
       "      <th>1</th>\n",
       "      <td>1005228</td>\n",
       "      <td>electronics</td>\n",
       "      <td>smartphone</td>\n",
       "      <td>None</td>\n",
       "      <td>honor</td>\n",
       "      <td>0.340133</td>\n",
       "      <td>False</td>\n",
       "    </tr>\n",
       "    <tr>\n",
       "      <th>2</th>\n",
       "      <td>1004237</td>\n",
       "      <td>electronics</td>\n",
       "      <td>smartphone</td>\n",
       "      <td>None</td>\n",
       "      <td>apple</td>\n",
       "      <td>0.290203</td>\n",
       "      <td>False</td>\n",
       "    </tr>\n",
       "    <tr>\n",
       "      <th>3</th>\n",
       "      <td>2900632</td>\n",
       "      <td>appliances</td>\n",
       "      <td>kitchen</td>\n",
       "      <td>microwave</td>\n",
       "      <td>samsung</td>\n",
       "      <td>0.290033</td>\n",
       "      <td>False</td>\n",
       "    </tr>\n",
       "    <tr>\n",
       "      <th>4</th>\n",
       "      <td>1005003</td>\n",
       "      <td>electronics</td>\n",
       "      <td>smartphone</td>\n",
       "      <td>None</td>\n",
       "      <td>huawei</td>\n",
       "      <td>0.283211</td>\n",
       "      <td>False</td>\n",
       "    </tr>\n",
       "    <tr>\n",
       "      <th>5</th>\n",
       "      <td>1004777</td>\n",
       "      <td>electronics</td>\n",
       "      <td>smartphone</td>\n",
       "      <td>None</td>\n",
       "      <td>xiaomi</td>\n",
       "      <td>0.279208</td>\n",
       "      <td>False</td>\n",
       "    </tr>\n",
       "    <tr>\n",
       "      <th>6</th>\n",
       "      <td>4501774</td>\n",
       "      <td>appliances</td>\n",
       "      <td>kitchen</td>\n",
       "      <td>hob</td>\n",
       "      <td>hansa</td>\n",
       "      <td>0.242472</td>\n",
       "      <td>False</td>\n",
       "    </tr>\n",
       "    <tr>\n",
       "      <th>7</th>\n",
       "      <td>1005004</td>\n",
       "      <td>electronics</td>\n",
       "      <td>smartphone</td>\n",
       "      <td>None</td>\n",
       "      <td>huawei</td>\n",
       "      <td>0.234827</td>\n",
       "      <td>False</td>\n",
       "    </tr>\n",
       "    <tr>\n",
       "      <th>8</th>\n",
       "      <td>2900626</td>\n",
       "      <td>appliances</td>\n",
       "      <td>kitchen</td>\n",
       "      <td>microwave</td>\n",
       "      <td>redmond</td>\n",
       "      <td>0.224733</td>\n",
       "      <td>False</td>\n",
       "    </tr>\n",
       "    <tr>\n",
       "      <th>9</th>\n",
       "      <td>1004708</td>\n",
       "      <td>electronics</td>\n",
       "      <td>smartphone</td>\n",
       "      <td>None</td>\n",
       "      <td>huawei</td>\n",
       "      <td>0.223168</td>\n",
       "      <td>False</td>\n",
       "    </tr>\n",
       "  </tbody>\n",
       "</table>\n",
       "</div>"
      ],
      "text/plain": [
       "   product_id     main_cat   sub_cat_1  sub_cat_2    brand     score  \\\n",
       "0     1004739  electronics  smartphone       None   xiaomi  1.001975   \n",
       "1     1005228  electronics  smartphone       None    honor  0.340133   \n",
       "2     1004237  electronics  smartphone       None    apple  0.290203   \n",
       "3     2900632   appliances     kitchen  microwave  samsung  0.290033   \n",
       "4     1005003  electronics  smartphone       None   huawei  0.283211   \n",
       "5     1004777  electronics  smartphone       None   xiaomi  0.279208   \n",
       "6     4501774   appliances     kitchen        hob    hansa  0.242472   \n",
       "7     1005004  electronics  smartphone       None   huawei  0.234827   \n",
       "8     2900626   appliances     kitchen  microwave  redmond  0.224733   \n",
       "9     1004708  electronics  smartphone       None   huawei  0.223168   \n",
       "\n",
       "   already_carted  \n",
       "0            True  \n",
       "1           False  \n",
       "2           False  \n",
       "3           False  \n",
       "4           False  \n",
       "5           False  \n",
       "6           False  \n",
       "7           False  \n",
       "8           False  \n",
       "9           False  "
      ]
     },
     "execution_count": 164,
     "metadata": {},
     "output_type": "execute_result"
    }
   ],
   "source": [
    "als_item_lookup = item_lookup.set_index(\"product_id\").loc[als_rec[\"product_id\"].to_list(), :].reset_index(0)\n",
    "als_item_lookup.merge(als_rec)"
   ]
  },
  {
   "cell_type": "code",
   "execution_count": null,
   "metadata": {},
   "outputs": [],
   "source": []
  },
  {
   "cell_type": "code",
   "execution_count": null,
   "metadata": {},
   "outputs": [],
   "source": []
  },
  {
   "cell_type": "code",
   "execution_count": 51,
   "metadata": {},
   "outputs": [],
   "source": [
    "def make_train (matrix, percentage = .2):\n",
    "    '''\n",
    "    -----------------------------------------------------\n",
    "    설명\n",
    "    유저-아이템 행렬 (matrix)에서 \n",
    "    1. 0 이상의 값을 가지면 1의 값을 갖도록 binary하게 테스트 데이터를 만들고\n",
    "    2. 훈련 데이터는 원본 행렬에서 percentage 비율만큼 0으로 바뀜\n",
    "    \n",
    "    -----------------------------------------------------\n",
    "    반환\n",
    "    training_set: 훈련 데이터에서 percentage 비율만큼 0으로 바뀐 행렬\n",
    "    test_set:     원본 유저-아이템 행렬의 복사본\n",
    "    user_inds:    훈련 데이터에서 0으로 바뀐 유저의 index\n",
    "    '''\n",
    "    test_set = matrix.copy()\n",
    "    test_set[test_set !=0] = 1 # binary하게 만들기\n",
    "    \n",
    "    training_set = matrix.copy()\n",
    "    nonzero_inds = training_set.nonzero()\n",
    "    nonzero_pairs = list(zip(nonzero_inds[0], nonzero_inds[1]))\n",
    "    \n",
    "    random.seed(0)\n",
    "    num_samples = int(np.ceil(percentage * len(nonzero_pairs)))\n",
    "    samples = random.sample (nonzero_pairs, num_samples)\n",
    "    \n",
    "    user_inds = [index[0] for index in samples]\n",
    "    item_inds = [index[1] for index in samples]\n",
    "    \n",
    "    training_set[user_inds, item_inds] = 0\n",
    "    training_set.eliminate_zeros()\n",
    "    \n",
    "    return training_set, test_set, list(set(user_inds))\n",
    "\n",
    "# 훈련, 테스트 데이터 생성\n",
    "product_train, product_test, product_users_altered = make_train(sparse_item_user, 0.2)"
   ]
  },
  {
   "cell_type": "code",
   "execution_count": 52,
   "metadata": {},
   "outputs": [],
   "source": [
    "bm25_product_train = bm25_weight(product_train, K1=100, B=0.8)\n",
    "sparse_user_item = bm25_product_train.T.tocsr()"
   ]
  },
  {
   "cell_type": "code",
   "execution_count": 53,
   "metadata": {},
   "outputs": [
    {
     "name": "stderr",
     "output_type": "stream",
     "text": [
      "100%|██████████| 15/15 [00:30<00:00,  2.03s/it]\n"
     ]
    }
   ],
   "source": [
    "model2 = AlternatingLeastSquares(factors=64, regularization=0.05)\n",
    "model2.fit(2 * sparse_user_item)"
   ]
  },
  {
   "cell_type": "code",
   "execution_count": 70,
   "metadata": {},
   "outputs": [
    {
     "data": {
      "text/plain": [
       "(126195, 64)"
      ]
     },
     "execution_count": 70,
     "metadata": {},
     "output_type": "execute_result"
    }
   ],
   "source": [
    "model2.user_factors.shape"
   ]
  },
  {
   "cell_type": "code",
   "execution_count": 71,
   "metadata": {},
   "outputs": [
    {
     "data": {
      "text/plain": [
       "(3229, 64)"
      ]
     },
     "execution_count": 71,
     "metadata": {},
     "output_type": "execute_result"
    }
   ],
   "source": [
    "model2.item_factors.shape"
   ]
  },
  {
   "cell_type": "code",
   "execution_count": 66,
   "metadata": {},
   "outputs": [],
   "source": [
    "# pred = np.dot(model2.user_factors, model2.item_factors.T)\n",
    "pred = [sparse.csr_matrix(model2.user_factors), sparse.csr_matrix(model2.item_factors.T)]"
   ]
  },
  {
   "cell_type": "code",
   "execution_count": null,
   "metadata": {},
   "outputs": [],
   "source": []
  },
  {
   "cell_type": "code",
   "execution_count": 61,
   "metadata": {},
   "outputs": [],
   "source": [
    "from sklearn import metrics\n",
    "\n",
    "def auc_score (test, predictions):\n",
    "    '''\n",
    "    fpr, tpr를 이용해서 AUC를 계산하는 함수\n",
    "    '''\n",
    "    fpr, tpr, thresholds = metrics.roc_curve(test, predictions)\n",
    "    return metrics.auc(fpr,tpr)"
   ]
  },
  {
   "cell_type": "code",
   "execution_count": 90,
   "metadata": {},
   "outputs": [],
   "source": [
    "def calc_mean_auc(training_set, predictions, altered_users, test_set):\n",
    "    '''\n",
    "    가려진 정보가 있는 유저마다 AUC 평균을 구하는 함수\n",
    "    ----------------------------------------\n",
    "    input\n",
    "    1. training_set: make_train 함수에서 만들어진 훈련 데이터 (일정 비율로 아이템 구매량이 0으로 가려진 데이터)\n",
    "    2. prediction: implicit MF에서 나온 유저/아이템 별로 나온 예측 평점 행렬\n",
    "    3. altered_users: make_train 함수에서 아이템 구매량이 0으로 가려진 유저\n",
    "    4. test_set: make_train함수에서 만든 테스트 데이터\n",
    "    ----------------------------------------\n",
    "    반환\n",
    "    추천 시스템 유저의 평균 auc\n",
    "    인기아이템 기반 유저 평균 auc\n",
    "    '''\n",
    "    # 리스트 초기화\n",
    "    store_auc = []\n",
    "    popularity_auc = []\n",
    "    \n",
    "    pop_items = np.array(test_set.sum(axis = 0)).reshape(-1) # 모든 유저의 아이템별 구매횟수 합\n",
    "    item_vecs = predictions[1] # 아이템 latent 벡터\n",
    "    \n",
    "    for user in altered_users:\n",
    "        training_row = training_set[user,:].toarray().reshape(-1) # 유저의 훈련데이터\n",
    "        zero_inds = np.where(training_row == 0) # 가려진 아이템 Index\n",
    "        \n",
    "        # 가려진 아이템에 대한 예측\n",
    "        user_vec = predictions[0][user,:]\n",
    "        pred = user_vec.dot(item_vecs).toarray()[0,zero_inds].reshape(-1)\n",
    "        \n",
    "        # 가려진 아이템에 대한 실제값\n",
    "        actual = test_set[user,:].toarray()[0,zero_inds].reshape(-1) \n",
    "        \n",
    "        # 가려진 아이템에 대한 popularity (구매횟수 합)\n",
    "        pop = pop_items[zero_inds]\n",
    "        \n",
    "        # AUC 계산 \n",
    "        store_auc.append(auc_score(actual, pred))\n",
    "        popularity_auc.append(auc_score(actual,pop))\n",
    "    \n",
    "    return float('%.3f'%np.mean(store_auc)), float('%.3f'%np.mean(popularity_auc))  "
   ]
  },
  {
   "cell_type": "code",
   "execution_count": 91,
   "metadata": {},
   "outputs": [
    {
     "ename": "IndexError",
     "evalue": "index 3229 is out of bounds for axis 1 with size 3229",
     "output_type": "error",
     "traceback": [
      "\u001b[1;31m---------------------------------------------------------------------------\u001b[0m",
      "\u001b[1;31mIndexError\u001b[0m                                Traceback (most recent call last)",
      "\u001b[1;32mc:\\Users\\aryij\\Documents\\AI Bootcamp\\Codestates Project\\cp2\\ecommerce-behavior-data-analysis\\tsj_data\\als_recommend2.ipynb Cell 44'\u001b[0m in \u001b[0;36m<cell line: 1>\u001b[1;34m()\u001b[0m\n\u001b[1;32m----> <a href='vscode-notebook-cell:/c%3A/Users/aryij/Documents/AI%20Bootcamp/Codestates%20Project/cp2/ecommerce-behavior-data-analysis/tsj_data/als_recommend2.ipynb#ch0000106?line=0'>1</a>\u001b[0m calc_mean_auc(product_train, pred, product_users_altered, product_test)\n",
      "\u001b[1;32mc:\\Users\\aryij\\Documents\\AI Bootcamp\\Codestates Project\\cp2\\ecommerce-behavior-data-analysis\\tsj_data\\als_recommend2.ipynb Cell 43'\u001b[0m in \u001b[0;36mcalc_mean_auc\u001b[1;34m(training_set, predictions, altered_users, test_set)\u001b[0m\n\u001b[0;32m     <a href='vscode-notebook-cell:/c%3A/Users/aryij/Documents/AI%20Bootcamp/Codestates%20Project/cp2/ecommerce-behavior-data-analysis/tsj_data/als_recommend2.ipynb#ch0000105?line=25'>26</a>\u001b[0m \u001b[39m# 가려진 아이템에 대한 예측\u001b[39;00m\n\u001b[0;32m     <a href='vscode-notebook-cell:/c%3A/Users/aryij/Documents/AI%20Bootcamp/Codestates%20Project/cp2/ecommerce-behavior-data-analysis/tsj_data/als_recommend2.ipynb#ch0000105?line=26'>27</a>\u001b[0m user_vec \u001b[39m=\u001b[39m predictions[\u001b[39m0\u001b[39m][user,:]\n\u001b[1;32m---> <a href='vscode-notebook-cell:/c%3A/Users/aryij/Documents/AI%20Bootcamp/Codestates%20Project/cp2/ecommerce-behavior-data-analysis/tsj_data/als_recommend2.ipynb#ch0000105?line=27'>28</a>\u001b[0m pred \u001b[39m=\u001b[39m user_vec\u001b[39m.\u001b[39;49mdot(item_vecs)\u001b[39m.\u001b[39;49mtoarray()[\u001b[39m0\u001b[39;49m,zero_inds]\u001b[39m.\u001b[39mreshape(\u001b[39m-\u001b[39m\u001b[39m1\u001b[39m)\n\u001b[0;32m     <a href='vscode-notebook-cell:/c%3A/Users/aryij/Documents/AI%20Bootcamp/Codestates%20Project/cp2/ecommerce-behavior-data-analysis/tsj_data/als_recommend2.ipynb#ch0000105?line=29'>30</a>\u001b[0m \u001b[39m# 가려진 아이템에 대한 실제값\u001b[39;00m\n\u001b[0;32m     <a href='vscode-notebook-cell:/c%3A/Users/aryij/Documents/AI%20Bootcamp/Codestates%20Project/cp2/ecommerce-behavior-data-analysis/tsj_data/als_recommend2.ipynb#ch0000105?line=30'>31</a>\u001b[0m actual \u001b[39m=\u001b[39m test_set[user,:]\u001b[39m.\u001b[39mtoarray()[\u001b[39m0\u001b[39m,zero_inds]\u001b[39m.\u001b[39mreshape(\u001b[39m-\u001b[39m\u001b[39m1\u001b[39m) \n",
      "\u001b[1;31mIndexError\u001b[0m: index 3229 is out of bounds for axis 1 with size 3229"
     ]
    }
   ],
   "source": [
    "calc_mean_auc(product_train, pred, product_users_altered, product_test)"
   ]
  },
  {
   "cell_type": "code",
   "execution_count": null,
   "metadata": {},
   "outputs": [],
   "source": []
  }
 ],
 "metadata": {
  "interpreter": {
   "hash": "082be1bbb8cf51e79f7eecb97b4a3116b1b28bb6664706b22c0c7433d973cc3c"
  },
  "kernelspec": {
   "display_name": "Python 3.8.13 ('cp2')",
   "language": "python",
   "name": "python3"
  },
  "language_info": {
   "codemirror_mode": {
    "name": "ipython",
    "version": 3
   },
   "file_extension": ".py",
   "mimetype": "text/x-python",
   "name": "python",
   "nbconvert_exporter": "python",
   "pygments_lexer": "ipython3",
   "version": "3.8.13"
  },
  "orig_nbformat": 4
 },
 "nbformat": 4,
 "nbformat_minor": 2
}
