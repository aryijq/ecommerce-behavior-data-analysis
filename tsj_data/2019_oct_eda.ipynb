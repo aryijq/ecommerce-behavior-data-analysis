{
 "cells": [
  {
   "cell_type": "markdown",
   "metadata": {},
   "source": [
    "# 2019년 10월 이커머스 데이터 EDA"
   ]
  },
  {
   "cell_type": "code",
   "execution_count": 22,
   "metadata": {},
   "outputs": [],
   "source": [
    "# pip install plotly==5.8.0"
   ]
  },
  {
   "cell_type": "code",
   "execution_count": 19,
   "metadata": {},
   "outputs": [],
   "source": [
    "import pandas as pd\n",
    "import numpy as np\n",
    "import matplotlib as mpl\n",
    "import matplotlib.pyplot as plt\n",
    "import seaborn as sns\n",
    "import datetime as dt\n",
    "from dateutil.parser import parse\n",
    "\n",
    "%matplotlib inline\n",
    "%config InlineBackend.figure_format='retina'\n",
    "\n",
    "plt.rcParams['axes.unicode_minus'] = False\n",
    "plt.rcParams['font.family'] = 'NanumGothic'"
   ]
  },
  {
   "cell_type": "code",
   "execution_count": 2,
   "metadata": {},
   "outputs": [],
   "source": [
    "# org_df = pd.read_csv(\"D:/cp2_dataset/2019-Oct.csv\")\n",
    "# df = org_df.copy()"
   ]
  },
  {
   "cell_type": "code",
   "execution_count": 10,
   "metadata": {},
   "outputs": [],
   "source": [
    "# csv -> parquet 파일로 변환\n",
    "# df.to_parquet(\"D:/cp2_dataset/df.parquet\", engine=\"pyarrow\", compression=\"gzip\")"
   ]
  },
  {
   "cell_type": "code",
   "execution_count": 2,
   "metadata": {},
   "outputs": [],
   "source": [
    "# parquet 파일 읽기\n",
    "df = pd.read_parquet('D:/cp2_dataset/df.parquet', engine='pyarrow')"
   ]
  },
  {
   "cell_type": "markdown",
   "metadata": {},
   "source": [
    "## event_time 컬럼 나누기"
   ]
  },
  {
   "cell_type": "code",
   "execution_count": 3,
   "metadata": {},
   "outputs": [],
   "source": [
    "# event_time 컬럼 타입 str -> datetime64로 변경\n",
    "df[\"event_time\"] = pd.to_datetime(df[\"event_time\"])"
   ]
  },
  {
   "cell_type": "code",
   "execution_count": 4,
   "metadata": {},
   "outputs": [
    {
     "data": {
      "text/plain": [
       "0          2019-10-01 00:00:00+00:00\n",
       "1          2019-10-01 00:00:00+00:00\n",
       "2          2019-10-01 00:00:01+00:00\n",
       "3          2019-10-01 00:00:01+00:00\n",
       "4          2019-10-01 00:00:04+00:00\n",
       "                      ...           \n",
       "42448759   2019-10-31 23:59:58+00:00\n",
       "42448760   2019-10-31 23:59:58+00:00\n",
       "42448761   2019-10-31 23:59:58+00:00\n",
       "42448762   2019-10-31 23:59:59+00:00\n",
       "42448763   2019-10-31 23:59:59+00:00\n",
       "Name: event_time, Length: 42448764, dtype: datetime64[ns, UTC]"
      ]
     },
     "execution_count": 4,
     "metadata": {},
     "output_type": "execute_result"
    }
   ],
   "source": [
    "df[\"event_time\"]"
   ]
  },
  {
   "cell_type": "code",
   "execution_count": 5,
   "metadata": {},
   "outputs": [],
   "source": [
    "# event_time 열 timezone UTC -> Asia/Dubai로 변경 (GMT +4)\n",
    "df[\"event_time\"] = df[\"event_time\"].apply(lambda x : x.tz_convert(\"Asia/Dubai\"))"
   ]
  },
  {
   "cell_type": "code",
   "execution_count": 6,
   "metadata": {},
   "outputs": [
    {
     "data": {
      "text/plain": [
       "0          2019-10-01 04:00:00+04:00\n",
       "1          2019-10-01 04:00:00+04:00\n",
       "2          2019-10-01 04:00:01+04:00\n",
       "3          2019-10-01 04:00:01+04:00\n",
       "4          2019-10-01 04:00:04+04:00\n",
       "                      ...           \n",
       "42448759   2019-11-01 03:59:58+04:00\n",
       "42448760   2019-11-01 03:59:58+04:00\n",
       "42448761   2019-11-01 03:59:58+04:00\n",
       "42448762   2019-11-01 03:59:59+04:00\n",
       "42448763   2019-11-01 03:59:59+04:00\n",
       "Name: event_time, Length: 42448764, dtype: datetime64[ns, Asia/Dubai]"
      ]
     },
     "execution_count": 6,
     "metadata": {},
     "output_type": "execute_result"
    }
   ],
   "source": [
    "df[\"event_time\"]"
   ]
  },
  {
   "cell_type": "code",
   "execution_count": 7,
   "metadata": {},
   "outputs": [],
   "source": [
    "# event_time 월, 일, 요일, 시 빼내기\n",
    "df[\"month\"] = df[\"event_time\"].dt.month\n",
    "df[\"day\"] = df[\"event_time\"].dt.day\n",
    "df[\"day_name\"] = df[\"event_time\"].apply(lambda x : x.day_name())\n",
    "df[\"hour\"] = df[\"event_time\"].dt.hour"
   ]
  },
  {
   "cell_type": "code",
   "execution_count": 8,
   "metadata": {},
   "outputs": [
    {
     "data": {
      "text/plain": [
       "(42448764, 13)"
      ]
     },
     "execution_count": 8,
     "metadata": {},
     "output_type": "execute_result"
    }
   ],
   "source": [
    "df.shape"
   ]
  },
  {
   "cell_type": "code",
   "execution_count": 9,
   "metadata": {},
   "outputs": [
    {
     "data": {
      "text/plain": [
       "Index(['event_time', 'event_type', 'product_id', 'category_id',\n",
       "       'category_code', 'brand', 'price', 'user_id', 'user_session', 'month',\n",
       "       'day', 'day_name', 'hour'],\n",
       "      dtype='object')"
      ]
     },
     "execution_count": 9,
     "metadata": {},
     "output_type": "execute_result"
    }
   ],
   "source": [
    "df.columns"
   ]
  },
  {
   "cell_type": "code",
   "execution_count": 10,
   "metadata": {},
   "outputs": [],
   "source": [
    "column_order = ['event_time', 'month', 'day', 'day_name', 'hour', \n",
    "                'event_type', 'product_id', 'category_id', 'category_code', \n",
    "                'brand', 'price', 'user_id', 'user_session']\n",
    "df_mod = df[column_order]"
   ]
  },
  {
   "cell_type": "code",
   "execution_count": 11,
   "metadata": {},
   "outputs": [
    {
     "data": {
      "text/html": [
       "<div>\n",
       "<style scoped>\n",
       "    .dataframe tbody tr th:only-of-type {\n",
       "        vertical-align: middle;\n",
       "    }\n",
       "\n",
       "    .dataframe tbody tr th {\n",
       "        vertical-align: top;\n",
       "    }\n",
       "\n",
       "    .dataframe thead th {\n",
       "        text-align: right;\n",
       "    }\n",
       "</style>\n",
       "<table border=\"1\" class=\"dataframe\">\n",
       "  <thead>\n",
       "    <tr style=\"text-align: right;\">\n",
       "      <th></th>\n",
       "      <th>event_time</th>\n",
       "      <th>month</th>\n",
       "      <th>day</th>\n",
       "      <th>day_name</th>\n",
       "      <th>hour</th>\n",
       "      <th>event_type</th>\n",
       "      <th>product_id</th>\n",
       "      <th>category_id</th>\n",
       "      <th>category_code</th>\n",
       "      <th>brand</th>\n",
       "      <th>price</th>\n",
       "      <th>user_id</th>\n",
       "      <th>user_session</th>\n",
       "    </tr>\n",
       "  </thead>\n",
       "  <tbody>\n",
       "    <tr>\n",
       "      <th>0</th>\n",
       "      <td>2019-10-01 04:00:00+04:00</td>\n",
       "      <td>10</td>\n",
       "      <td>1</td>\n",
       "      <td>Tuesday</td>\n",
       "      <td>4</td>\n",
       "      <td>view</td>\n",
       "      <td>44600062</td>\n",
       "      <td>2103807459595387724</td>\n",
       "      <td>None</td>\n",
       "      <td>shiseido</td>\n",
       "      <td>35.79</td>\n",
       "      <td>541312140</td>\n",
       "      <td>72d76fde-8bb3-4e00-8c23-a032dfed738c</td>\n",
       "    </tr>\n",
       "    <tr>\n",
       "      <th>1</th>\n",
       "      <td>2019-10-01 04:00:00+04:00</td>\n",
       "      <td>10</td>\n",
       "      <td>1</td>\n",
       "      <td>Tuesday</td>\n",
       "      <td>4</td>\n",
       "      <td>view</td>\n",
       "      <td>3900821</td>\n",
       "      <td>2053013552326770905</td>\n",
       "      <td>appliances.environment.water_heater</td>\n",
       "      <td>aqua</td>\n",
       "      <td>33.20</td>\n",
       "      <td>554748717</td>\n",
       "      <td>9333dfbd-b87a-4708-9857-6336556b0fcc</td>\n",
       "    </tr>\n",
       "    <tr>\n",
       "      <th>2</th>\n",
       "      <td>2019-10-01 04:00:01+04:00</td>\n",
       "      <td>10</td>\n",
       "      <td>1</td>\n",
       "      <td>Tuesday</td>\n",
       "      <td>4</td>\n",
       "      <td>view</td>\n",
       "      <td>17200506</td>\n",
       "      <td>2053013559792632471</td>\n",
       "      <td>furniture.living_room.sofa</td>\n",
       "      <td>None</td>\n",
       "      <td>543.10</td>\n",
       "      <td>519107250</td>\n",
       "      <td>566511c2-e2e3-422b-b695-cf8e6e792ca8</td>\n",
       "    </tr>\n",
       "    <tr>\n",
       "      <th>3</th>\n",
       "      <td>2019-10-01 04:00:01+04:00</td>\n",
       "      <td>10</td>\n",
       "      <td>1</td>\n",
       "      <td>Tuesday</td>\n",
       "      <td>4</td>\n",
       "      <td>view</td>\n",
       "      <td>1307067</td>\n",
       "      <td>2053013558920217191</td>\n",
       "      <td>computers.notebook</td>\n",
       "      <td>lenovo</td>\n",
       "      <td>251.74</td>\n",
       "      <td>550050854</td>\n",
       "      <td>7c90fc70-0e80-4590-96f3-13c02c18c713</td>\n",
       "    </tr>\n",
       "    <tr>\n",
       "      <th>4</th>\n",
       "      <td>2019-10-01 04:00:04+04:00</td>\n",
       "      <td>10</td>\n",
       "      <td>1</td>\n",
       "      <td>Tuesday</td>\n",
       "      <td>4</td>\n",
       "      <td>view</td>\n",
       "      <td>1004237</td>\n",
       "      <td>2053013555631882655</td>\n",
       "      <td>electronics.smartphone</td>\n",
       "      <td>apple</td>\n",
       "      <td>1081.98</td>\n",
       "      <td>535871217</td>\n",
       "      <td>c6bd7419-2748-4c56-95b4-8cec9ff8b80d</td>\n",
       "    </tr>\n",
       "  </tbody>\n",
       "</table>\n",
       "</div>"
      ],
      "text/plain": [
       "                 event_time  month  day day_name  hour event_type  product_id  \\\n",
       "0 2019-10-01 04:00:00+04:00     10    1  Tuesday     4       view    44600062   \n",
       "1 2019-10-01 04:00:00+04:00     10    1  Tuesday     4       view     3900821   \n",
       "2 2019-10-01 04:00:01+04:00     10    1  Tuesday     4       view    17200506   \n",
       "3 2019-10-01 04:00:01+04:00     10    1  Tuesday     4       view     1307067   \n",
       "4 2019-10-01 04:00:04+04:00     10    1  Tuesday     4       view     1004237   \n",
       "\n",
       "           category_id                        category_code     brand  \\\n",
       "0  2103807459595387724                                 None  shiseido   \n",
       "1  2053013552326770905  appliances.environment.water_heater      aqua   \n",
       "2  2053013559792632471           furniture.living_room.sofa      None   \n",
       "3  2053013558920217191                   computers.notebook    lenovo   \n",
       "4  2053013555631882655               electronics.smartphone     apple   \n",
       "\n",
       "     price    user_id                          user_session  \n",
       "0    35.79  541312140  72d76fde-8bb3-4e00-8c23-a032dfed738c  \n",
       "1    33.20  554748717  9333dfbd-b87a-4708-9857-6336556b0fcc  \n",
       "2   543.10  519107250  566511c2-e2e3-422b-b695-cf8e6e792ca8  \n",
       "3   251.74  550050854  7c90fc70-0e80-4590-96f3-13c02c18c713  \n",
       "4  1081.98  535871217  c6bd7419-2748-4c56-95b4-8cec9ff8b80d  "
      ]
     },
     "execution_count": 11,
     "metadata": {},
     "output_type": "execute_result"
    }
   ],
   "source": [
    "df_mod.head()"
   ]
  },
  {
   "cell_type": "markdown",
   "metadata": {},
   "source": [
    "## parquet 파일 저장 후 작업 개시"
   ]
  },
  {
   "cell_type": "code",
   "execution_count": 13,
   "metadata": {},
   "outputs": [],
   "source": [
    "# event_time 컬럼 변경한 것 parquet 파일로 저장\n",
    "df_mod.to_parquet(\"D:/cp2_dataset/df.parquet\", engine=\"pyarrow\", compression=\"gzip\")"
   ]
  },
  {
   "cell_type": "code",
   "execution_count": 2,
   "metadata": {},
   "outputs": [],
   "source": [
    "mod = pd.read_parquet('D:/cp2_dataset/df.parquet', engine='pyarrow')"
   ]
  },
  {
   "cell_type": "code",
   "execution_count": 3,
   "metadata": {},
   "outputs": [
    {
     "data": {
      "text/html": [
       "<div>\n",
       "<style scoped>\n",
       "    .dataframe tbody tr th:only-of-type {\n",
       "        vertical-align: middle;\n",
       "    }\n",
       "\n",
       "    .dataframe tbody tr th {\n",
       "        vertical-align: top;\n",
       "    }\n",
       "\n",
       "    .dataframe thead th {\n",
       "        text-align: right;\n",
       "    }\n",
       "</style>\n",
       "<table border=\"1\" class=\"dataframe\">\n",
       "  <thead>\n",
       "    <tr style=\"text-align: right;\">\n",
       "      <th></th>\n",
       "      <th>event_time</th>\n",
       "      <th>month</th>\n",
       "      <th>day</th>\n",
       "      <th>day_name</th>\n",
       "      <th>hour</th>\n",
       "      <th>event_type</th>\n",
       "      <th>product_id</th>\n",
       "      <th>category_id</th>\n",
       "      <th>category_code</th>\n",
       "      <th>brand</th>\n",
       "      <th>price</th>\n",
       "      <th>user_id</th>\n",
       "      <th>user_session</th>\n",
       "    </tr>\n",
       "  </thead>\n",
       "  <tbody>\n",
       "    <tr>\n",
       "      <th>0</th>\n",
       "      <td>2019-10-01 04:00:00+04:00</td>\n",
       "      <td>10</td>\n",
       "      <td>1</td>\n",
       "      <td>Tuesday</td>\n",
       "      <td>4</td>\n",
       "      <td>view</td>\n",
       "      <td>44600062</td>\n",
       "      <td>2103807459595387724</td>\n",
       "      <td>None</td>\n",
       "      <td>shiseido</td>\n",
       "      <td>35.79</td>\n",
       "      <td>541312140</td>\n",
       "      <td>72d76fde-8bb3-4e00-8c23-a032dfed738c</td>\n",
       "    </tr>\n",
       "    <tr>\n",
       "      <th>1</th>\n",
       "      <td>2019-10-01 04:00:00+04:00</td>\n",
       "      <td>10</td>\n",
       "      <td>1</td>\n",
       "      <td>Tuesday</td>\n",
       "      <td>4</td>\n",
       "      <td>view</td>\n",
       "      <td>3900821</td>\n",
       "      <td>2053013552326770905</td>\n",
       "      <td>appliances.environment.water_heater</td>\n",
       "      <td>aqua</td>\n",
       "      <td>33.20</td>\n",
       "      <td>554748717</td>\n",
       "      <td>9333dfbd-b87a-4708-9857-6336556b0fcc</td>\n",
       "    </tr>\n",
       "    <tr>\n",
       "      <th>2</th>\n",
       "      <td>2019-10-01 04:00:01+04:00</td>\n",
       "      <td>10</td>\n",
       "      <td>1</td>\n",
       "      <td>Tuesday</td>\n",
       "      <td>4</td>\n",
       "      <td>view</td>\n",
       "      <td>17200506</td>\n",
       "      <td>2053013559792632471</td>\n",
       "      <td>furniture.living_room.sofa</td>\n",
       "      <td>None</td>\n",
       "      <td>543.10</td>\n",
       "      <td>519107250</td>\n",
       "      <td>566511c2-e2e3-422b-b695-cf8e6e792ca8</td>\n",
       "    </tr>\n",
       "    <tr>\n",
       "      <th>3</th>\n",
       "      <td>2019-10-01 04:00:01+04:00</td>\n",
       "      <td>10</td>\n",
       "      <td>1</td>\n",
       "      <td>Tuesday</td>\n",
       "      <td>4</td>\n",
       "      <td>view</td>\n",
       "      <td>1307067</td>\n",
       "      <td>2053013558920217191</td>\n",
       "      <td>computers.notebook</td>\n",
       "      <td>lenovo</td>\n",
       "      <td>251.74</td>\n",
       "      <td>550050854</td>\n",
       "      <td>7c90fc70-0e80-4590-96f3-13c02c18c713</td>\n",
       "    </tr>\n",
       "    <tr>\n",
       "      <th>4</th>\n",
       "      <td>2019-10-01 04:00:04+04:00</td>\n",
       "      <td>10</td>\n",
       "      <td>1</td>\n",
       "      <td>Tuesday</td>\n",
       "      <td>4</td>\n",
       "      <td>view</td>\n",
       "      <td>1004237</td>\n",
       "      <td>2053013555631882655</td>\n",
       "      <td>electronics.smartphone</td>\n",
       "      <td>apple</td>\n",
       "      <td>1081.98</td>\n",
       "      <td>535871217</td>\n",
       "      <td>c6bd7419-2748-4c56-95b4-8cec9ff8b80d</td>\n",
       "    </tr>\n",
       "  </tbody>\n",
       "</table>\n",
       "</div>"
      ],
      "text/plain": [
       "                 event_time  month  day day_name  hour event_type  product_id  \\\n",
       "0 2019-10-01 04:00:00+04:00     10    1  Tuesday     4       view    44600062   \n",
       "1 2019-10-01 04:00:00+04:00     10    1  Tuesday     4       view     3900821   \n",
       "2 2019-10-01 04:00:01+04:00     10    1  Tuesday     4       view    17200506   \n",
       "3 2019-10-01 04:00:01+04:00     10    1  Tuesday     4       view     1307067   \n",
       "4 2019-10-01 04:00:04+04:00     10    1  Tuesday     4       view     1004237   \n",
       "\n",
       "           category_id                        category_code     brand  \\\n",
       "0  2103807459595387724                                 None  shiseido   \n",
       "1  2053013552326770905  appliances.environment.water_heater      aqua   \n",
       "2  2053013559792632471           furniture.living_room.sofa      None   \n",
       "3  2053013558920217191                   computers.notebook    lenovo   \n",
       "4  2053013555631882655               electronics.smartphone     apple   \n",
       "\n",
       "     price    user_id                          user_session  \n",
       "0    35.79  541312140  72d76fde-8bb3-4e00-8c23-a032dfed738c  \n",
       "1    33.20  554748717  9333dfbd-b87a-4708-9857-6336556b0fcc  \n",
       "2   543.10  519107250  566511c2-e2e3-422b-b695-cf8e6e792ca8  \n",
       "3   251.74  550050854  7c90fc70-0e80-4590-96f3-13c02c18c713  \n",
       "4  1081.98  535871217  c6bd7419-2748-4c56-95b4-8cec9ff8b80d  "
      ]
     },
     "execution_count": 3,
     "metadata": {},
     "output_type": "execute_result"
    }
   ],
   "source": [
    "mod.head()"
   ]
  },
  {
   "cell_type": "code",
   "execution_count": 4,
   "metadata": {},
   "outputs": [
    {
     "data": {
      "text/plain": [
       "view        0.960673\n",
       "cart        0.021827\n",
       "purchase    0.017500\n",
       "Name: event_type, dtype: float64"
      ]
     },
     "execution_count": 4,
     "metadata": {},
     "output_type": "execute_result"
    }
   ],
   "source": [
    "mod[\"event_type\"].value_counts(normalize=True)"
   ]
  },
  {
   "cell_type": "code",
   "execution_count": 5,
   "metadata": {},
   "outputs": [
    {
     "data": {
      "image/png": "[encoded data removed]",
      "text/plain": [
       "<Figure size 720x360 with 1 Axes>"
      ]
     },
     "metadata": {
      "image/png": {
       "height": 326,
       "width": 608
      },
      "needs_background": "light"
     },
     "output_type": "display_data"
    }
   ],
   "source": [
    "# event_type 분포\n",
    "plt.figure(figsize=(10, 5))\n",
    "cnt = sns.countplot(x=mod[\"event_type\"])\n",
    "plt.show()"
   ]
  },
  {
   "cell_type": "code",
   "execution_count": 37,
   "metadata": {},
   "outputs": [
    {
     "data": {
      "image/png": "[encoded data removed]",
      "text/plain": [
       "<Figure size 720x1080 with 3 Axes>"
      ]
     },
     "metadata": {
      "image/png": {
       "height": 870,
       "width": 629
      },
      "needs_background": "light"
     },
     "output_type": "display_data"
    }
   ],
   "source": [
    "# 상품 클릭, 장바구니, 구매 조건 설정\n",
    "view_cond = (mod[\"event_type\"] == \"view\")\n",
    "cart_cond = (mod[\"event_type\"] == \"cart\")\n",
    "purchase_cond = (mod[\"event_type\"] == \"purchase\")\n",
    "\n",
    "# 조건별로 countplot 생성\n",
    "fig, ax = plt.subplots(nrows=3, ncols=1, figsize=(10, 15))\n",
    "\n",
    "# 요일별 상품 클릭한 숫자\n",
    "view_cnt = sns.countplot(x=mod[view_cond][\"day_name\"],\n",
    "                         order=['Sunday', 'Monday', 'Tuesday', 'Wednesday', 'Thursday', 'Friday', 'Saturday'],              ax=ax[0])\n",
    "view_cnt.set_xlabel(\"View\")\n",
    "\n",
    "# 요일별 장바구니에 넣은 숫자\n",
    "cart_cnt = sns.countplot(x=mod[cart_cond][\"day_name\"],\n",
    "                         order=['Sunday', 'Monday', 'Tuesday', 'Wednesday', 'Thursday', 'Friday', 'Saturday'],\n",
    "                         ax=ax[1])\n",
    "cart_cnt.set_xlabel(\"Cart\")\n",
    "\n",
    "# 요일별 구매한 숫자\n",
    "purchase_cnt = sns.countplot(x=mod[purchase_cond][\"day_name\"],\n",
    "                             order=['Sunday', 'Monday', 'Tuesday', 'Wednesday', 'Thursday', 'Friday', 'Saturday'],\n",
    "                             ax=ax[2])\n",
    "purchase_cnt.set_xlabel(\"Purchase\")\n",
    "\n",
    "plt.show()"
   ]
  },
  {
   "cell_type": "code",
   "execution_count": 38,
   "metadata": {},
   "outputs": [
    {
     "data": {
      "image/png": "[encoded data removed]",
      "text/plain": [
       "<Figure size 720x1080 with 3 Axes>"
      ]
     },
     "metadata": {
      "image/png": {
       "height": 870,
       "width": 623
      },
      "needs_background": "light"
     },
     "output_type": "display_data"
    }
   ],
   "source": [
    "# 시간대별 View, Cart, Purchase\n",
    "\n",
    "# 조건별로 countplot 생성\n",
    "fig, ax = plt.subplots(nrows=3, ncols=1, figsize=(10, 15))\n",
    "\n",
    "# 요일별 상품 클릭한 숫자\n",
    "view_time_cnt = sns.countplot(x=mod[view_cond][\"hour\"],\n",
    "                              ax=ax[0])\n",
    "view_time_cnt.set_xlabel(\"View Time\")\n",
    "\n",
    "# 요일별 장바구니에 넣은 숫자\n",
    "cart_time_cnt = sns.countplot(x=mod[cart_cond][\"hour\"],\n",
    "                         ax=ax[1])\n",
    "cart_time_cnt.set_xlabel(\"Cart Time\")\n",
    "\n",
    "# 요일별 구매한 숫자\n",
    "purchase_time_cnt = sns.countplot(x=mod[purchase_cond][\"hour\"],\n",
    "                             ax=ax[2])\n",
    "purchase_time_cnt.set_xlabel(\"Purchase Time\")\n",
    "\n",
    "plt.show()"
   ]
  },
  {
   "cell_type": "code",
   "execution_count": null,
   "metadata": {},
   "outputs": [],
   "source": []
  },
  {
   "cell_type": "markdown",
   "metadata": {},
   "source": [
    "## category_code TOP 10 분석"
   ]
  },
  {
   "cell_type": "code",
   "execution_count": 21,
   "metadata": {},
   "outputs": [
    {
     "data": {
      "text/plain": [
       "electronics.smartphone              11507231\n",
       "electronics.clocks                   1311033\n",
       "computers.notebook                   1137623\n",
       "electronics.video.tv                 1113750\n",
       "electronics.audio.headphone          1100188\n",
       "appliances.kitchen.refrigerators      887755\n",
       "appliances.kitchen.washer             869404\n",
       "appliances.environment.vacuum         801670\n",
       "apparel.shoes                         763901\n",
       "auto.accessories.player               470208\n",
       "Name: category_code, dtype: int64"
      ]
     },
     "execution_count": 21,
     "metadata": {},
     "output_type": "execute_result"
    }
   ],
   "source": [
    "# 카테고리 코드 TOP 10\n",
    "mod[\"category_code\"].value_counts()[:10]"
   ]
  },
  {
   "cell_type": "code",
   "execution_count": 7,
   "metadata": {},
   "outputs": [
    {
     "data": {
      "text/plain": [
       "electronics     16135623\n",
       "appliances       4967294\n",
       "computers        2324217\n",
       "apparel          1542924\n",
       "furniture        1247160\n",
       "auto             1013115\n",
       "construction      730834\n",
       "kids              520619\n",
       "accessories       238238\n",
       "sport             176616\n",
       "Name: category_code, dtype: int64"
      ]
     },
     "execution_count": 7,
     "metadata": {},
     "output_type": "execute_result"
    }
   ],
   "source": [
    "# 대분류 TOP 10\n",
    "main_cat = mod[\"category_code\"].str.split(\".\").str[0].value_counts()[:10]\n",
    "main_cat"
   ]
  },
  {
   "cell_type": "code",
   "execution_count": 8,
   "metadata": {},
   "outputs": [
    {
     "data": {
      "text/plain": [
       "smartphone     11507231\n",
       "kitchen         3531445\n",
       "audio           1574674\n",
       "clocks          1311033\n",
       "shoes           1208383\n",
       "environment     1147634\n",
       "notebook        1137623\n",
       "video           1126904\n",
       "accessories     1013115\n",
       "tools            719816\n",
       "Name: category_code, dtype: int64"
      ]
     },
     "execution_count": 8,
     "metadata": {},
     "output_type": "execute_result"
    }
   ],
   "source": [
    "# 중분류 TOP 10\n",
    "sub_cat_1st = mod[\"category_code\"].str.split(\".\").str[1].value_counts()[:10]\n",
    "sub_cat_1st"
   ]
  },
  {
   "cell_type": "code",
   "execution_count": 9,
   "metadata": {},
   "outputs": [
    {
     "data": {
      "text/plain": [
       "tv               1113750\n",
       "headphone        1100188\n",
       "refrigerators     887755\n",
       "washer            869404\n",
       "vacuum            801670\n",
       "player            470208\n",
       "keds              410304\n",
       "bed               358453\n",
       "subwoofer         313664\n",
       "cabinet           301410\n",
       "Name: category_code, dtype: int64"
      ]
     },
     "execution_count": 9,
     "metadata": {},
     "output_type": "execute_result"
    }
   ],
   "source": [
    "# 소분류 TOP 10\n",
    "sub_cat_2nd = mod[\"category_code\"].str.split(\".\").str[2].value_counts()[:10]\n",
    "sub_cat_2nd"
   ]
  },
  {
   "cell_type": "code",
   "execution_count": 77,
   "metadata": {},
   "outputs": [
    {
     "data": {
      "text/plain": [
       "samsung    5282775\n",
       "apple      4122554\n",
       "xiaomi     3083763\n",
       "huawei     1111205\n",
       "lucente     655861\n",
       "lg          562404\n",
       "bosch       557090\n",
       "oppo        482887\n",
       "sony        456644\n",
       "acer        428153\n",
       "Name: brand, dtype: int64"
      ]
     },
     "execution_count": 77,
     "metadata": {},
     "output_type": "execute_result"
    }
   ],
   "source": [
    "# 브랜드 TOP 10\n",
    "brand_top10 = mod[\"brand\"].value_counts()[:10]\n",
    "brand_top10"
   ]
  },
  {
   "cell_type": "code",
   "execution_count": 81,
   "metadata": {},
   "outputs": [
    {
     "data": {
      "image/png": "[encoded data removed]",
      "text/plain": [
       "<Figure size 720x1080 with 4 Axes>"
      ]
     },
     "metadata": {
      "image/png": {
       "height": 870,
       "width": 600
      },
      "needs_background": "light"
     },
     "output_type": "display_data"
    }
   ],
   "source": [
    "# 카테고리별 TOP 10 (대분류, 중분류, 소분류), 브랜드 TOP 10\n",
    "\n",
    "# 조건별로 plot 생성\n",
    "fig, ax = plt.subplots(nrows=4, ncols=1, figsize=(10, 15))\n",
    "\n",
    "# 메인 카테고리 (대분류) Top 10\n",
    "main_bar = sns.barplot(x=main_cat.index, \n",
    "                       y=main_cat.values,\n",
    "                       ax=ax[0])\n",
    "main_bar.set_xlabel(\"Main Category\")\n",
    "\n",
    "# 중분류 Top 10\n",
    "sub_1st_bar = sns.barplot(x=sub_cat_1st.index,\n",
    "                          y=sub_cat_1st.values,\n",
    "                          ax=ax[1])\n",
    "sub_1st_bar.set_xlabel(\"1st Sub Category\")\n",
    "\n",
    "# 소분류 Top 10\n",
    "sub_2nd_bar = sns.barplot(x=sub_cat_2nd.index,\n",
    "                          y=sub_cat_2nd.values,\n",
    "                          ax=ax[2])\n",
    "sub_2nd_bar.set_xlabel(\"2nd Sub Category\")\n",
    "\n",
    "# 브랜드 Top 10\n",
    "brand_bar = sns.barplot(x=brand_top10.index,\n",
    "                        y=brand_top10.values,\n",
    "                        ax=ax[3])\n",
    "brand_bar.set_xlabel(\"Brands\")\n",
    "\n",
    "plt.show()"
   ]
  },
  {
   "cell_type": "code",
   "execution_count": 22,
   "metadata": {},
   "outputs": [
    {
     "data": {
      "text/html": [
       "<div>\n",
       "<style scoped>\n",
       "    .dataframe tbody tr th:only-of-type {\n",
       "        vertical-align: middle;\n",
       "    }\n",
       "\n",
       "    .dataframe tbody tr th {\n",
       "        vertical-align: top;\n",
       "    }\n",
       "\n",
       "    .dataframe thead th {\n",
       "        text-align: right;\n",
       "    }\n",
       "</style>\n",
       "<table border=\"1\" class=\"dataframe\">\n",
       "  <thead>\n",
       "    <tr style=\"text-align: right;\">\n",
       "      <th></th>\n",
       "      <th>event_time</th>\n",
       "      <th>month</th>\n",
       "      <th>day</th>\n",
       "      <th>day_name</th>\n",
       "      <th>hour</th>\n",
       "      <th>event_type</th>\n",
       "      <th>product_id</th>\n",
       "      <th>category_id</th>\n",
       "      <th>category_code</th>\n",
       "      <th>brand</th>\n",
       "      <th>price</th>\n",
       "      <th>user_id</th>\n",
       "      <th>user_session</th>\n",
       "    </tr>\n",
       "  </thead>\n",
       "  <tbody>\n",
       "    <tr>\n",
       "      <th>0</th>\n",
       "      <td>2019-10-01 04:00:00+04:00</td>\n",
       "      <td>10</td>\n",
       "      <td>1</td>\n",
       "      <td>Tuesday</td>\n",
       "      <td>4</td>\n",
       "      <td>view</td>\n",
       "      <td>44600062</td>\n",
       "      <td>2103807459595387724</td>\n",
       "      <td>None</td>\n",
       "      <td>shiseido</td>\n",
       "      <td>35.79</td>\n",
       "      <td>541312140</td>\n",
       "      <td>72d76fde-8bb3-4e00-8c23-a032dfed738c</td>\n",
       "    </tr>\n",
       "    <tr>\n",
       "      <th>1</th>\n",
       "      <td>2019-10-01 04:00:00+04:00</td>\n",
       "      <td>10</td>\n",
       "      <td>1</td>\n",
       "      <td>Tuesday</td>\n",
       "      <td>4</td>\n",
       "      <td>view</td>\n",
       "      <td>3900821</td>\n",
       "      <td>2053013552326770905</td>\n",
       "      <td>appliances.environment.water_heater</td>\n",
       "      <td>aqua</td>\n",
       "      <td>33.20</td>\n",
       "      <td>554748717</td>\n",
       "      <td>9333dfbd-b87a-4708-9857-6336556b0fcc</td>\n",
       "    </tr>\n",
       "    <tr>\n",
       "      <th>2</th>\n",
       "      <td>2019-10-01 04:00:01+04:00</td>\n",
       "      <td>10</td>\n",
       "      <td>1</td>\n",
       "      <td>Tuesday</td>\n",
       "      <td>4</td>\n",
       "      <td>view</td>\n",
       "      <td>17200506</td>\n",
       "      <td>2053013559792632471</td>\n",
       "      <td>furniture.living_room.sofa</td>\n",
       "      <td>None</td>\n",
       "      <td>543.10</td>\n",
       "      <td>519107250</td>\n",
       "      <td>566511c2-e2e3-422b-b695-cf8e6e792ca8</td>\n",
       "    </tr>\n",
       "    <tr>\n",
       "      <th>3</th>\n",
       "      <td>2019-10-01 04:00:01+04:00</td>\n",
       "      <td>10</td>\n",
       "      <td>1</td>\n",
       "      <td>Tuesday</td>\n",
       "      <td>4</td>\n",
       "      <td>view</td>\n",
       "      <td>1307067</td>\n",
       "      <td>2053013558920217191</td>\n",
       "      <td>computers.notebook</td>\n",
       "      <td>lenovo</td>\n",
       "      <td>251.74</td>\n",
       "      <td>550050854</td>\n",
       "      <td>7c90fc70-0e80-4590-96f3-13c02c18c713</td>\n",
       "    </tr>\n",
       "    <tr>\n",
       "      <th>4</th>\n",
       "      <td>2019-10-01 04:00:04+04:00</td>\n",
       "      <td>10</td>\n",
       "      <td>1</td>\n",
       "      <td>Tuesday</td>\n",
       "      <td>4</td>\n",
       "      <td>view</td>\n",
       "      <td>1004237</td>\n",
       "      <td>2053013555631882655</td>\n",
       "      <td>electronics.smartphone</td>\n",
       "      <td>apple</td>\n",
       "      <td>1081.98</td>\n",
       "      <td>535871217</td>\n",
       "      <td>c6bd7419-2748-4c56-95b4-8cec9ff8b80d</td>\n",
       "    </tr>\n",
       "  </tbody>\n",
       "</table>\n",
       "</div>"
      ],
      "text/plain": [
       "                 event_time  month  day day_name  hour event_type  product_id  \\\n",
       "0 2019-10-01 04:00:00+04:00     10    1  Tuesday     4       view    44600062   \n",
       "1 2019-10-01 04:00:00+04:00     10    1  Tuesday     4       view     3900821   \n",
       "2 2019-10-01 04:00:01+04:00     10    1  Tuesday     4       view    17200506   \n",
       "3 2019-10-01 04:00:01+04:00     10    1  Tuesday     4       view     1307067   \n",
       "4 2019-10-01 04:00:04+04:00     10    1  Tuesday     4       view     1004237   \n",
       "\n",
       "           category_id                        category_code     brand  \\\n",
       "0  2103807459595387724                                 None  shiseido   \n",
       "1  2053013552326770905  appliances.environment.water_heater      aqua   \n",
       "2  2053013559792632471           furniture.living_room.sofa      None   \n",
       "3  2053013558920217191                   computers.notebook    lenovo   \n",
       "4  2053013555631882655               electronics.smartphone     apple   \n",
       "\n",
       "     price    user_id                          user_session  \n",
       "0    35.79  541312140  72d76fde-8bb3-4e00-8c23-a032dfed738c  \n",
       "1    33.20  554748717  9333dfbd-b87a-4708-9857-6336556b0fcc  \n",
       "2   543.10  519107250  566511c2-e2e3-422b-b695-cf8e6e792ca8  \n",
       "3   251.74  550050854  7c90fc70-0e80-4590-96f3-13c02c18c713  \n",
       "4  1081.98  535871217  c6bd7419-2748-4c56-95b4-8cec9ff8b80d  "
      ]
     },
     "execution_count": 22,
     "metadata": {},
     "output_type": "execute_result"
    }
   ],
   "source": [
    "mod.head()"
   ]
  },
  {
   "cell_type": "code",
   "execution_count": 62,
   "metadata": {},
   "outputs": [
    {
     "data": {
      "text/plain": [
       "lucente     655861\n",
       "xiaomi      386119\n",
       "cordiant    368277\n",
       "sony        235406\n",
       "stels       231895\n",
       "bosch       227255\n",
       "triangle    212952\n",
       "nokian      185123\n",
       "force       166369\n",
       "redmond     153856\n",
       "samsung     123872\n",
       "philips     115976\n",
       "yokohama    115014\n",
       "dauscher    113601\n",
       "omabelle    111826\n",
       "artel       100935\n",
       "skad         98592\n",
       "sokolov      98409\n",
       "vitek        97454\n",
       "polaris      94692\n",
       "Name: brand, dtype: int64"
      ]
     },
     "execution_count": 62,
     "metadata": {},
     "output_type": "execute_result"
    }
   ],
   "source": [
    "cond = (mod[\"category_code\"].isna()) | (mod[\"brand\"].isna())\n",
    "mod[cond][\"brand\"].value_counts().head(20)"
   ]
  },
  {
   "cell_type": "code",
   "execution_count": 74,
   "metadata": {},
   "outputs": [
    {
     "data": {
      "text/plain": [
       "887.28     262\n",
       "845.84      18\n",
       "832.20    3202\n",
       "784.58      16\n",
       "782.00    6864\n",
       "          ... \n",
       "11.33       29\n",
       "10.81      347\n",
       "10.30      122\n",
       "10.04       30\n",
       "9.52        28\n",
       "Name: price, Length: 672, dtype: int64"
      ]
     },
     "execution_count": 74,
     "metadata": {},
     "output_type": "execute_result"
    }
   ],
   "source": [
    "lucente = (mod[\"brand\"] == \"lucente\")\n",
    "# mod[lucente][\"category_code\"].value_counts()\n",
    "mod[lucente][\"price\"].value_counts().sort_index(ascending=False)"
   ]
  },
  {
   "cell_type": "code",
   "execution_count": 75,
   "metadata": {},
   "outputs": [
    {
     "data": {
      "text/html": [
       "<div>\n",
       "<style scoped>\n",
       "    .dataframe tbody tr th:only-of-type {\n",
       "        vertical-align: middle;\n",
       "    }\n",
       "\n",
       "    .dataframe tbody tr th {\n",
       "        vertical-align: top;\n",
       "    }\n",
       "\n",
       "    .dataframe thead th {\n",
       "        text-align: right;\n",
       "    }\n",
       "</style>\n",
       "<table border=\"1\" class=\"dataframe\">\n",
       "  <thead>\n",
       "    <tr style=\"text-align: right;\">\n",
       "      <th></th>\n",
       "      <th>event_time</th>\n",
       "      <th>month</th>\n",
       "      <th>day</th>\n",
       "      <th>day_name</th>\n",
       "      <th>hour</th>\n",
       "      <th>event_type</th>\n",
       "      <th>product_id</th>\n",
       "      <th>category_id</th>\n",
       "      <th>category_code</th>\n",
       "      <th>brand</th>\n",
       "      <th>price</th>\n",
       "      <th>user_id</th>\n",
       "      <th>user_session</th>\n",
       "    </tr>\n",
       "  </thead>\n",
       "  <tbody>\n",
       "    <tr>\n",
       "      <th>53</th>\n",
       "      <td>2019-10-01 04:00:42+04:00</td>\n",
       "      <td>10</td>\n",
       "      <td>1</td>\n",
       "      <td>Tuesday</td>\n",
       "      <td>4</td>\n",
       "      <td>view</td>\n",
       "      <td>26400291</td>\n",
       "      <td>2053013563651392361</td>\n",
       "      <td>None</td>\n",
       "      <td>lucente</td>\n",
       "      <td>188.94</td>\n",
       "      <td>551331813</td>\n",
       "      <td>19ded3e3-823b-4f51-ad00-ab84f364f5ef</td>\n",
       "    </tr>\n",
       "    <tr>\n",
       "      <th>58</th>\n",
       "      <td>2019-10-01 04:00:44+04:00</td>\n",
       "      <td>10</td>\n",
       "      <td>1</td>\n",
       "      <td>Tuesday</td>\n",
       "      <td>4</td>\n",
       "      <td>view</td>\n",
       "      <td>26500313</td>\n",
       "      <td>2053013563550729061</td>\n",
       "      <td>None</td>\n",
       "      <td>lucente</td>\n",
       "      <td>267.19</td>\n",
       "      <td>525856698</td>\n",
       "      <td>f72ea16b-4ec3-44f8-8fcd-35d89984b744</td>\n",
       "    </tr>\n",
       "    <tr>\n",
       "      <th>85</th>\n",
       "      <td>2019-10-01 04:01:12+04:00</td>\n",
       "      <td>10</td>\n",
       "      <td>1</td>\n",
       "      <td>Tuesday</td>\n",
       "      <td>4</td>\n",
       "      <td>view</td>\n",
       "      <td>26500144</td>\n",
       "      <td>2053013563550729061</td>\n",
       "      <td>None</td>\n",
       "      <td>lucente</td>\n",
       "      <td>259.21</td>\n",
       "      <td>525856698</td>\n",
       "      <td>f72ea16b-4ec3-44f8-8fcd-35d89984b744</td>\n",
       "    </tr>\n",
       "    <tr>\n",
       "      <th>150</th>\n",
       "      <td>2019-10-01 04:02:05+04:00</td>\n",
       "      <td>10</td>\n",
       "      <td>1</td>\n",
       "      <td>Tuesday</td>\n",
       "      <td>4</td>\n",
       "      <td>view</td>\n",
       "      <td>26201000</td>\n",
       "      <td>2053013563693335403</td>\n",
       "      <td>None</td>\n",
       "      <td>lucente</td>\n",
       "      <td>106.31</td>\n",
       "      <td>555447748</td>\n",
       "      <td>b50d1ae8-1948-4517-8460-09b7601ceef6</td>\n",
       "    </tr>\n",
       "    <tr>\n",
       "      <th>264</th>\n",
       "      <td>2019-10-01 04:03:46+04:00</td>\n",
       "      <td>10</td>\n",
       "      <td>1</td>\n",
       "      <td>Tuesday</td>\n",
       "      <td>4</td>\n",
       "      <td>view</td>\n",
       "      <td>26300089</td>\n",
       "      <td>2053013563584283495</td>\n",
       "      <td>None</td>\n",
       "      <td>lucente</td>\n",
       "      <td>271.82</td>\n",
       "      <td>552985520</td>\n",
       "      <td>7e776b9d-4f32-494f-9fbe-f293046cdd6c</td>\n",
       "    </tr>\n",
       "    <tr>\n",
       "      <th>...</th>\n",
       "      <td>...</td>\n",
       "      <td>...</td>\n",
       "      <td>...</td>\n",
       "      <td>...</td>\n",
       "      <td>...</td>\n",
       "      <td>...</td>\n",
       "      <td>...</td>\n",
       "      <td>...</td>\n",
       "      <td>...</td>\n",
       "      <td>...</td>\n",
       "      <td>...</td>\n",
       "      <td>...</td>\n",
       "      <td>...</td>\n",
       "    </tr>\n",
       "    <tr>\n",
       "      <th>42447923</th>\n",
       "      <td>2019-11-01 03:53:37+04:00</td>\n",
       "      <td>11</td>\n",
       "      <td>1</td>\n",
       "      <td>Friday</td>\n",
       "      <td>3</td>\n",
       "      <td>view</td>\n",
       "      <td>26300188</td>\n",
       "      <td>2053013563584283495</td>\n",
       "      <td>None</td>\n",
       "      <td>lucente</td>\n",
       "      <td>709.67</td>\n",
       "      <td>497681858</td>\n",
       "      <td>900fe3e7-a6b3-49f6-9a9c-a8847822f75a</td>\n",
       "    </tr>\n",
       "    <tr>\n",
       "      <th>42448006</th>\n",
       "      <td>2019-11-01 03:54:15+04:00</td>\n",
       "      <td>11</td>\n",
       "      <td>1</td>\n",
       "      <td>Friday</td>\n",
       "      <td>3</td>\n",
       "      <td>view</td>\n",
       "      <td>26404396</td>\n",
       "      <td>2053013563651392361</td>\n",
       "      <td>None</td>\n",
       "      <td>lucente</td>\n",
       "      <td>58.43</td>\n",
       "      <td>564353057</td>\n",
       "      <td>b916c35a-600b-4d21-ad90-5b196a3811b1</td>\n",
       "    </tr>\n",
       "    <tr>\n",
       "      <th>42448291</th>\n",
       "      <td>2019-11-01 03:56:11+04:00</td>\n",
       "      <td>11</td>\n",
       "      <td>1</td>\n",
       "      <td>Friday</td>\n",
       "      <td>3</td>\n",
       "      <td>view</td>\n",
       "      <td>26400291</td>\n",
       "      <td>2053013563651392361</td>\n",
       "      <td>None</td>\n",
       "      <td>lucente</td>\n",
       "      <td>200.26</td>\n",
       "      <td>565098257</td>\n",
       "      <td>dfbfd3f3-9347-45a1-b572-ec3897d327dc</td>\n",
       "    </tr>\n",
       "    <tr>\n",
       "      <th>42448464</th>\n",
       "      <td>2019-11-01 03:57:44+04:00</td>\n",
       "      <td>11</td>\n",
       "      <td>1</td>\n",
       "      <td>Friday</td>\n",
       "      <td>3</td>\n",
       "      <td>view</td>\n",
       "      <td>26400686</td>\n",
       "      <td>2053013563651392361</td>\n",
       "      <td>None</td>\n",
       "      <td>lucente</td>\n",
       "      <td>406.45</td>\n",
       "      <td>533351761</td>\n",
       "      <td>6229f7bc-7440-44dc-8768-d924071fb879</td>\n",
       "    </tr>\n",
       "    <tr>\n",
       "      <th>42448617</th>\n",
       "      <td>2019-11-01 03:58:57+04:00</td>\n",
       "      <td>11</td>\n",
       "      <td>1</td>\n",
       "      <td>Friday</td>\n",
       "      <td>3</td>\n",
       "      <td>view</td>\n",
       "      <td>26400291</td>\n",
       "      <td>2053013563651392361</td>\n",
       "      <td>None</td>\n",
       "      <td>lucente</td>\n",
       "      <td>200.26</td>\n",
       "      <td>565098257</td>\n",
       "      <td>dfbfd3f3-9347-45a1-b572-ec3897d327dc</td>\n",
       "    </tr>\n",
       "  </tbody>\n",
       "</table>\n",
       "<p>655861 rows × 13 columns</p>\n",
       "</div>"
      ],
      "text/plain": [
       "                        event_time  month  day day_name  hour event_type  \\\n",
       "53       2019-10-01 04:00:42+04:00     10    1  Tuesday     4       view   \n",
       "58       2019-10-01 04:00:44+04:00     10    1  Tuesday     4       view   \n",
       "85       2019-10-01 04:01:12+04:00     10    1  Tuesday     4       view   \n",
       "150      2019-10-01 04:02:05+04:00     10    1  Tuesday     4       view   \n",
       "264      2019-10-01 04:03:46+04:00     10    1  Tuesday     4       view   \n",
       "...                            ...    ...  ...      ...   ...        ...   \n",
       "42447923 2019-11-01 03:53:37+04:00     11    1   Friday     3       view   \n",
       "42448006 2019-11-01 03:54:15+04:00     11    1   Friday     3       view   \n",
       "42448291 2019-11-01 03:56:11+04:00     11    1   Friday     3       view   \n",
       "42448464 2019-11-01 03:57:44+04:00     11    1   Friday     3       view   \n",
       "42448617 2019-11-01 03:58:57+04:00     11    1   Friday     3       view   \n",
       "\n",
       "          product_id          category_id category_code    brand   price  \\\n",
       "53          26400291  2053013563651392361          None  lucente  188.94   \n",
       "58          26500313  2053013563550729061          None  lucente  267.19   \n",
       "85          26500144  2053013563550729061          None  lucente  259.21   \n",
       "150         26201000  2053013563693335403          None  lucente  106.31   \n",
       "264         26300089  2053013563584283495          None  lucente  271.82   \n",
       "...              ...                  ...           ...      ...     ...   \n",
       "42447923    26300188  2053013563584283495          None  lucente  709.67   \n",
       "42448006    26404396  2053013563651392361          None  lucente   58.43   \n",
       "42448291    26400291  2053013563651392361          None  lucente  200.26   \n",
       "42448464    26400686  2053013563651392361          None  lucente  406.45   \n",
       "42448617    26400291  2053013563651392361          None  lucente  200.26   \n",
       "\n",
       "            user_id                          user_session  \n",
       "53        551331813  19ded3e3-823b-4f51-ad00-ab84f364f5ef  \n",
       "58        525856698  f72ea16b-4ec3-44f8-8fcd-35d89984b744  \n",
       "85        525856698  f72ea16b-4ec3-44f8-8fcd-35d89984b744  \n",
       "150       555447748  b50d1ae8-1948-4517-8460-09b7601ceef6  \n",
       "264       552985520  7e776b9d-4f32-494f-9fbe-f293046cdd6c  \n",
       "...             ...                                   ...  \n",
       "42447923  497681858  900fe3e7-a6b3-49f6-9a9c-a8847822f75a  \n",
       "42448006  564353057  b916c35a-600b-4d21-ad90-5b196a3811b1  \n",
       "42448291  565098257  dfbfd3f3-9347-45a1-b572-ec3897d327dc  \n",
       "42448464  533351761  6229f7bc-7440-44dc-8768-d924071fb879  \n",
       "42448617  565098257  dfbfd3f3-9347-45a1-b572-ec3897d327dc  \n",
       "\n",
       "[655861 rows x 13 columns]"
      ]
     },
     "execution_count": 75,
     "metadata": {},
     "output_type": "execute_result"
    }
   ],
   "source": [
    "mod[lucente]"
   ]
  },
  {
   "cell_type": "code",
   "execution_count": 40,
   "metadata": {},
   "outputs": [
    {
     "data": {
      "text/plain": [
       "28.42     20833\n",
       "27.61     16326\n",
       "29.09     13886\n",
       "28.55      9327\n",
       "28.80      8980\n",
       "28.73      8879\n",
       "28.56      8761\n",
       "28.95      8451\n",
       "28.31      7359\n",
       "48.14      6027\n",
       "29.01      5758\n",
       "29.54      5311\n",
       "28.28      5088\n",
       "102.70     4280\n",
       "29.56      4146\n",
       "21.85      3929\n",
       "21.09      3725\n",
       "81.86      3578\n",
       "78.51      3356\n",
       "76.94      3327\n",
       "28.69      3207\n",
       "20.34      3113\n",
       "28.36      3078\n",
       "28.30      3026\n",
       "22.96      3000\n",
       "22.88      2981\n",
       "28.44      2905\n",
       "29.51      2885\n",
       "29.58      2842\n",
       "29.08      2839\n",
       "Name: price, dtype: int64"
      ]
     },
     "execution_count": 40,
     "metadata": {},
     "output_type": "execute_result"
    }
   ],
   "source": [
    "xiao = (mod[\"brand\"] == \"xiaomi\")\n",
    "xiao_none = (mod[\"brand\"] == \"xiaomi\") & (mod[\"category_code\"].isna())\n",
    "mod[xiao_none][\"price\"].value_counts().head(30)"
   ]
  },
  {
   "cell_type": "code",
   "execution_count": 83,
   "metadata": {},
   "outputs": [
    {
     "data": {
      "text/plain": [
       "electronics.audio.headphone     125972\n",
       "appliances.personal.scales        4330\n",
       "appliances.kitchen.kettle          840\n",
       "accessories.umbrella               806\n",
       "accessories.bag                    782\n",
       "computers.peripherals.mouse        420\n",
       "construction.tools.light           410\n",
       "furniture.bedroom.pillow           138\n",
       "construction.tools.generator        22\n",
       "stationery.cartrige                  1\n",
       "Name: category_code, dtype: int64"
      ]
     },
     "execution_count": 83,
     "metadata": {},
     "output_type": "execute_result"
    }
   ],
   "source": [
    "xiao_20 = (mod[\"brand\"] == \"xiaomi\") & (mod[\"price\"] >= 20) & (mod[\"price\"] < 30)\n",
    "mod[xiao_20][\"category_code\"].value_counts()"
   ]
  },
  {
   "cell_type": "code",
   "execution_count": 49,
   "metadata": {},
   "outputs": [
    {
     "data": {
      "text/plain": [
       "electronics.audio.headphone    4161\n",
       "electronics.smartphone         1864\n",
       "electronics.clocks              802\n",
       "auto.accessories.compressor     365\n",
       "Name: category_code, dtype: int64"
      ]
     },
     "execution_count": 49,
     "metadata": {},
     "output_type": "execute_result"
    }
   ],
   "source": [
    "xiao_75 = (mod[\"brand\"] == \"xiaomi\") & (mod[\"price\"] >= 75) & (mod[\"price\"] < 80)\n",
    "mod[xiao_75][\"category_code\"].value_counts()"
   ]
  },
  {
   "cell_type": "code",
   "execution_count": 50,
   "metadata": {},
   "outputs": [
    {
     "data": {
      "text/plain": [
       "electronics.audio.headphone       16405\n",
       "electronics.clocks                15853\n",
       "auto.accessories.videoregister    13948\n",
       "electronics.smartphone            10829\n",
       "Name: category_code, dtype: int64"
      ]
     },
     "execution_count": 50,
     "metadata": {},
     "output_type": "execute_result"
    }
   ],
   "source": [
    "xiao_70 = (mod[\"brand\"] == \"xiaomi\") & (mod[\"price\"] >= 70) & (mod[\"price\"] < 75)\n",
    "mod[xiao_70][\"category_code\"].value_counts()"
   ]
  },
  {
   "cell_type": "code",
   "execution_count": 82,
   "metadata": {},
   "outputs": [
    {
     "data": {
      "text/plain": [
       "35043457    74.97\n",
       "35188585    74.97\n",
       "35131829    74.97\n",
       "35131321    74.97\n",
       "35125458    74.97\n",
       "            ...  \n",
       "37973194    70.13\n",
       "38295010    70.13\n",
       "38297264    70.13\n",
       "38297528    70.13\n",
       "38109054    70.13\n",
       "Name: price, Length: 59850, dtype: float64"
      ]
     },
     "execution_count": 82,
     "metadata": {},
     "output_type": "execute_result"
    }
   ],
   "source": [
    "mod[xiao_70][\"price\"].sort_values(ascending=False)"
   ]
  },
  {
   "cell_type": "code",
   "execution_count": null,
   "metadata": {},
   "outputs": [],
   "source": []
  },
  {
   "cell_type": "code",
   "execution_count": null,
   "metadata": {},
   "outputs": [],
   "source": []
  },
  {
   "cell_type": "code",
   "execution_count": null,
   "metadata": {},
   "outputs": [],
   "source": []
  },
  {
   "cell_type": "code",
   "execution_count": 15,
   "metadata": {},
   "outputs": [
    {
     "data": {
      "text/plain": [
       "0           10\n",
       "1           10\n",
       "2           10\n",
       "3           10\n",
       "4           10\n",
       "            ..\n",
       "42448759    11\n",
       "42448760    11\n",
       "42448761    11\n",
       "42448762    11\n",
       "42448763    11\n",
       "Name: event_time, Length: 42448764, dtype: int64"
      ]
     },
     "execution_count": 15,
     "metadata": {},
     "output_type": "execute_result"
    }
   ],
   "source": [
    "# event_time 월만 빼내기\n",
    "df[\"event_time\"].dt.month"
   ]
  },
  {
   "cell_type": "code",
   "execution_count": 16,
   "metadata": {},
   "outputs": [
    {
     "data": {
      "text/plain": [
       "0           1\n",
       "1           1\n",
       "2           1\n",
       "3           1\n",
       "4           1\n",
       "           ..\n",
       "42448759    1\n",
       "42448760    1\n",
       "42448761    1\n",
       "42448762    1\n",
       "42448763    1\n",
       "Name: event_time, Length: 42448764, dtype: int64"
      ]
     },
     "execution_count": 16,
     "metadata": {},
     "output_type": "execute_result"
    }
   ],
   "source": [
    "# event_time 일만 빼내기\n",
    "df[\"event_time\"].dt.day"
   ]
  },
  {
   "cell_type": "code",
   "execution_count": 17,
   "metadata": {},
   "outputs": [
    {
     "data": {
      "text/plain": [
       "0           4\n",
       "1           4\n",
       "2           4\n",
       "3           4\n",
       "4           4\n",
       "           ..\n",
       "42448759    3\n",
       "42448760    3\n",
       "42448761    3\n",
       "42448762    3\n",
       "42448763    3\n",
       "Name: event_time, Length: 42448764, dtype: int64"
      ]
     },
     "execution_count": 17,
     "metadata": {},
     "output_type": "execute_result"
    }
   ],
   "source": [
    "# event_time 시간만 빼내기\n",
    "df[\"event_time\"].dt.hour"
   ]
  },
  {
   "cell_type": "code",
   "execution_count": 18,
   "metadata": {},
   "outputs": [
    {
     "data": {
      "text/plain": [
       "0            0\n",
       "1            0\n",
       "2            0\n",
       "3            0\n",
       "4            0\n",
       "            ..\n",
       "42448759    59\n",
       "42448760    59\n",
       "42448761    59\n",
       "42448762    59\n",
       "42448763    59\n",
       "Name: event_time, Length: 42448764, dtype: int64"
      ]
     },
     "execution_count": 18,
     "metadata": {},
     "output_type": "execute_result"
    }
   ],
   "source": [
    "# event_time 분만 빼내기\n",
    "df[\"event_time\"].dt.minute"
   ]
  },
  {
   "cell_type": "code",
   "execution_count": 19,
   "metadata": {},
   "outputs": [
    {
     "data": {
      "text/plain": [
       "0           Tuesday\n",
       "1           Tuesday\n",
       "2           Tuesday\n",
       "3           Tuesday\n",
       "4           Tuesday\n",
       "             ...   \n",
       "42448759     Friday\n",
       "42448760     Friday\n",
       "42448761     Friday\n",
       "42448762     Friday\n",
       "42448763     Friday\n",
       "Name: event_time, Length: 42448764, dtype: object"
      ]
     },
     "execution_count": 19,
     "metadata": {},
     "output_type": "execute_result"
    }
   ],
   "source": [
    "# event_time 요일 이름만 빼내기\n",
    "df[\"event_time\"].apply(lambda x : x.day_name())"
   ]
  },
  {
   "cell_type": "code",
   "execution_count": 6,
   "metadata": {},
   "outputs": [
    {
     "data": {
      "text/plain": [
       "11"
      ]
     },
     "execution_count": 6,
     "metadata": {},
     "output_type": "execute_result"
    }
   ],
   "source": [
    "1+10"
   ]
  },
  {
   "cell_type": "code",
   "execution_count": null,
   "metadata": {},
   "outputs": [],
   "source": []
  },
  {
   "cell_type": "code",
   "execution_count": null,
   "metadata": {},
   "outputs": [],
   "source": []
  },
  {
   "cell_type": "code",
   "execution_count": 20,
   "metadata": {},
   "outputs": [
    {
     "ename": "MemoryError",
     "evalue": "",
     "output_type": "error",
     "traceback": [
      "\u001b[1;31m---------------------------------------------------------------------------\u001b[0m",
      "\u001b[1;31mMemoryError\u001b[0m                               Traceback (most recent call last)",
      "\u001b[1;32mc:\\Users\\aryij\\Documents\\AI Bootcamp\\Codestates Project\\cp2\\ecommerce-behavior-data-analysis\\2019_oct.ipynb Cell 27'\u001b[0m in \u001b[0;36m<cell line: 1>\u001b[1;34m()\u001b[0m\n\u001b[1;32m----> <a href='vscode-notebook-cell:/c%3A/Users/aryij/Documents/AI%20Bootcamp/Codestates%20Project/cp2/ecommerce-behavior-data-analysis/2019_oct.ipynb#ch0000026?line=0'>1</a>\u001b[0m df[\u001b[39m\"\u001b[39;49m\u001b[39mcategory_code\u001b[39;49m\u001b[39m\"\u001b[39;49m]\u001b[39m.\u001b[39;49mstr\u001b[39m.\u001b[39;49msplit(\u001b[39m\"\u001b[39;49m\u001b[39m.\u001b[39;49m\u001b[39m\"\u001b[39;49m)\u001b[39m.\u001b[39mstr[\u001b[39m0\u001b[39m]\n",
      "File \u001b[1;32mc:\\Users\\aryij\\anaconda3\\envs\\cp2\\lib\\site-packages\\pandas\\core\\strings\\accessor.py:125\u001b[0m, in \u001b[0;36mforbid_nonstring_types.<locals>._forbid_nonstring_types.<locals>.wrapper\u001b[1;34m(self, *args, **kwargs)\u001b[0m\n\u001b[0;32m    <a href='file:///c%3A/Users/aryij/anaconda3/envs/cp2/lib/site-packages/pandas/core/strings/accessor.py?line=119'>120</a>\u001b[0m     msg \u001b[39m=\u001b[39m (\n\u001b[0;32m    <a href='file:///c%3A/Users/aryij/anaconda3/envs/cp2/lib/site-packages/pandas/core/strings/accessor.py?line=120'>121</a>\u001b[0m         \u001b[39mf\u001b[39m\u001b[39m\"\u001b[39m\u001b[39mCannot use .str.\u001b[39m\u001b[39m{\u001b[39;00mfunc_name\u001b[39m}\u001b[39;00m\u001b[39m with values of \u001b[39m\u001b[39m\"\u001b[39m\n\u001b[0;32m    <a href='file:///c%3A/Users/aryij/anaconda3/envs/cp2/lib/site-packages/pandas/core/strings/accessor.py?line=121'>122</a>\u001b[0m         \u001b[39mf\u001b[39m\u001b[39m\"\u001b[39m\u001b[39minferred dtype \u001b[39m\u001b[39m'\u001b[39m\u001b[39m{\u001b[39;00m\u001b[39mself\u001b[39m\u001b[39m.\u001b[39m_inferred_dtype\u001b[39m}\u001b[39;00m\u001b[39m'\u001b[39m\u001b[39m.\u001b[39m\u001b[39m\"\u001b[39m\n\u001b[0;32m    <a href='file:///c%3A/Users/aryij/anaconda3/envs/cp2/lib/site-packages/pandas/core/strings/accessor.py?line=122'>123</a>\u001b[0m     )\n\u001b[0;32m    <a href='file:///c%3A/Users/aryij/anaconda3/envs/cp2/lib/site-packages/pandas/core/strings/accessor.py?line=123'>124</a>\u001b[0m     \u001b[39mraise\u001b[39;00m \u001b[39mTypeError\u001b[39;00m(msg)\n\u001b[1;32m--> <a href='file:///c%3A/Users/aryij/anaconda3/envs/cp2/lib/site-packages/pandas/core/strings/accessor.py?line=124'>125</a>\u001b[0m \u001b[39mreturn\u001b[39;00m func(\u001b[39mself\u001b[39;49m, \u001b[39m*\u001b[39;49margs, \u001b[39m*\u001b[39;49m\u001b[39m*\u001b[39;49mkwargs)\n",
      "File \u001b[1;32mc:\\Users\\aryij\\anaconda3\\envs\\cp2\\lib\\site-packages\\pandas\\core\\strings\\accessor.py:850\u001b[0m, in \u001b[0;36mStringMethods.split\u001b[1;34m(self, pat, n, expand, regex)\u001b[0m\n\u001b[0;32m    <a href='file:///c%3A/Users/aryij/anaconda3/envs/cp2/lib/site-packages/pandas/core/strings/accessor.py?line=847'>848</a>\u001b[0m \u001b[39mif\u001b[39;00m is_re(pat):\n\u001b[0;32m    <a href='file:///c%3A/Users/aryij/anaconda3/envs/cp2/lib/site-packages/pandas/core/strings/accessor.py?line=848'>849</a>\u001b[0m     regex \u001b[39m=\u001b[39m \u001b[39mTrue\u001b[39;00m\n\u001b[1;32m--> <a href='file:///c%3A/Users/aryij/anaconda3/envs/cp2/lib/site-packages/pandas/core/strings/accessor.py?line=849'>850</a>\u001b[0m result \u001b[39m=\u001b[39m \u001b[39mself\u001b[39;49m\u001b[39m.\u001b[39;49m_data\u001b[39m.\u001b[39;49marray\u001b[39m.\u001b[39;49m_str_split(pat, n, expand, regex)\n\u001b[0;32m    <a href='file:///c%3A/Users/aryij/anaconda3/envs/cp2/lib/site-packages/pandas/core/strings/accessor.py?line=850'>851</a>\u001b[0m \u001b[39mreturn\u001b[39;00m \u001b[39mself\u001b[39m\u001b[39m.\u001b[39m_wrap_result(result, returns_string\u001b[39m=\u001b[39mexpand, expand\u001b[39m=\u001b[39mexpand)\n",
      "File \u001b[1;32mc:\\Users\\aryij\\anaconda3\\envs\\cp2\\lib\\site-packages\\pandas\\core\\strings\\object_array.py:341\u001b[0m, in \u001b[0;36mObjectStringArrayMixin._str_split\u001b[1;34m(self, pat, n, expand, regex)\u001b[0m\n\u001b[0;32m    <a href='file:///c%3A/Users/aryij/anaconda3/envs/cp2/lib/site-packages/pandas/core/strings/object_array.py?line=338'>339</a>\u001b[0m             n \u001b[39m=\u001b[39m \u001b[39m-\u001b[39m\u001b[39m1\u001b[39m\n\u001b[0;32m    <a href='file:///c%3A/Users/aryij/anaconda3/envs/cp2/lib/site-packages/pandas/core/strings/object_array.py?line=339'>340</a>\u001b[0m         f \u001b[39m=\u001b[39m \u001b[39mlambda\u001b[39;00m x: x\u001b[39m.\u001b[39msplit(pat, n)\n\u001b[1;32m--> <a href='file:///c%3A/Users/aryij/anaconda3/envs/cp2/lib/site-packages/pandas/core/strings/object_array.py?line=340'>341</a>\u001b[0m \u001b[39mreturn\u001b[39;00m \u001b[39mself\u001b[39;49m\u001b[39m.\u001b[39;49m_str_map(f, dtype\u001b[39m=\u001b[39;49m\u001b[39mobject\u001b[39;49m)\n",
      "File \u001b[1;32mc:\\Users\\aryij\\anaconda3\\envs\\cp2\\lib\\site-packages\\pandas\\core\\strings\\object_array.py:71\u001b[0m, in \u001b[0;36mObjectStringArrayMixin._str_map\u001b[1;34m(self, f, na_value, dtype, convert)\u001b[0m\n\u001b[0;32m     <a href='file:///c%3A/Users/aryij/anaconda3/envs/cp2/lib/site-packages/pandas/core/strings/object_array.py?line=68'>69</a>\u001b[0m map_convert \u001b[39m=\u001b[39m convert \u001b[39mand\u001b[39;00m \u001b[39mnot\u001b[39;00m np\u001b[39m.\u001b[39mall(mask)\n\u001b[0;32m     <a href='file:///c%3A/Users/aryij/anaconda3/envs/cp2/lib/site-packages/pandas/core/strings/object_array.py?line=69'>70</a>\u001b[0m \u001b[39mtry\u001b[39;00m:\n\u001b[1;32m---> <a href='file:///c%3A/Users/aryij/anaconda3/envs/cp2/lib/site-packages/pandas/core/strings/object_array.py?line=70'>71</a>\u001b[0m     result \u001b[39m=\u001b[39m lib\u001b[39m.\u001b[39;49mmap_infer_mask(arr, f, mask\u001b[39m.\u001b[39;49mview(np\u001b[39m.\u001b[39;49muint8), map_convert)\n\u001b[0;32m     <a href='file:///c%3A/Users/aryij/anaconda3/envs/cp2/lib/site-packages/pandas/core/strings/object_array.py?line=71'>72</a>\u001b[0m \u001b[39mexcept\u001b[39;00m (\u001b[39mTypeError\u001b[39;00m, \u001b[39mAttributeError\u001b[39;00m) \u001b[39mas\u001b[39;00m err:\n\u001b[0;32m     <a href='file:///c%3A/Users/aryij/anaconda3/envs/cp2/lib/site-packages/pandas/core/strings/object_array.py?line=72'>73</a>\u001b[0m     \u001b[39m# Reraise the exception if callable `f` got wrong number of args.\u001b[39;00m\n\u001b[0;32m     <a href='file:///c%3A/Users/aryij/anaconda3/envs/cp2/lib/site-packages/pandas/core/strings/object_array.py?line=73'>74</a>\u001b[0m     \u001b[39m# The user may want to be warned by this, instead of getting NaN\u001b[39;00m\n\u001b[0;32m     <a href='file:///c%3A/Users/aryij/anaconda3/envs/cp2/lib/site-packages/pandas/core/strings/object_array.py?line=74'>75</a>\u001b[0m     p_err \u001b[39m=\u001b[39m (\n\u001b[0;32m     <a href='file:///c%3A/Users/aryij/anaconda3/envs/cp2/lib/site-packages/pandas/core/strings/object_array.py?line=75'>76</a>\u001b[0m         \u001b[39mr\u001b[39m\u001b[39m\"\u001b[39m\u001b[39m((takes)|(missing)) (?(2)from \u001b[39m\u001b[39m\\\u001b[39m\u001b[39md+ to )?\u001b[39m\u001b[39m\\\u001b[39m\u001b[39md+ \u001b[39m\u001b[39m\"\u001b[39m\n\u001b[0;32m     <a href='file:///c%3A/Users/aryij/anaconda3/envs/cp2/lib/site-packages/pandas/core/strings/object_array.py?line=76'>77</a>\u001b[0m         \u001b[39mr\u001b[39m\u001b[39m\"\u001b[39m\u001b[39m(?(3)required )positional arguments?\u001b[39m\u001b[39m\"\u001b[39m\n\u001b[0;32m     <a href='file:///c%3A/Users/aryij/anaconda3/envs/cp2/lib/site-packages/pandas/core/strings/object_array.py?line=77'>78</a>\u001b[0m     )\n",
      "File \u001b[1;32mc:\\Users\\aryij\\anaconda3\\envs\\cp2\\lib\\site-packages\\pandas\\_libs\\lib.pyx:2822\u001b[0m, in \u001b[0;36mpandas._libs.lib.map_infer_mask\u001b[1;34m()\u001b[0m\n",
      "File \u001b[1;32mc:\\Users\\aryij\\anaconda3\\envs\\cp2\\lib\\site-packages\\pandas\\core\\strings\\object_array.py:340\u001b[0m, in \u001b[0;36mObjectStringArrayMixin._str_split.<locals>.<lambda>\u001b[1;34m(x)\u001b[0m\n\u001b[0;32m    <a href='file:///c%3A/Users/aryij/anaconda3/envs/cp2/lib/site-packages/pandas/core/strings/object_array.py?line=337'>338</a>\u001b[0m         \u001b[39mif\u001b[39;00m n \u001b[39mis\u001b[39;00m \u001b[39mNone\u001b[39;00m \u001b[39mor\u001b[39;00m n \u001b[39m==\u001b[39m \u001b[39m0\u001b[39m:\n\u001b[0;32m    <a href='file:///c%3A/Users/aryij/anaconda3/envs/cp2/lib/site-packages/pandas/core/strings/object_array.py?line=338'>339</a>\u001b[0m             n \u001b[39m=\u001b[39m \u001b[39m-\u001b[39m\u001b[39m1\u001b[39m\n\u001b[1;32m--> <a href='file:///c%3A/Users/aryij/anaconda3/envs/cp2/lib/site-packages/pandas/core/strings/object_array.py?line=339'>340</a>\u001b[0m         f \u001b[39m=\u001b[39m \u001b[39mlambda\u001b[39;00m x: x\u001b[39m.\u001b[39;49msplit(pat, n)\n\u001b[0;32m    <a href='file:///c%3A/Users/aryij/anaconda3/envs/cp2/lib/site-packages/pandas/core/strings/object_array.py?line=340'>341</a>\u001b[0m \u001b[39mreturn\u001b[39;00m \u001b[39mself\u001b[39m\u001b[39m.\u001b[39m_str_map(f, dtype\u001b[39m=\u001b[39m\u001b[39mobject\u001b[39m)\n",
      "\u001b[1;31mMemoryError\u001b[0m: "
     ]
    }
   ],
   "source": [
    "df[\"category_code\"].str.split(\".\").str[0]"
   ]
  },
  {
   "cell_type": "code",
   "execution_count": null,
   "metadata": {},
   "outputs": [],
   "source": []
  }
 ],
 "metadata": {
  "interpreter": {
   "hash": "082be1bbb8cf51e79f7eecb97b4a3116b1b28bb6664706b22c0c7433d973cc3c"
  },
  "kernelspec": {
   "display_name": "Python 3.8.13 ('cp2')",
   "language": "python",
   "name": "python3"
  },
  "language_info": {
   "codemirror_mode": {
    "name": "ipython",
    "version": 3
   },
   "file_extension": ".py",
   "mimetype": "text/x-python",
   "name": "python",
   "nbconvert_exporter": "python",
   "pygments_lexer": "ipython3",
   "version": "3.8.13"
  },
  "orig_nbformat": 4
 },
 "nbformat": 4,
 "nbformat_minor": 2
}
