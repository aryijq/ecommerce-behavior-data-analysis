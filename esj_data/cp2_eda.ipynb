{
  "cells": [
    {
      "cell_type": "markdown",
      "metadata": {
        "colab_type": "text",
        "id": "view-in-github"
      },
      "source": [
        "<a href=\"https://colab.research.google.com/github/aryijq/ecommerce-behavior-data-analysis/blob/main/cp2_eda.ipynb\" target=\"_parent\"><img src=\"https://colab.research.google.com/assets/colab-badge.svg\" alt=\"Open In Colab\"/></a>"
      ]
    },
    {
      "cell_type": "code",
      "execution_count": null,
      "metadata": {
        "colab": {
          "base_uri": "https://localhost:8080/"
        },
        "id": "d_3A0PVvMzo8",
        "outputId": "bf7b913d-41be-4421-9c2e-ca899c15a2f2"
      },
      "outputs": [],
      "source": [
        "from google.colab import drive\n",
        "drive.mount('/content/drive')"
      ]
    },
    {
      "cell_type": "code",
      "execution_count": null,
      "metadata": {
        "colab": {
          "base_uri": "https://localhost:8080/"
        },
        "id": "JWGSo6Xu89IA",
        "outputId": "672fd2fb-660d-4220-e4f9-45afaf734a98"
      },
      "outputs": [
        {
          "name": "stdout",
          "output_type": "stream",
          "text": [
            "Collecting datatable\n",
            "  Downloading datatable-1.0.0-cp37-cp37m-manylinux_2_12_x86_64.whl (96.9 MB)\n",
            "\u001b[K     |████████████████████████████████| 96.9 MB 87 kB/s \n",
            "\u001b[?25hInstalling collected packages: datatable\n",
            "Successfully installed datatable-1.0.0\n"
          ]
        }
      ],
      "source": [
        "# pip install datatable"
      ]
    },
    {
      "cell_type": "code",
      "execution_count": 20,
      "metadata": {
        "id": "vkxnqZvzMzmT"
      },
      "outputs": [],
      "source": [
        "import pandas as pd\n",
        "import numpy as np\n",
        "import matplotlib.pyplot as plt\n",
        "import seaborn as sns\n",
        "import warnings\n",
        "import matplotlib as mpl\n",
        "from datetime import datetime\n",
        "from datetime import timedelta\n",
        "\n",
        "# Windows\n",
        "mpl.rc(\"font\", family='Malgun Gothic')\n",
        "\n",
        "warnings.filterwarnings(\"ignore\")\n",
        "%matplotlib inline\n",
        "%config InlineBackend.figure_format='retina'\n",
        "# import datatable as dt"
      ]
    },
    {
      "cell_type": "markdown",
      "metadata": {
        "id": "SdtMF_7UAwOd"
      },
      "source": [
        "event_time - 이벤트가 발생한 시간(UTC기준)\\\n",
        "event_type - 고객이 진행한 이벤트\\\n",
        "product_id - 제품의 ID\\\n",
        "category_id - 제품의 카테고리 ID\\\n",
        "categoty_code - 제품의 카테고리 분류(코드명)\\\n",
        "brand - 브랜드\\\n",
        "price - 제품의 유통가격\\\n",
        "user_id - 영구 사용자 ID\\\n",
        "user_session - 임시 사용자의 세션ID"
      ]
    },
    {
      "cell_type": "code",
      "execution_count": 18,
      "metadata": {
        "id": "D0zYtOEGMzjx"
      },
      "outputs": [],
      "source": [
        "# csv = '/content/drive/MyDrive/Data/2019-Oct.csv'\n",
        "\n",
        "# # 아래 방법은 코랩 ram초과로 에러발생\n",
        "# datatable_df = dt.fread(csv, encoding='utf-8')\n",
        "# df = datatable_df.to_pandas()\n",
        "csv = 'C:/Users/JEON_SANGEON/codestates/2019-Oct.csv'\n",
        "origin_df = pd.read_csv(csv)"
      ]
    },
    {
      "cell_type": "code",
      "execution_count": 33,
      "metadata": {
        "colab": {
          "base_uri": "https://localhost:8080/",
          "height": 988
        },
        "id": "pwqkHFlwMzhY",
        "outputId": "509ed32b-0e67-4079-90a0-7a6e6474bd42"
      },
      "outputs": [
        {
          "data": {
            "text/html": [
              "<div>\n",
              "<style scoped>\n",
              "    .dataframe tbody tr th:only-of-type {\n",
              "        vertical-align: middle;\n",
              "    }\n",
              "\n",
              "    .dataframe tbody tr th {\n",
              "        vertical-align: top;\n",
              "    }\n",
              "\n",
              "    .dataframe thead th {\n",
              "        text-align: right;\n",
              "    }\n",
              "</style>\n",
              "<table border=\"1\" class=\"dataframe\">\n",
              "  <thead>\n",
              "    <tr style=\"text-align: right;\">\n",
              "      <th></th>\n",
              "      <th>event_time</th>\n",
              "      <th>event_type</th>\n",
              "      <th>product_id</th>\n",
              "      <th>category_id</th>\n",
              "      <th>category_code</th>\n",
              "      <th>brand</th>\n",
              "      <th>price</th>\n",
              "      <th>user_id</th>\n",
              "      <th>user_session</th>\n",
              "    </tr>\n",
              "  </thead>\n",
              "  <tbody>\n",
              "    <tr>\n",
              "      <th>0</th>\n",
              "      <td>2019-10-01 04:00:00+04:00</td>\n",
              "      <td>view</td>\n",
              "      <td>44600062</td>\n",
              "      <td>2103807459595387724</td>\n",
              "      <td>NaN</td>\n",
              "      <td>shiseido</td>\n",
              "      <td>35.79</td>\n",
              "      <td>541312140</td>\n",
              "      <td>72d76fde-8bb3-4e00-8c23-a032dfed738c</td>\n",
              "    </tr>\n",
              "    <tr>\n",
              "      <th>1</th>\n",
              "      <td>2019-10-01 04:00:00+04:00</td>\n",
              "      <td>view</td>\n",
              "      <td>3900821</td>\n",
              "      <td>2053013552326770905</td>\n",
              "      <td>appliances.environment.water_heater</td>\n",
              "      <td>aqua</td>\n",
              "      <td>33.20</td>\n",
              "      <td>554748717</td>\n",
              "      <td>9333dfbd-b87a-4708-9857-6336556b0fcc</td>\n",
              "    </tr>\n",
              "    <tr>\n",
              "      <th>2</th>\n",
              "      <td>2019-10-01 04:00:01+04:00</td>\n",
              "      <td>view</td>\n",
              "      <td>17200506</td>\n",
              "      <td>2053013559792632471</td>\n",
              "      <td>furniture.living_room.sofa</td>\n",
              "      <td>NaN</td>\n",
              "      <td>543.10</td>\n",
              "      <td>519107250</td>\n",
              "      <td>566511c2-e2e3-422b-b695-cf8e6e792ca8</td>\n",
              "    </tr>\n",
              "    <tr>\n",
              "      <th>3</th>\n",
              "      <td>2019-10-01 04:00:01+04:00</td>\n",
              "      <td>view</td>\n",
              "      <td>1307067</td>\n",
              "      <td>2053013558920217191</td>\n",
              "      <td>computers.notebook</td>\n",
              "      <td>lenovo</td>\n",
              "      <td>251.74</td>\n",
              "      <td>550050854</td>\n",
              "      <td>7c90fc70-0e80-4590-96f3-13c02c18c713</td>\n",
              "    </tr>\n",
              "    <tr>\n",
              "      <th>4</th>\n",
              "      <td>2019-10-01 04:00:04+04:00</td>\n",
              "      <td>view</td>\n",
              "      <td>1004237</td>\n",
              "      <td>2053013555631882655</td>\n",
              "      <td>electronics.smartphone</td>\n",
              "      <td>apple</td>\n",
              "      <td>1081.98</td>\n",
              "      <td>535871217</td>\n",
              "      <td>c6bd7419-2748-4c56-95b4-8cec9ff8b80d</td>\n",
              "    </tr>\n",
              "    <tr>\n",
              "      <th>...</th>\n",
              "      <td>...</td>\n",
              "      <td>...</td>\n",
              "      <td>...</td>\n",
              "      <td>...</td>\n",
              "      <td>...</td>\n",
              "      <td>...</td>\n",
              "      <td>...</td>\n",
              "      <td>...</td>\n",
              "      <td>...</td>\n",
              "    </tr>\n",
              "    <tr>\n",
              "      <th>42448759</th>\n",
              "      <td>2019-11-01 03:59:58+04:00</td>\n",
              "      <td>view</td>\n",
              "      <td>2300275</td>\n",
              "      <td>2053013560530830019</td>\n",
              "      <td>electronics.camera.video</td>\n",
              "      <td>gopro</td>\n",
              "      <td>527.40</td>\n",
              "      <td>537931532</td>\n",
              "      <td>22c57267-da98-4f28-9a9c-18bb5b385193</td>\n",
              "    </tr>\n",
              "    <tr>\n",
              "      <th>42448760</th>\n",
              "      <td>2019-11-01 03:59:58+04:00</td>\n",
              "      <td>view</td>\n",
              "      <td>10800172</td>\n",
              "      <td>2053013554994348409</td>\n",
              "      <td>NaN</td>\n",
              "      <td>redmond</td>\n",
              "      <td>61.75</td>\n",
              "      <td>527322328</td>\n",
              "      <td>5054190a-46cb-4211-a8f1-16fc1a060ed8</td>\n",
              "    </tr>\n",
              "    <tr>\n",
              "      <th>42448761</th>\n",
              "      <td>2019-11-01 03:59:58+04:00</td>\n",
              "      <td>view</td>\n",
              "      <td>5701038</td>\n",
              "      <td>2053013553970938175</td>\n",
              "      <td>auto.accessories.player</td>\n",
              "      <td>kenwood</td>\n",
              "      <td>128.70</td>\n",
              "      <td>566280422</td>\n",
              "      <td>05b6c62b-992f-4e8e-91f7-961bcb4719cd</td>\n",
              "    </tr>\n",
              "    <tr>\n",
              "      <th>42448762</th>\n",
              "      <td>2019-11-01 03:59:59+04:00</td>\n",
              "      <td>view</td>\n",
              "      <td>21407424</td>\n",
              "      <td>2053013561579406073</td>\n",
              "      <td>electronics.clocks</td>\n",
              "      <td>tissot</td>\n",
              "      <td>689.85</td>\n",
              "      <td>513118352</td>\n",
              "      <td>4c14bf2a-2820-4504-929d-046356a5a204</td>\n",
              "    </tr>\n",
              "    <tr>\n",
              "      <th>42448763</th>\n",
              "      <td>2019-11-01 03:59:59+04:00</td>\n",
              "      <td>view</td>\n",
              "      <td>13300120</td>\n",
              "      <td>2053013557166998015</td>\n",
              "      <td>NaN</td>\n",
              "      <td>swisshome</td>\n",
              "      <td>155.73</td>\n",
              "      <td>525266378</td>\n",
              "      <td>6e57d2d7-6022-46e6-81d6-fa77f14cefd8</td>\n",
              "    </tr>\n",
              "  </tbody>\n",
              "</table>\n",
              "<p>42448764 rows × 9 columns</p>\n",
              "</div>"
            ],
            "text/plain": [
              "                        event_time event_type  product_id  \\\n",
              "0        2019-10-01 04:00:00+04:00       view    44600062   \n",
              "1        2019-10-01 04:00:00+04:00       view     3900821   \n",
              "2        2019-10-01 04:00:01+04:00       view    17200506   \n",
              "3        2019-10-01 04:00:01+04:00       view     1307067   \n",
              "4        2019-10-01 04:00:04+04:00       view     1004237   \n",
              "...                            ...        ...         ...   \n",
              "42448759 2019-11-01 03:59:58+04:00       view     2300275   \n",
              "42448760 2019-11-01 03:59:58+04:00       view    10800172   \n",
              "42448761 2019-11-01 03:59:58+04:00       view     5701038   \n",
              "42448762 2019-11-01 03:59:59+04:00       view    21407424   \n",
              "42448763 2019-11-01 03:59:59+04:00       view    13300120   \n",
              "\n",
              "                  category_id                        category_code      brand  \\\n",
              "0         2103807459595387724                                  NaN   shiseido   \n",
              "1         2053013552326770905  appliances.environment.water_heater       aqua   \n",
              "2         2053013559792632471           furniture.living_room.sofa        NaN   \n",
              "3         2053013558920217191                   computers.notebook     lenovo   \n",
              "4         2053013555631882655               electronics.smartphone      apple   \n",
              "...                       ...                                  ...        ...   \n",
              "42448759  2053013560530830019             electronics.camera.video      gopro   \n",
              "42448760  2053013554994348409                                  NaN    redmond   \n",
              "42448761  2053013553970938175              auto.accessories.player    kenwood   \n",
              "42448762  2053013561579406073                   electronics.clocks     tissot   \n",
              "42448763  2053013557166998015                                  NaN  swisshome   \n",
              "\n",
              "            price    user_id                          user_session  \n",
              "0           35.79  541312140  72d76fde-8bb3-4e00-8c23-a032dfed738c  \n",
              "1           33.20  554748717  9333dfbd-b87a-4708-9857-6336556b0fcc  \n",
              "2          543.10  519107250  566511c2-e2e3-422b-b695-cf8e6e792ca8  \n",
              "3          251.74  550050854  7c90fc70-0e80-4590-96f3-13c02c18c713  \n",
              "4         1081.98  535871217  c6bd7419-2748-4c56-95b4-8cec9ff8b80d  \n",
              "...           ...        ...                                   ...  \n",
              "42448759   527.40  537931532  22c57267-da98-4f28-9a9c-18bb5b385193  \n",
              "42448760    61.75  527322328  5054190a-46cb-4211-a8f1-16fc1a060ed8  \n",
              "42448761   128.70  566280422  05b6c62b-992f-4e8e-91f7-961bcb4719cd  \n",
              "42448762   689.85  513118352  4c14bf2a-2820-4504-929d-046356a5a204  \n",
              "42448763   155.73  525266378  6e57d2d7-6022-46e6-81d6-fa77f14cefd8  \n",
              "\n",
              "[42448764 rows x 9 columns]"
            ]
          },
          "execution_count": 33,
          "metadata": {},
          "output_type": "execute_result"
        }
      ],
      "source": [
        "df = origin_df.copy()\n",
        "df['event_time'] = pd.to_datetime(df['event_time'], utc=True)\n",
        "df['event_time'] = df['event_time'].dt.tz_convert('Asia/Dubai')\n",
        "\n",
        "df"
      ]
    },
    {
      "cell_type": "code",
      "execution_count": 34,
      "metadata": {},
      "outputs": [
        {
          "name": "stdout",
          "output_type": "stream",
          "text": [
            "<class 'pandas.core.frame.DataFrame'>\n",
            "RangeIndex: 42448764 entries, 0 to 42448763\n",
            "Data columns (total 9 columns):\n",
            " #   Column         Dtype                     \n",
            "---  ------         -----                     \n",
            " 0   event_time     datetime64[ns, Asia/Dubai]\n",
            " 1   event_type     object                    \n",
            " 2   product_id     int64                     \n",
            " 3   category_id    int64                     \n",
            " 4   category_code  object                    \n",
            " 5   brand          object                    \n",
            " 6   price          float64                   \n",
            " 7   user_id        int64                     \n",
            " 8   user_session   object                    \n",
            "dtypes: datetime64[ns, Asia/Dubai](1), float64(1), int64(3), object(4)\n",
            "memory usage: 2.8+ GB\n"
          ]
        }
      ],
      "source": [
        "df.info()"
      ]
    },
    {
      "cell_type": "code",
      "execution_count": 35,
      "metadata": {},
      "outputs": [
        {
          "data": {
            "image/png": "[encoded data removed]",
            "text/plain": [
              "<Figure size 432x288 with 1 Axes>"
            ]
          },
          "metadata": {
            "image/png": {
              "height": 274,
              "width": 376
            },
            "needs_background": "light"
          },
          "output_type": "display_data"
        }
      ],
      "source": [
        "sns.countplot(x=df['event_time'].dt.weekday);"
      ]
    },
    {
      "cell_type": "code",
      "execution_count": 36,
      "metadata": {
        "colab": {
          "base_uri": "https://localhost:8080/"
        },
        "id": "W4k7zUqMMzek",
        "outputId": "09ffb8c5-b2de-4e2a-f684-0187b5db16e5"
      },
      "outputs": [
        {
          "data": {
            "text/plain": [
              "Index(['event_time', 'event_type', 'product_id', 'category_id',\n",
              "       'category_code', 'brand', 'price', 'user_id', 'user_session'],\n",
              "      dtype='object')"
            ]
          },
          "execution_count": 36,
          "metadata": {},
          "output_type": "execute_result"
        }
      ],
      "source": [
        "df.columns"
      ]
    },
    {
      "cell_type": "code",
      "execution_count": 37,
      "metadata": {
        "colab": {
          "base_uri": "https://localhost:8080/"
        },
        "id": "dHIR5M-aMzcS",
        "outputId": "6534be4b-3a1f-42fe-e5a6-58b4bb6b1809"
      },
      "outputs": [
        {
          "data": {
            "text/plain": [
              "event_time              0\n",
              "event_type              0\n",
              "product_id              0\n",
              "category_id             0\n",
              "category_code    13515609\n",
              "brand             6117080\n",
              "price                   0\n",
              "user_id                 0\n",
              "user_session            2\n",
              "dtype: int64"
            ]
          },
          "execution_count": 37,
          "metadata": {},
          "output_type": "execute_result"
        }
      ],
      "source": [
        "# 결측치 조회\n",
        "df.isnull().sum()"
      ]
    },
    {
      "cell_type": "code",
      "execution_count": 38,
      "metadata": {
        "colab": {
          "base_uri": "https://localhost:8080/"
        },
        "id": "MgxA6TXBMzXM",
        "outputId": "b21a3595-1eb5-4057-926f-bdd364e3a72a"
      },
      "outputs": [
        {
          "data": {
            "text/plain": [
              "array(['view', 'purchase', 'cart'], dtype=object)"
            ]
          },
          "execution_count": 38,
          "metadata": {},
          "output_type": "execute_result"
        }
      ],
      "source": [
        "df['event_type'].unique()"
      ]
    },
    {
      "cell_type": "code",
      "execution_count": 39,
      "metadata": {
        "colab": {
          "base_uri": "https://localhost:8080/",
          "height": 641
        },
        "id": "TaYnF_FiMzUr",
        "outputId": "8b1a84cd-361c-4816-e6af-27d9a625413a"
      },
      "outputs": [
        {
          "data": {
            "text/html": [
              "<div>\n",
              "<style scoped>\n",
              "    .dataframe tbody tr th:only-of-type {\n",
              "        vertical-align: middle;\n",
              "    }\n",
              "\n",
              "    .dataframe tbody tr th {\n",
              "        vertical-align: top;\n",
              "    }\n",
              "\n",
              "    .dataframe thead th {\n",
              "        text-align: right;\n",
              "    }\n",
              "</style>\n",
              "<table border=\"1\" class=\"dataframe\">\n",
              "  <thead>\n",
              "    <tr style=\"text-align: right;\">\n",
              "      <th></th>\n",
              "      <th>event_time</th>\n",
              "      <th>event_type</th>\n",
              "      <th>product_id</th>\n",
              "      <th>category_id</th>\n",
              "      <th>category_code</th>\n",
              "      <th>brand</th>\n",
              "      <th>price</th>\n",
              "      <th>user_id</th>\n",
              "      <th>user_session</th>\n",
              "    </tr>\n",
              "  </thead>\n",
              "  <tbody>\n",
              "    <tr>\n",
              "      <th>162</th>\n",
              "      <td>2019-10-01 04:02:14+04:00</td>\n",
              "      <td>purchase</td>\n",
              "      <td>1004856</td>\n",
              "      <td>2053013555631882655</td>\n",
              "      <td>electronics.smartphone</td>\n",
              "      <td>samsung</td>\n",
              "      <td>130.76</td>\n",
              "      <td>543272936</td>\n",
              "      <td>8187d148-3c41-46d4-b0c0-9c08cd9dc564</td>\n",
              "    </tr>\n",
              "    <tr>\n",
              "      <th>308</th>\n",
              "      <td>2019-10-01 04:04:37+04:00</td>\n",
              "      <td>purchase</td>\n",
              "      <td>1002532</td>\n",
              "      <td>2053013555631882655</td>\n",
              "      <td>electronics.smartphone</td>\n",
              "      <td>apple</td>\n",
              "      <td>642.69</td>\n",
              "      <td>551377651</td>\n",
              "      <td>3c80f0d6-e9ec-4181-8c5c-837a30be2d68</td>\n",
              "    </tr>\n",
              "    <tr>\n",
              "      <th>379</th>\n",
              "      <td>2019-10-01 04:06:02+04:00</td>\n",
              "      <td>purchase</td>\n",
              "      <td>5100816</td>\n",
              "      <td>2053013553375346967</td>\n",
              "      <td>NaN</td>\n",
              "      <td>xiaomi</td>\n",
              "      <td>29.51</td>\n",
              "      <td>514591159</td>\n",
              "      <td>0e5dfc4b-2a55-43e6-8c05-97e1f07fbb56</td>\n",
              "    </tr>\n",
              "    <tr>\n",
              "      <th>442</th>\n",
              "      <td>2019-10-01 04:07:07+04:00</td>\n",
              "      <td>purchase</td>\n",
              "      <td>13800054</td>\n",
              "      <td>2053013557418656265</td>\n",
              "      <td>furniture.bathroom.toilet</td>\n",
              "      <td>santeri</td>\n",
              "      <td>54.42</td>\n",
              "      <td>555332717</td>\n",
              "      <td>1dea3ee2-2ded-42e8-8e7a-4e2ad6ae942f</td>\n",
              "    </tr>\n",
              "    <tr>\n",
              "      <th>574</th>\n",
              "      <td>2019-10-01 04:09:26+04:00</td>\n",
              "      <td>purchase</td>\n",
              "      <td>4804055</td>\n",
              "      <td>2053013554658804075</td>\n",
              "      <td>electronics.audio.headphone</td>\n",
              "      <td>apple</td>\n",
              "      <td>189.91</td>\n",
              "      <td>524601178</td>\n",
              "      <td>2af9b570-0942-4dcd-8f25-4d84fba82553</td>\n",
              "    </tr>\n",
              "    <tr>\n",
              "      <th>...</th>\n",
              "      <td>...</td>\n",
              "      <td>...</td>\n",
              "      <td>...</td>\n",
              "      <td>...</td>\n",
              "      <td>...</td>\n",
              "      <td>...</td>\n",
              "      <td>...</td>\n",
              "      <td>...</td>\n",
              "      <td>...</td>\n",
              "    </tr>\n",
              "    <tr>\n",
              "      <th>42448148</th>\n",
              "      <td>2019-11-01 03:55:13+04:00</td>\n",
              "      <td>purchase</td>\n",
              "      <td>26402784</td>\n",
              "      <td>2053013563651392361</td>\n",
              "      <td>NaN</td>\n",
              "      <td>NaN</td>\n",
              "      <td>102.45</td>\n",
              "      <td>516604399</td>\n",
              "      <td>a98bd433-57ac-42d0-ba81-e18b135a7a16</td>\n",
              "    </tr>\n",
              "    <tr>\n",
              "      <th>42448173</th>\n",
              "      <td>2019-11-01 03:55:21+04:00</td>\n",
              "      <td>purchase</td>\n",
              "      <td>47500017</td>\n",
              "      <td>2110937143172923797</td>\n",
              "      <td>construction.tools.light</td>\n",
              "      <td>puckator</td>\n",
              "      <td>20.59</td>\n",
              "      <td>514622109</td>\n",
              "      <td>5724116e-365b-4ac1-9d03-b8d66e1ccc7c</td>\n",
              "    </tr>\n",
              "    <tr>\n",
              "      <th>42448271</th>\n",
              "      <td>2019-11-01 03:56:03+04:00</td>\n",
              "      <td>purchase</td>\n",
              "      <td>1003306</td>\n",
              "      <td>2053013555631882655</td>\n",
              "      <td>electronics.smartphone</td>\n",
              "      <td>apple</td>\n",
              "      <td>577.89</td>\n",
              "      <td>512717356</td>\n",
              "      <td>f35ac37c-9573-4e30-b3d9-c09bb0b95a2b</td>\n",
              "    </tr>\n",
              "    <tr>\n",
              "      <th>42448362</th>\n",
              "      <td>2019-11-01 03:56:53+04:00</td>\n",
              "      <td>purchase</td>\n",
              "      <td>1004240</td>\n",
              "      <td>2053013555631882655</td>\n",
              "      <td>electronics.smartphone</td>\n",
              "      <td>apple</td>\n",
              "      <td>1054.60</td>\n",
              "      <td>533892594</td>\n",
              "      <td>3a5a3b01-2ab1-4a1d-a202-30d336e0057b</td>\n",
              "    </tr>\n",
              "    <tr>\n",
              "      <th>42448657</th>\n",
              "      <td>2019-11-01 03:59:16+04:00</td>\n",
              "      <td>purchase</td>\n",
              "      <td>4804056</td>\n",
              "      <td>2053013554658804075</td>\n",
              "      <td>electronics.audio.headphone</td>\n",
              "      <td>apple</td>\n",
              "      <td>160.57</td>\n",
              "      <td>544501248</td>\n",
              "      <td>e330d051-37ad-4dc3-b1ee-ff16a28b7998</td>\n",
              "    </tr>\n",
              "  </tbody>\n",
              "</table>\n",
              "<p>742849 rows × 9 columns</p>\n",
              "</div>"
            ],
            "text/plain": [
              "                        event_time event_type  product_id  \\\n",
              "162      2019-10-01 04:02:14+04:00   purchase     1004856   \n",
              "308      2019-10-01 04:04:37+04:00   purchase     1002532   \n",
              "379      2019-10-01 04:06:02+04:00   purchase     5100816   \n",
              "442      2019-10-01 04:07:07+04:00   purchase    13800054   \n",
              "574      2019-10-01 04:09:26+04:00   purchase     4804055   \n",
              "...                            ...        ...         ...   \n",
              "42448148 2019-11-01 03:55:13+04:00   purchase    26402784   \n",
              "42448173 2019-11-01 03:55:21+04:00   purchase    47500017   \n",
              "42448271 2019-11-01 03:56:03+04:00   purchase     1003306   \n",
              "42448362 2019-11-01 03:56:53+04:00   purchase     1004240   \n",
              "42448657 2019-11-01 03:59:16+04:00   purchase     4804056   \n",
              "\n",
              "                  category_id                category_code     brand    price  \\\n",
              "162       2053013555631882655       electronics.smartphone   samsung   130.76   \n",
              "308       2053013555631882655       electronics.smartphone     apple   642.69   \n",
              "379       2053013553375346967                          NaN    xiaomi    29.51   \n",
              "442       2053013557418656265    furniture.bathroom.toilet   santeri    54.42   \n",
              "574       2053013554658804075  electronics.audio.headphone     apple   189.91   \n",
              "...                       ...                          ...       ...      ...   \n",
              "42448148  2053013563651392361                          NaN       NaN   102.45   \n",
              "42448173  2110937143172923797     construction.tools.light  puckator    20.59   \n",
              "42448271  2053013555631882655       electronics.smartphone     apple   577.89   \n",
              "42448362  2053013555631882655       electronics.smartphone     apple  1054.60   \n",
              "42448657  2053013554658804075  electronics.audio.headphone     apple   160.57   \n",
              "\n",
              "            user_id                          user_session  \n",
              "162       543272936  8187d148-3c41-46d4-b0c0-9c08cd9dc564  \n",
              "308       551377651  3c80f0d6-e9ec-4181-8c5c-837a30be2d68  \n",
              "379       514591159  0e5dfc4b-2a55-43e6-8c05-97e1f07fbb56  \n",
              "442       555332717  1dea3ee2-2ded-42e8-8e7a-4e2ad6ae942f  \n",
              "574       524601178  2af9b570-0942-4dcd-8f25-4d84fba82553  \n",
              "...             ...                                   ...  \n",
              "42448148  516604399  a98bd433-57ac-42d0-ba81-e18b135a7a16  \n",
              "42448173  514622109  5724116e-365b-4ac1-9d03-b8d66e1ccc7c  \n",
              "42448271  512717356  f35ac37c-9573-4e30-b3d9-c09bb0b95a2b  \n",
              "42448362  533892594  3a5a3b01-2ab1-4a1d-a202-30d336e0057b  \n",
              "42448657  544501248  e330d051-37ad-4dc3-b1ee-ff16a28b7998  \n",
              "\n",
              "[742849 rows x 9 columns]"
            ]
          },
          "execution_count": 39,
          "metadata": {},
          "output_type": "execute_result"
        }
      ],
      "source": [
        "df.loc[df['event_type'] == 'purchase']"
      ]
    },
    {
      "cell_type": "code",
      "execution_count": 40,
      "metadata": {
        "colab": {
          "base_uri": "https://localhost:8080/"
        },
        "id": "taOyyykMCMJN",
        "outputId": "562dbbfa-027a-48e2-af90-b86e7f29483b"
      },
      "outputs": [
        {
          "data": {
            "text/plain": [
              "view        0.960673\n",
              "cart        0.021827\n",
              "purchase    0.017500\n",
              "Name: event_type, dtype: float64"
            ]
          },
          "execution_count": 40,
          "metadata": {},
          "output_type": "execute_result"
        }
      ],
      "source": [
        "# event_type 비율 조회\n",
        "df['event_type'].value_counts(normalize=True)"
      ]
    },
    {
      "cell_type": "code",
      "execution_count": 41,
      "metadata": {
        "colab": {
          "base_uri": "https://localhost:8080/",
          "height": 308
        },
        "id": "gWNEtk1Y_dvn",
        "outputId": "64d79f0f-2431-4ba7-bac6-2ed00bb4f56a"
      },
      "outputs": [
        {
          "data": {
            "image/png": "[encoded data removed]",
            "text/plain": [
              "<Figure size 432x288 with 1 Axes>"
            ]
          },
          "metadata": {
            "image/png": {
              "height": 274,
              "width": 383
            },
            "needs_background": "light"
          },
          "output_type": "display_data"
        }
      ],
      "source": [
        "# event_type 비율 시각화\n",
        "sns.countplot(x=df['event_type']);"
      ]
    },
    {
      "cell_type": "code",
      "execution_count": 42,
      "metadata": {
        "colab": {
          "base_uri": "https://localhost:8080/"
        },
        "id": "6hHEgrT5_kdJ",
        "outputId": "3ed46e51-cf90-4961-8ae7-44463ee1b137"
      },
      "outputs": [
        {
          "data": {
            "text/plain": [
              "samsung         5282775\n",
              "apple           4122554\n",
              "xiaomi          3083763\n",
              "huawei          1111205\n",
              "lucente          655861\n",
              "                 ...   \n",
              "nec                   1\n",
              "neocoregames          1\n",
              "incase                1\n",
              "portdesigns           1\n",
              "skindoctors           1\n",
              "Name: brand, Length: 3444, dtype: int64"
            ]
          },
          "execution_count": 42,
          "metadata": {},
          "output_type": "execute_result"
        }
      ],
      "source": [
        "# 브랜드 카운트\n",
        "df['brand'].value_counts()"
      ]
    },
    {
      "cell_type": "code",
      "execution_count": 43,
      "metadata": {
        "colab": {
          "base_uri": "https://localhost:8080/"
        },
        "id": "ZzIjRQvX_ka2",
        "outputId": "c37db53c-c11d-4b4f-f06c-5951f4ad27de"
      },
      "outputs": [
        {
          "data": {
            "text/plain": [
              "count    4.244876e+07\n",
              "mean     2.903237e+02\n",
              "std      3.582692e+02\n",
              "min      0.000000e+00\n",
              "25%      6.598000e+01\n",
              "50%      1.629300e+02\n",
              "75%      3.585700e+02\n",
              "max      2.574070e+03\n",
              "Name: price, dtype: float64"
            ]
          },
          "execution_count": 43,
          "metadata": {},
          "output_type": "execute_result"
        }
      ],
      "source": [
        "# 상품가격 평균분석\n",
        "df['price'].describe()"
      ]
    },
    {
      "cell_type": "code",
      "execution_count": 44,
      "metadata": {
        "colab": {
          "base_uri": "https://localhost:8080/"
        },
        "id": "n8qz_GMf_kYW",
        "outputId": "db047089-4dc1-47da-8c1e-fde68d4d8141"
      },
      "outputs": [
        {
          "data": {
            "text/plain": [
              "512475445    7436\n",
              "512365995    4013\n",
              "526731152    2912\n",
              "512505687    2894\n",
              "513021392    2862\n",
              "             ... \n",
              "556920045       1\n",
              "521755468       1\n",
              "515083572       1\n",
              "549391147       1\n",
              "544578298       1\n",
              "Name: user_id, Length: 3022290, dtype: int64"
            ]
          },
          "execution_count": 44,
          "metadata": {},
          "output_type": "execute_result"
        }
      ],
      "source": [
        "# 유저 접속 세션 횟수 조회\n",
        "df['user_id'].value_counts()"
      ]
    },
    {
      "cell_type": "code",
      "execution_count": 45,
      "metadata": {},
      "outputs": [
        {
          "name": "stdout",
          "output_type": "stream",
          "text": [
            "(742849, 9)\n",
            "(926516, 9)\n",
            "(40779399, 9)\n"
          ]
        }
      ],
      "source": [
        "# purchase = 742,849\n",
        "# cart = 926,516\n",
        "# view = 40,779,399\n",
        "\n",
        "print(df.loc[df['event_type'] == 'purchase'].shape)\n",
        "print(df.loc[df['event_type'] == 'cart'].shape)\n",
        "print(df.loc[df['event_type'] == 'view'].shape)\n"
      ]
    },
    {
      "cell_type": "markdown",
      "metadata": {},
      "source": [
        "# 요일별 view, cart, purchase 시각화"
      ]
    },
    {
      "cell_type": "code",
      "execution_count": 49,
      "metadata": {},
      "outputs": [
        {
          "data": {
            "image/png": "[encoded data removed]",
            "text/plain": [
              "<Figure size 432x288 with 1 Axes>"
            ]
          },
          "metadata": {
            "image/png": {
              "height": 274,
              "width": 376
            },
            "needs_background": "light"
          },
          "output_type": "display_data"
        }
      ],
      "source": [
        "sns.countplot(x=df.loc[df['event_type'] == 'view']['event_time'].dt.weekday);"
      ]
    },
    {
      "cell_type": "code",
      "execution_count": 46,
      "metadata": {
        "id": "3NUOkJU7_doR"
      },
      "outputs": [
        {
          "data": {
            "image/png": "[encoded data removed]",
            "text/plain": [
              "<Figure size 432x288 with 1 Axes>"
            ]
          },
          "metadata": {
            "image/png": {
              "height": 263,
              "width": 403
            },
            "needs_background": "light"
          },
          "output_type": "display_data"
        }
      ],
      "source": [
        "sns.countplot(x=df.loc[df['event_type'] == 'purchase']['event_time'].dt.weekday);"
      ]
    },
    {
      "cell_type": "code",
      "execution_count": 50,
      "metadata": {},
      "outputs": [
        {
          "data": {
            "image/png": "[encoded data removed]",
            "text/plain": [
              "<Figure size 432x288 with 1 Axes>"
            ]
          },
          "metadata": {
            "image/png": {
              "height": 263,
              "width": 403
            },
            "needs_background": "light"
          },
          "output_type": "display_data"
        }
      ],
      "source": [
        "sns.countplot(x=df.loc[df['event_type'] == 'cart']['event_time'].dt.weekday);"
      ]
    },
    {
      "cell_type": "markdown",
      "metadata": {},
      "source": [
        "weekday : 0 = 월, 1 = 화, 2 = 수, 3 = 목, 4 = 금, 5 = 토, 6 = 일\n",
        "\n",
        "view : 1,2,3 순으로 높음\\\n",
        "cart : 4,1,2 순으로 높음\\\n",
        "purchase : 2,1,3 순으로 높음\n"
      ]
    },
    {
      "cell_type": "markdown",
      "metadata": {},
      "source": [
        "# purchase 시간대 시각화"
      ]
    },
    {
      "cell_type": "code",
      "execution_count": 47,
      "metadata": {
        "id": "AHYW0qvJ_dlm"
      },
      "outputs": [
        {
          "data": {
            "image/png": "[encoded data removed]",
            "text/plain": [
              "<Figure size 432x288 with 1 Axes>"
            ]
          },
          "metadata": {
            "image/png": {
              "height": 263,
              "width": 398
            },
            "needs_background": "light"
          },
          "output_type": "display_data"
        }
      ],
      "source": [
        "sns.countplot(x=df.loc[df['event_type'] == 'purchase']['event_time'].dt.hour);"
      ]
    },
    {
      "cell_type": "markdown",
      "metadata": {},
      "source": [
        "purchase 구매가 많은 시간대 : 12, 13, 11 순으로 높음"
      ]
    },
    {
      "cell_type": "markdown",
      "metadata": {},
      "source": [
        "# 가장 많이 판매되는 상품 top 10 \n",
        "\n",
        "조회를 위해 적절한 EDA 필요"
      ]
    },
    {
      "cell_type": "markdown",
      "metadata": {},
      "source": [
        "테스트"
      ]
    },
    {
      "cell_type": "code",
      "execution_count": 1,
      "metadata": {
        "id": "6OlGpPyi_di-"
      },
      "outputs": [
        {
          "data": {
            "text/plain": [
              "4"
            ]
          },
          "execution_count": 1,
          "metadata": {},
          "output_type": "execute_result"
        }
      ],
      "source": [
        "2+2"
      ]
    },
    {
      "cell_type": "code",
      "execution_count": 2,
      "metadata": {
        "id": "lpDrePRX_dgh"
      },
      "outputs": [
        {
          "data": {
            "text/plain": [
              "9801"
            ]
          },
          "execution_count": 2,
          "metadata": {},
          "output_type": "execute_result"
        }
      ],
      "source": [
        "99*99"
      ]
    },
    {
      "cell_type": "code",
      "execution_count": 3,
      "metadata": {
        "id": "LYB2B9Su_dd0"
      },
      "outputs": [
        {
          "data": {
            "text/plain": [
              "151"
            ]
          },
          "execution_count": 3,
          "metadata": {},
          "output_type": "execute_result"
        }
      ],
      "source": [
        "150+1"
      ]
    },
    {
      "cell_type": "code",
      "execution_count": null,
      "metadata": {},
      "outputs": [],
      "source": []
    },
    {
      "cell_type": "code",
      "execution_count": null,
      "metadata": {},
      "outputs": [],
      "source": []
    },
    {
      "cell_type": "code",
      "execution_count": null,
      "metadata": {},
      "outputs": [],
      "source": []
    },
    {
      "cell_type": "code",
      "execution_count": null,
      "metadata": {},
      "outputs": [],
      "source": []
    },
    {
      "cell_type": "code",
      "execution_count": null,
      "metadata": {},
      "outputs": [],
      "source": []
    },
    {
      "cell_type": "code",
      "execution_count": null,
      "metadata": {},
      "outputs": [],
      "source": []
    }
  ],
  "metadata": {
    "colab": {
      "authorship_tag": "ABX9TyOsEJ91+f0tkA76XpMe2o8f",
      "collapsed_sections": [],
      "include_colab_link": true,
      "name": "cp2_eda.ipynb",
      "provenance": []
    },
    "interpreter": {
      "hash": "b5c6e6a4112a51422c18295777edfe82d7b4d76005cba81efea236dc020596bf"
    },
    "kernelspec": {
      "display_name": "Python 3.8.13 ('CP2')",
      "language": "python",
      "name": "python3"
    },
    "language_info": {
      "codemirror_mode": {
        "name": "ipython",
        "version": 3
      },
      "file_extension": ".py",
      "mimetype": "text/x-python",
      "name": "python",
      "nbconvert_exporter": "python",
      "pygments_lexer": "ipython3",
      "version": "3.8.13"
    }
  },
  "nbformat": 4,
  "nbformat_minor": 0
}
