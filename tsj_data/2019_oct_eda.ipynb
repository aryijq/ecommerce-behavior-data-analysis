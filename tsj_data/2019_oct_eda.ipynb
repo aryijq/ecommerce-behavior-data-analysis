{
 "cells": [
  {
   "cell_type": "markdown",
   "metadata": {},
   "source": [
    "# 2019년 10월 이커머스 데이터 EDA"
   ]
  },
  {
   "cell_type": "code",
   "execution_count": 22,
   "metadata": {},
   "outputs": [],
   "source": [
    "# pip install plotly==5.8.0"
   ]
  },
  {
   "cell_type": "code",
   "execution_count": 1,
   "metadata": {},
   "outputs": [],
   "source": [
    "import pandas as pd\n",
    "import datetime as dt\n",
    "from dateutil.parser import parse"
   ]
  },
  {
   "cell_type": "code",
   "execution_count": 2,
   "metadata": {},
   "outputs": [],
   "source": [
    "df = pd.read_csv(\"D:/cp2_dataset/2019-Oct.csv\")"
   ]
  },
  {
   "cell_type": "code",
   "execution_count": 3,
   "metadata": {},
   "outputs": [
    {
     "data": {
      "text/html": [
       "<div>\n",
       "<style scoped>\n",
       "    .dataframe tbody tr th:only-of-type {\n",
       "        vertical-align: middle;\n",
       "    }\n",
       "\n",
       "    .dataframe tbody tr th {\n",
       "        vertical-align: top;\n",
       "    }\n",
       "\n",
       "    .dataframe thead th {\n",
       "        text-align: right;\n",
       "    }\n",
       "</style>\n",
       "<table border=\"1\" class=\"dataframe\">\n",
       "  <thead>\n",
       "    <tr style=\"text-align: right;\">\n",
       "      <th></th>\n",
       "      <th>event_time</th>\n",
       "      <th>event_type</th>\n",
       "      <th>product_id</th>\n",
       "      <th>category_id</th>\n",
       "      <th>category_code</th>\n",
       "      <th>brand</th>\n",
       "      <th>price</th>\n",
       "      <th>user_id</th>\n",
       "      <th>user_session</th>\n",
       "    </tr>\n",
       "  </thead>\n",
       "  <tbody>\n",
       "    <tr>\n",
       "      <th>0</th>\n",
       "      <td>2019-10-01 00:00:00 UTC</td>\n",
       "      <td>view</td>\n",
       "      <td>44600062</td>\n",
       "      <td>2103807459595387724</td>\n",
       "      <td>NaN</td>\n",
       "      <td>shiseido</td>\n",
       "      <td>35.79</td>\n",
       "      <td>541312140</td>\n",
       "      <td>72d76fde-8bb3-4e00-8c23-a032dfed738c</td>\n",
       "    </tr>\n",
       "    <tr>\n",
       "      <th>1</th>\n",
       "      <td>2019-10-01 00:00:00 UTC</td>\n",
       "      <td>view</td>\n",
       "      <td>3900821</td>\n",
       "      <td>2053013552326770905</td>\n",
       "      <td>appliances.environment.water_heater</td>\n",
       "      <td>aqua</td>\n",
       "      <td>33.20</td>\n",
       "      <td>554748717</td>\n",
       "      <td>9333dfbd-b87a-4708-9857-6336556b0fcc</td>\n",
       "    </tr>\n",
       "    <tr>\n",
       "      <th>2</th>\n",
       "      <td>2019-10-01 00:00:01 UTC</td>\n",
       "      <td>view</td>\n",
       "      <td>17200506</td>\n",
       "      <td>2053013559792632471</td>\n",
       "      <td>furniture.living_room.sofa</td>\n",
       "      <td>NaN</td>\n",
       "      <td>543.10</td>\n",
       "      <td>519107250</td>\n",
       "      <td>566511c2-e2e3-422b-b695-cf8e6e792ca8</td>\n",
       "    </tr>\n",
       "    <tr>\n",
       "      <th>3</th>\n",
       "      <td>2019-10-01 00:00:01 UTC</td>\n",
       "      <td>view</td>\n",
       "      <td>1307067</td>\n",
       "      <td>2053013558920217191</td>\n",
       "      <td>computers.notebook</td>\n",
       "      <td>lenovo</td>\n",
       "      <td>251.74</td>\n",
       "      <td>550050854</td>\n",
       "      <td>7c90fc70-0e80-4590-96f3-13c02c18c713</td>\n",
       "    </tr>\n",
       "    <tr>\n",
       "      <th>4</th>\n",
       "      <td>2019-10-01 00:00:04 UTC</td>\n",
       "      <td>view</td>\n",
       "      <td>1004237</td>\n",
       "      <td>2053013555631882655</td>\n",
       "      <td>electronics.smartphone</td>\n",
       "      <td>apple</td>\n",
       "      <td>1081.98</td>\n",
       "      <td>535871217</td>\n",
       "      <td>c6bd7419-2748-4c56-95b4-8cec9ff8b80d</td>\n",
       "    </tr>\n",
       "    <tr>\n",
       "      <th>...</th>\n",
       "      <td>...</td>\n",
       "      <td>...</td>\n",
       "      <td>...</td>\n",
       "      <td>...</td>\n",
       "      <td>...</td>\n",
       "      <td>...</td>\n",
       "      <td>...</td>\n",
       "      <td>...</td>\n",
       "      <td>...</td>\n",
       "    </tr>\n",
       "    <tr>\n",
       "      <th>42448759</th>\n",
       "      <td>2019-10-31 23:59:58 UTC</td>\n",
       "      <td>view</td>\n",
       "      <td>2300275</td>\n",
       "      <td>2053013560530830019</td>\n",
       "      <td>electronics.camera.video</td>\n",
       "      <td>gopro</td>\n",
       "      <td>527.40</td>\n",
       "      <td>537931532</td>\n",
       "      <td>22c57267-da98-4f28-9a9c-18bb5b385193</td>\n",
       "    </tr>\n",
       "    <tr>\n",
       "      <th>42448760</th>\n",
       "      <td>2019-10-31 23:59:58 UTC</td>\n",
       "      <td>view</td>\n",
       "      <td>10800172</td>\n",
       "      <td>2053013554994348409</td>\n",
       "      <td>NaN</td>\n",
       "      <td>redmond</td>\n",
       "      <td>61.75</td>\n",
       "      <td>527322328</td>\n",
       "      <td>5054190a-46cb-4211-a8f1-16fc1a060ed8</td>\n",
       "    </tr>\n",
       "    <tr>\n",
       "      <th>42448761</th>\n",
       "      <td>2019-10-31 23:59:58 UTC</td>\n",
       "      <td>view</td>\n",
       "      <td>5701038</td>\n",
       "      <td>2053013553970938175</td>\n",
       "      <td>auto.accessories.player</td>\n",
       "      <td>kenwood</td>\n",
       "      <td>128.70</td>\n",
       "      <td>566280422</td>\n",
       "      <td>05b6c62b-992f-4e8e-91f7-961bcb4719cd</td>\n",
       "    </tr>\n",
       "    <tr>\n",
       "      <th>42448762</th>\n",
       "      <td>2019-10-31 23:59:59 UTC</td>\n",
       "      <td>view</td>\n",
       "      <td>21407424</td>\n",
       "      <td>2053013561579406073</td>\n",
       "      <td>electronics.clocks</td>\n",
       "      <td>tissot</td>\n",
       "      <td>689.85</td>\n",
       "      <td>513118352</td>\n",
       "      <td>4c14bf2a-2820-4504-929d-046356a5a204</td>\n",
       "    </tr>\n",
       "    <tr>\n",
       "      <th>42448763</th>\n",
       "      <td>2019-10-31 23:59:59 UTC</td>\n",
       "      <td>view</td>\n",
       "      <td>13300120</td>\n",
       "      <td>2053013557166998015</td>\n",
       "      <td>NaN</td>\n",
       "      <td>swisshome</td>\n",
       "      <td>155.73</td>\n",
       "      <td>525266378</td>\n",
       "      <td>6e57d2d7-6022-46e6-81d6-fa77f14cefd8</td>\n",
       "    </tr>\n",
       "  </tbody>\n",
       "</table>\n",
       "<p>42448764 rows × 9 columns</p>\n",
       "</div>"
      ],
      "text/plain": [
       "                       event_time event_type  product_id          category_id  \\\n",
       "0         2019-10-01 00:00:00 UTC       view    44600062  2103807459595387724   \n",
       "1         2019-10-01 00:00:00 UTC       view     3900821  2053013552326770905   \n",
       "2         2019-10-01 00:00:01 UTC       view    17200506  2053013559792632471   \n",
       "3         2019-10-01 00:00:01 UTC       view     1307067  2053013558920217191   \n",
       "4         2019-10-01 00:00:04 UTC       view     1004237  2053013555631882655   \n",
       "...                           ...        ...         ...                  ...   \n",
       "42448759  2019-10-31 23:59:58 UTC       view     2300275  2053013560530830019   \n",
       "42448760  2019-10-31 23:59:58 UTC       view    10800172  2053013554994348409   \n",
       "42448761  2019-10-31 23:59:58 UTC       view     5701038  2053013553970938175   \n",
       "42448762  2019-10-31 23:59:59 UTC       view    21407424  2053013561579406073   \n",
       "42448763  2019-10-31 23:59:59 UTC       view    13300120  2053013557166998015   \n",
       "\n",
       "                                category_code      brand    price    user_id  \\\n",
       "0                                         NaN   shiseido    35.79  541312140   \n",
       "1         appliances.environment.water_heater       aqua    33.20  554748717   \n",
       "2                  furniture.living_room.sofa        NaN   543.10  519107250   \n",
       "3                          computers.notebook     lenovo   251.74  550050854   \n",
       "4                      electronics.smartphone      apple  1081.98  535871217   \n",
       "...                                       ...        ...      ...        ...   \n",
       "42448759             electronics.camera.video      gopro   527.40  537931532   \n",
       "42448760                                  NaN    redmond    61.75  527322328   \n",
       "42448761              auto.accessories.player    kenwood   128.70  566280422   \n",
       "42448762                   electronics.clocks     tissot   689.85  513118352   \n",
       "42448763                                  NaN  swisshome   155.73  525266378   \n",
       "\n",
       "                                  user_session  \n",
       "0         72d76fde-8bb3-4e00-8c23-a032dfed738c  \n",
       "1         9333dfbd-b87a-4708-9857-6336556b0fcc  \n",
       "2         566511c2-e2e3-422b-b695-cf8e6e792ca8  \n",
       "3         7c90fc70-0e80-4590-96f3-13c02c18c713  \n",
       "4         c6bd7419-2748-4c56-95b4-8cec9ff8b80d  \n",
       "...                                        ...  \n",
       "42448759  22c57267-da98-4f28-9a9c-18bb5b385193  \n",
       "42448760  5054190a-46cb-4211-a8f1-16fc1a060ed8  \n",
       "42448761  05b6c62b-992f-4e8e-91f7-961bcb4719cd  \n",
       "42448762  4c14bf2a-2820-4504-929d-046356a5a204  \n",
       "42448763  6e57d2d7-6022-46e6-81d6-fa77f14cefd8  \n",
       "\n",
       "[42448764 rows x 9 columns]"
      ]
     },
     "execution_count": 3,
     "metadata": {},
     "output_type": "execute_result"
    }
   ],
   "source": [
    "df"
   ]
  },
  {
   "cell_type": "markdown",
   "metadata": {},
   "source": [
    "## event_time 컬럼 나누기"
   ]
  },
  {
   "cell_type": "code",
   "execution_count": 4,
   "metadata": {},
   "outputs": [
    {
     "data": {
      "text/plain": [
       "Timestamp('2019-10-31 23:59:59+0000', tz='UTC')"
      ]
     },
     "execution_count": 4,
     "metadata": {},
     "output_type": "execute_result"
    }
   ],
   "source": [
    "utc_time = pd.to_datetime(\"2019-10-31 23:59:59 UTC\")\n",
    "utc_time"
   ]
  },
  {
   "cell_type": "code",
   "execution_count": 5,
   "metadata": {},
   "outputs": [
    {
     "data": {
      "text/plain": [
       "Timestamp('2019-11-01 03:59:59+0400', tz='Asia/Dubai')"
      ]
     },
     "execution_count": 5,
     "metadata": {},
     "output_type": "execute_result"
    }
   ],
   "source": [
    "utc_time.tz_convert(\"Asia/Dubai\")"
   ]
  },
  {
   "cell_type": "code",
   "execution_count": 6,
   "metadata": {},
   "outputs": [],
   "source": [
    "# event_time 컬럼 타입 str -> datetime64로 변경\n",
    "df[\"event_time\"] = pd.to_datetime(df[\"event_time\"])"
   ]
  },
  {
   "cell_type": "code",
   "execution_count": 7,
   "metadata": {},
   "outputs": [
    {
     "data": {
      "text/plain": [
       "0          2019-10-01 00:00:00+00:00\n",
       "1          2019-10-01 00:00:00+00:00\n",
       "2          2019-10-01 00:00:01+00:00\n",
       "3          2019-10-01 00:00:01+00:00\n",
       "4          2019-10-01 00:00:04+00:00\n",
       "                      ...           \n",
       "42448759   2019-10-31 23:59:58+00:00\n",
       "42448760   2019-10-31 23:59:58+00:00\n",
       "42448761   2019-10-31 23:59:58+00:00\n",
       "42448762   2019-10-31 23:59:59+00:00\n",
       "42448763   2019-10-31 23:59:59+00:00\n",
       "Name: event_time, Length: 42448764, dtype: datetime64[ns, UTC]"
      ]
     },
     "execution_count": 7,
     "metadata": {},
     "output_type": "execute_result"
    }
   ],
   "source": [
    "df[\"event_time\"]"
   ]
  },
  {
   "cell_type": "code",
   "execution_count": 8,
   "metadata": {},
   "outputs": [],
   "source": [
    "# event_time 열 timezone UTC -> Asia/Dubai로 변경 (GMT +4)\n",
    "df[\"event_time\"] = df[\"event_time\"].apply(lambda x : x.tz_convert(\"Asia/Dubai\"))"
   ]
  },
  {
   "cell_type": "code",
   "execution_count": 9,
   "metadata": {},
   "outputs": [
    {
     "data": {
      "text/plain": [
       "0          2019-10-01 04:00:00+04:00\n",
       "1          2019-10-01 04:00:00+04:00\n",
       "2          2019-10-01 04:00:01+04:00\n",
       "3          2019-10-01 04:00:01+04:00\n",
       "4          2019-10-01 04:00:04+04:00\n",
       "                      ...           \n",
       "42448759   2019-11-01 03:59:58+04:00\n",
       "42448760   2019-11-01 03:59:58+04:00\n",
       "42448761   2019-11-01 03:59:58+04:00\n",
       "42448762   2019-11-01 03:59:59+04:00\n",
       "42448763   2019-11-01 03:59:59+04:00\n",
       "Name: event_time, Length: 42448764, dtype: datetime64[ns, Asia/Dubai]"
      ]
     },
     "execution_count": 9,
     "metadata": {},
     "output_type": "execute_result"
    }
   ],
   "source": [
    "df[\"event_time\"]"
   ]
  },
  {
   "cell_type": "code",
   "execution_count": 10,
   "metadata": {},
   "outputs": [],
   "source": [
    "# event_time 월, 일, 요일, 시 빼내기\n",
    "df[\"month\"] = df[\"event_time\"].dt.month\n",
    "df[\"day\"] = df[\"event_time\"].dt.day\n",
    "df[\"day_name\"] = df[\"event_time\"].apply(lambda x : x.day_name())\n",
    "df[\"hour\"] = df[\"event_time\"].dt.hour"
   ]
  },
  {
   "cell_type": "code",
   "execution_count": 11,
   "metadata": {},
   "outputs": [
    {
     "data": {
      "text/plain": [
       "Index(['event_time', 'event_type', 'product_id', 'category_id',\n",
       "       'category_code', 'brand', 'price', 'user_id', 'user_session', 'month',\n",
       "       'day', 'day_name', 'hour'],\n",
       "      dtype='object')"
      ]
     },
     "execution_count": 11,
     "metadata": {},
     "output_type": "execute_result"
    }
   ],
   "source": [
    "df.columns"
   ]
  },
  {
   "cell_type": "code",
   "execution_count": 12,
   "metadata": {},
   "outputs": [],
   "source": [
    "column_order = ['event_time', 'month', 'day', 'day_name', 'hour', \n",
    "                'event_type', 'product_id', 'category_id', 'category_code', \n",
    "                'brand', 'price', 'user_id', 'user_session']\n",
    "df_mod = df[column_order]"
   ]
  },
  {
   "cell_type": "code",
   "execution_count": 13,
   "metadata": {},
   "outputs": [
    {
     "data": {
      "text/html": [
       "<div>\n",
       "<style scoped>\n",
       "    .dataframe tbody tr th:only-of-type {\n",
       "        vertical-align: middle;\n",
       "    }\n",
       "\n",
       "    .dataframe tbody tr th {\n",
       "        vertical-align: top;\n",
       "    }\n",
       "\n",
       "    .dataframe thead th {\n",
       "        text-align: right;\n",
       "    }\n",
       "</style>\n",
       "<table border=\"1\" class=\"dataframe\">\n",
       "  <thead>\n",
       "    <tr style=\"text-align: right;\">\n",
       "      <th></th>\n",
       "      <th>event_time</th>\n",
       "      <th>month</th>\n",
       "      <th>day</th>\n",
       "      <th>day_name</th>\n",
       "      <th>hour</th>\n",
       "      <th>event_type</th>\n",
       "      <th>product_id</th>\n",
       "      <th>category_id</th>\n",
       "      <th>category_code</th>\n",
       "      <th>brand</th>\n",
       "      <th>price</th>\n",
       "      <th>user_id</th>\n",
       "      <th>user_session</th>\n",
       "    </tr>\n",
       "  </thead>\n",
       "  <tbody>\n",
       "    <tr>\n",
       "      <th>0</th>\n",
       "      <td>2019-10-01 04:00:00+04:00</td>\n",
       "      <td>10</td>\n",
       "      <td>1</td>\n",
       "      <td>Tuesday</td>\n",
       "      <td>4</td>\n",
       "      <td>view</td>\n",
       "      <td>44600062</td>\n",
       "      <td>2103807459595387724</td>\n",
       "      <td>NaN</td>\n",
       "      <td>shiseido</td>\n",
       "      <td>35.79</td>\n",
       "      <td>541312140</td>\n",
       "      <td>72d76fde-8bb3-4e00-8c23-a032dfed738c</td>\n",
       "    </tr>\n",
       "    <tr>\n",
       "      <th>1</th>\n",
       "      <td>2019-10-01 04:00:00+04:00</td>\n",
       "      <td>10</td>\n",
       "      <td>1</td>\n",
       "      <td>Tuesday</td>\n",
       "      <td>4</td>\n",
       "      <td>view</td>\n",
       "      <td>3900821</td>\n",
       "      <td>2053013552326770905</td>\n",
       "      <td>appliances.environment.water_heater</td>\n",
       "      <td>aqua</td>\n",
       "      <td>33.20</td>\n",
       "      <td>554748717</td>\n",
       "      <td>9333dfbd-b87a-4708-9857-6336556b0fcc</td>\n",
       "    </tr>\n",
       "    <tr>\n",
       "      <th>2</th>\n",
       "      <td>2019-10-01 04:00:01+04:00</td>\n",
       "      <td>10</td>\n",
       "      <td>1</td>\n",
       "      <td>Tuesday</td>\n",
       "      <td>4</td>\n",
       "      <td>view</td>\n",
       "      <td>17200506</td>\n",
       "      <td>2053013559792632471</td>\n",
       "      <td>furniture.living_room.sofa</td>\n",
       "      <td>NaN</td>\n",
       "      <td>543.10</td>\n",
       "      <td>519107250</td>\n",
       "      <td>566511c2-e2e3-422b-b695-cf8e6e792ca8</td>\n",
       "    </tr>\n",
       "    <tr>\n",
       "      <th>3</th>\n",
       "      <td>2019-10-01 04:00:01+04:00</td>\n",
       "      <td>10</td>\n",
       "      <td>1</td>\n",
       "      <td>Tuesday</td>\n",
       "      <td>4</td>\n",
       "      <td>view</td>\n",
       "      <td>1307067</td>\n",
       "      <td>2053013558920217191</td>\n",
       "      <td>computers.notebook</td>\n",
       "      <td>lenovo</td>\n",
       "      <td>251.74</td>\n",
       "      <td>550050854</td>\n",
       "      <td>7c90fc70-0e80-4590-96f3-13c02c18c713</td>\n",
       "    </tr>\n",
       "    <tr>\n",
       "      <th>4</th>\n",
       "      <td>2019-10-01 04:00:04+04:00</td>\n",
       "      <td>10</td>\n",
       "      <td>1</td>\n",
       "      <td>Tuesday</td>\n",
       "      <td>4</td>\n",
       "      <td>view</td>\n",
       "      <td>1004237</td>\n",
       "      <td>2053013555631882655</td>\n",
       "      <td>electronics.smartphone</td>\n",
       "      <td>apple</td>\n",
       "      <td>1081.98</td>\n",
       "      <td>535871217</td>\n",
       "      <td>c6bd7419-2748-4c56-95b4-8cec9ff8b80d</td>\n",
       "    </tr>\n",
       "  </tbody>\n",
       "</table>\n",
       "</div>"
      ],
      "text/plain": [
       "                 event_time  month  day day_name  hour event_type  product_id  \\\n",
       "0 2019-10-01 04:00:00+04:00     10    1  Tuesday     4       view    44600062   \n",
       "1 2019-10-01 04:00:00+04:00     10    1  Tuesday     4       view     3900821   \n",
       "2 2019-10-01 04:00:01+04:00     10    1  Tuesday     4       view    17200506   \n",
       "3 2019-10-01 04:00:01+04:00     10    1  Tuesday     4       view     1307067   \n",
       "4 2019-10-01 04:00:04+04:00     10    1  Tuesday     4       view     1004237   \n",
       "\n",
       "           category_id                        category_code     brand  \\\n",
       "0  2103807459595387724                                  NaN  shiseido   \n",
       "1  2053013552326770905  appliances.environment.water_heater      aqua   \n",
       "2  2053013559792632471           furniture.living_room.sofa       NaN   \n",
       "3  2053013558920217191                   computers.notebook    lenovo   \n",
       "4  2053013555631882655               electronics.smartphone     apple   \n",
       "\n",
       "     price    user_id                          user_session  \n",
       "0    35.79  541312140  72d76fde-8bb3-4e00-8c23-a032dfed738c  \n",
       "1    33.20  554748717  9333dfbd-b87a-4708-9857-6336556b0fcc  \n",
       "2   543.10  519107250  566511c2-e2e3-422b-b695-cf8e6e792ca8  \n",
       "3   251.74  550050854  7c90fc70-0e80-4590-96f3-13c02c18c713  \n",
       "4  1081.98  535871217  c6bd7419-2748-4c56-95b4-8cec9ff8b80d  "
      ]
     },
     "execution_count": 13,
     "metadata": {},
     "output_type": "execute_result"
    }
   ],
   "source": [
    "df_mod.head()"
   ]
  },
  {
   "cell_type": "code",
   "execution_count": 28,
   "metadata": {},
   "outputs": [
    {
     "data": {
      "text/plain": [
       "view        0.960673\n",
       "cart        0.021827\n",
       "purchase    0.017500\n",
       "Name: event_type, dtype: float64"
      ]
     },
     "execution_count": 28,
     "metadata": {},
     "output_type": "execute_result"
    }
   ],
   "source": [
    "df[\"event_type\"].value_counts(normalize=True)"
   ]
  },
  {
   "cell_type": "code",
   "execution_count": 27,
   "metadata": {},
   "outputs": [
    {
     "ename": "MemoryError",
     "evalue": "",
     "output_type": "error",
     "traceback": [
      "\u001b[1;31m---------------------------------------------------------------------------\u001b[0m",
      "\u001b[1;31mMemoryError\u001b[0m                               Traceback (most recent call last)",
      "\u001b[1;32mc:\\Users\\aryij\\Documents\\AI Bootcamp\\Codestates Project\\cp2\\ecommerce-behavior-data-analysis\\2019_oct.ipynb Cell 18'\u001b[0m in \u001b[0;36m<cell line: 8>\u001b[1;34m()\u001b[0m\n\u001b[0;32m      <a href='vscode-notebook-cell:/c%3A/Users/aryij/Documents/AI%20Bootcamp/Codestates%20Project/cp2/ecommerce-behavior-data-analysis/2019_oct.ipynb#ch0000016?line=3'>4</a>\u001b[0m fig \u001b[39m=\u001b[39m go\u001b[39m.\u001b[39mFigure()\n\u001b[0;32m      <a href='vscode-notebook-cell:/c%3A/Users/aryij/Documents/AI%20Bootcamp/Codestates%20Project/cp2/ecommerce-behavior-data-analysis/2019_oct.ipynb#ch0000016?line=4'>5</a>\u001b[0m fig\u001b[39m.\u001b[39madd_trace(\n\u001b[0;32m      <a href='vscode-notebook-cell:/c%3A/Users/aryij/Documents/AI%20Bootcamp/Codestates%20Project/cp2/ecommerce-behavior-data-analysis/2019_oct.ipynb#ch0000016?line=5'>6</a>\u001b[0m     go\u001b[39m.\u001b[39mScatter(x\u001b[39m=\u001b[39mdf_mod[\u001b[39m\"\u001b[39m\u001b[39mday_name\u001b[39m\u001b[39m\"\u001b[39m])\n\u001b[0;32m      <a href='vscode-notebook-cell:/c%3A/Users/aryij/Documents/AI%20Bootcamp/Codestates%20Project/cp2/ecommerce-behavior-data-analysis/2019_oct.ipynb#ch0000016?line=6'>7</a>\u001b[0m )\n\u001b[1;32m----> <a href='vscode-notebook-cell:/c%3A/Users/aryij/Documents/AI%20Bootcamp/Codestates%20Project/cp2/ecommerce-behavior-data-analysis/2019_oct.ipynb#ch0000016?line=7'>8</a>\u001b[0m fig\u001b[39m.\u001b[39;49mshow()\n",
      "File \u001b[1;32mc:\\Users\\aryij\\anaconda3\\envs\\cp2\\lib\\site-packages\\plotly\\basedatatypes.py:3398\u001b[0m, in \u001b[0;36mBaseFigure.show\u001b[1;34m(self, *args, **kwargs)\u001b[0m\n\u001b[0;32m   <a href='file:///c%3A/Users/aryij/anaconda3/envs/cp2/lib/site-packages/plotly/basedatatypes.py?line=3364'>3365</a>\u001b[0m \u001b[39m\"\"\"\u001b[39;00m\n\u001b[0;32m   <a href='file:///c%3A/Users/aryij/anaconda3/envs/cp2/lib/site-packages/plotly/basedatatypes.py?line=3365'>3366</a>\u001b[0m \u001b[39mShow a figure using either the default renderer(s) or the renderer(s)\u001b[39;00m\n\u001b[0;32m   <a href='file:///c%3A/Users/aryij/anaconda3/envs/cp2/lib/site-packages/plotly/basedatatypes.py?line=3366'>3367</a>\u001b[0m \u001b[39mspecified by the renderer argument\u001b[39;00m\n\u001b[1;32m   (...)\u001b[0m\n\u001b[0;32m   <a href='file:///c%3A/Users/aryij/anaconda3/envs/cp2/lib/site-packages/plotly/basedatatypes.py?line=3393'>3394</a>\u001b[0m \u001b[39mNone\u001b[39;00m\n\u001b[0;32m   <a href='file:///c%3A/Users/aryij/anaconda3/envs/cp2/lib/site-packages/plotly/basedatatypes.py?line=3394'>3395</a>\u001b[0m \u001b[39m\"\"\"\u001b[39;00m\n\u001b[0;32m   <a href='file:///c%3A/Users/aryij/anaconda3/envs/cp2/lib/site-packages/plotly/basedatatypes.py?line=3395'>3396</a>\u001b[0m \u001b[39mimport\u001b[39;00m \u001b[39mplotly\u001b[39;00m\u001b[39m.\u001b[39;00m\u001b[39mio\u001b[39;00m \u001b[39mas\u001b[39;00m \u001b[39mpio\u001b[39;00m\n\u001b[1;32m-> <a href='file:///c%3A/Users/aryij/anaconda3/envs/cp2/lib/site-packages/plotly/basedatatypes.py?line=3397'>3398</a>\u001b[0m \u001b[39mreturn\u001b[39;00m pio\u001b[39m.\u001b[39;49mshow(\u001b[39mself\u001b[39;49m, \u001b[39m*\u001b[39;49margs, \u001b[39m*\u001b[39;49m\u001b[39m*\u001b[39;49mkwargs)\n",
      "File \u001b[1;32mc:\\Users\\aryij\\anaconda3\\envs\\cp2\\lib\\site-packages\\plotly\\io\\_renderers.py:388\u001b[0m, in \u001b[0;36mshow\u001b[1;34m(fig, renderer, validate, **kwargs)\u001b[0m\n\u001b[0;32m    <a href='file:///c%3A/Users/aryij/anaconda3/envs/cp2/lib/site-packages/plotly/io/_renderers.py?line=384'>385</a>\u001b[0m fig_dict \u001b[39m=\u001b[39m validate_coerce_fig_to_dict(fig, validate)\n\u001b[0;32m    <a href='file:///c%3A/Users/aryij/anaconda3/envs/cp2/lib/site-packages/plotly/io/_renderers.py?line=386'>387</a>\u001b[0m \u001b[39m# Mimetype renderers\u001b[39;00m\n\u001b[1;32m--> <a href='file:///c%3A/Users/aryij/anaconda3/envs/cp2/lib/site-packages/plotly/io/_renderers.py?line=387'>388</a>\u001b[0m bundle \u001b[39m=\u001b[39m renderers\u001b[39m.\u001b[39;49m_build_mime_bundle(fig_dict, renderers_string\u001b[39m=\u001b[39;49mrenderer, \u001b[39m*\u001b[39;49m\u001b[39m*\u001b[39;49mkwargs)\n\u001b[0;32m    <a href='file:///c%3A/Users/aryij/anaconda3/envs/cp2/lib/site-packages/plotly/io/_renderers.py?line=388'>389</a>\u001b[0m \u001b[39mif\u001b[39;00m bundle:\n\u001b[0;32m    <a href='file:///c%3A/Users/aryij/anaconda3/envs/cp2/lib/site-packages/plotly/io/_renderers.py?line=389'>390</a>\u001b[0m     \u001b[39mif\u001b[39;00m \u001b[39mnot\u001b[39;00m ipython_display:\n",
      "File \u001b[1;32mc:\\Users\\aryij\\anaconda3\\envs\\cp2\\lib\\site-packages\\plotly\\io\\_renderers.py:296\u001b[0m, in \u001b[0;36mRenderersConfig._build_mime_bundle\u001b[1;34m(self, fig_dict, renderers_string, **kwargs)\u001b[0m\n\u001b[0;32m    <a href='file:///c%3A/Users/aryij/anaconda3/envs/cp2/lib/site-packages/plotly/io/_renderers.py?line=292'>293</a>\u001b[0m             \u001b[39mif\u001b[39;00m \u001b[39mhasattr\u001b[39m(renderer, k):\n\u001b[0;32m    <a href='file:///c%3A/Users/aryij/anaconda3/envs/cp2/lib/site-packages/plotly/io/_renderers.py?line=293'>294</a>\u001b[0m                 \u001b[39msetattr\u001b[39m(renderer, k, v)\n\u001b[1;32m--> <a href='file:///c%3A/Users/aryij/anaconda3/envs/cp2/lib/site-packages/plotly/io/_renderers.py?line=295'>296</a>\u001b[0m         bundle\u001b[39m.\u001b[39mupdate(renderer\u001b[39m.\u001b[39;49mto_mimebundle(fig_dict))\n\u001b[0;32m    <a href='file:///c%3A/Users/aryij/anaconda3/envs/cp2/lib/site-packages/plotly/io/_renderers.py?line=297'>298</a>\u001b[0m \u001b[39mreturn\u001b[39;00m bundle\n",
      "File \u001b[1;32mc:\\Users\\aryij\\anaconda3\\envs\\cp2\\lib\\site-packages\\plotly\\io\\_base_renderers.py:94\u001b[0m, in \u001b[0;36mPlotlyRenderer.to_mimebundle\u001b[1;34m(self, fig_dict)\u001b[0m\n\u001b[0;32m     <a href='file:///c%3A/Users/aryij/anaconda3/envs/cp2/lib/site-packages/plotly/io/_base_renderers.py?line=90'>91</a>\u001b[0m \u001b[39mif\u001b[39;00m config:\n\u001b[0;32m     <a href='file:///c%3A/Users/aryij/anaconda3/envs/cp2/lib/site-packages/plotly/io/_base_renderers.py?line=91'>92</a>\u001b[0m     fig_dict[\u001b[39m\"\u001b[39m\u001b[39mconfig\u001b[39m\u001b[39m\"\u001b[39m] \u001b[39m=\u001b[39m config\n\u001b[1;32m---> <a href='file:///c%3A/Users/aryij/anaconda3/envs/cp2/lib/site-packages/plotly/io/_base_renderers.py?line=93'>94</a>\u001b[0m json_compatible_fig_dict \u001b[39m=\u001b[39m json\u001b[39m.\u001b[39;49mloads(\n\u001b[0;32m     <a href='file:///c%3A/Users/aryij/anaconda3/envs/cp2/lib/site-packages/plotly/io/_base_renderers.py?line=94'>95</a>\u001b[0m     to_json(fig_dict, validate\u001b[39m=\u001b[39;49m\u001b[39mFalse\u001b[39;49;00m, remove_uids\u001b[39m=\u001b[39;49m\u001b[39mFalse\u001b[39;49;00m)\n\u001b[0;32m     <a href='file:///c%3A/Users/aryij/anaconda3/envs/cp2/lib/site-packages/plotly/io/_base_renderers.py?line=95'>96</a>\u001b[0m )\n\u001b[0;32m     <a href='file:///c%3A/Users/aryij/anaconda3/envs/cp2/lib/site-packages/plotly/io/_base_renderers.py?line=97'>98</a>\u001b[0m \u001b[39mreturn\u001b[39;00m {\u001b[39m\"\u001b[39m\u001b[39mapplication/vnd.plotly.v1+json\u001b[39m\u001b[39m\"\u001b[39m: json_compatible_fig_dict}\n",
      "File \u001b[1;32mc:\\Users\\aryij\\anaconda3\\envs\\cp2\\lib\\json\\__init__.py:357\u001b[0m, in \u001b[0;36mloads\u001b[1;34m(s, cls, object_hook, parse_float, parse_int, parse_constant, object_pairs_hook, **kw)\u001b[0m\n\u001b[0;32m    <a href='file:///c%3A/Users/aryij/anaconda3/envs/cp2/lib/json/__init__.py?line=351'>352</a>\u001b[0m     \u001b[39mdel\u001b[39;00m kw[\u001b[39m'\u001b[39m\u001b[39mencoding\u001b[39m\u001b[39m'\u001b[39m]\n\u001b[0;32m    <a href='file:///c%3A/Users/aryij/anaconda3/envs/cp2/lib/json/__init__.py?line=353'>354</a>\u001b[0m \u001b[39mif\u001b[39;00m (\u001b[39mcls\u001b[39m \u001b[39mis\u001b[39;00m \u001b[39mNone\u001b[39;00m \u001b[39mand\u001b[39;00m object_hook \u001b[39mis\u001b[39;00m \u001b[39mNone\u001b[39;00m \u001b[39mand\u001b[39;00m\n\u001b[0;32m    <a href='file:///c%3A/Users/aryij/anaconda3/envs/cp2/lib/json/__init__.py?line=354'>355</a>\u001b[0m         parse_int \u001b[39mis\u001b[39;00m \u001b[39mNone\u001b[39;00m \u001b[39mand\u001b[39;00m parse_float \u001b[39mis\u001b[39;00m \u001b[39mNone\u001b[39;00m \u001b[39mand\u001b[39;00m\n\u001b[0;32m    <a href='file:///c%3A/Users/aryij/anaconda3/envs/cp2/lib/json/__init__.py?line=355'>356</a>\u001b[0m         parse_constant \u001b[39mis\u001b[39;00m \u001b[39mNone\u001b[39;00m \u001b[39mand\u001b[39;00m object_pairs_hook \u001b[39mis\u001b[39;00m \u001b[39mNone\u001b[39;00m \u001b[39mand\u001b[39;00m \u001b[39mnot\u001b[39;00m kw):\n\u001b[1;32m--> <a href='file:///c%3A/Users/aryij/anaconda3/envs/cp2/lib/json/__init__.py?line=356'>357</a>\u001b[0m     \u001b[39mreturn\u001b[39;00m _default_decoder\u001b[39m.\u001b[39;49mdecode(s)\n\u001b[0;32m    <a href='file:///c%3A/Users/aryij/anaconda3/envs/cp2/lib/json/__init__.py?line=357'>358</a>\u001b[0m \u001b[39mif\u001b[39;00m \u001b[39mcls\u001b[39m \u001b[39mis\u001b[39;00m \u001b[39mNone\u001b[39;00m:\n\u001b[0;32m    <a href='file:///c%3A/Users/aryij/anaconda3/envs/cp2/lib/json/__init__.py?line=358'>359</a>\u001b[0m     \u001b[39mcls\u001b[39m \u001b[39m=\u001b[39m JSONDecoder\n",
      "File \u001b[1;32mc:\\Users\\aryij\\anaconda3\\envs\\cp2\\lib\\json\\decoder.py:337\u001b[0m, in \u001b[0;36mJSONDecoder.decode\u001b[1;34m(self, s, _w)\u001b[0m\n\u001b[0;32m    <a href='file:///c%3A/Users/aryij/anaconda3/envs/cp2/lib/json/decoder.py?line=331'>332</a>\u001b[0m \u001b[39mdef\u001b[39;00m \u001b[39mdecode\u001b[39m(\u001b[39mself\u001b[39m, s, _w\u001b[39m=\u001b[39mWHITESPACE\u001b[39m.\u001b[39mmatch):\n\u001b[0;32m    <a href='file:///c%3A/Users/aryij/anaconda3/envs/cp2/lib/json/decoder.py?line=332'>333</a>\u001b[0m     \u001b[39m\"\"\"Return the Python representation of ``s`` (a ``str`` instance\u001b[39;00m\n\u001b[0;32m    <a href='file:///c%3A/Users/aryij/anaconda3/envs/cp2/lib/json/decoder.py?line=333'>334</a>\u001b[0m \u001b[39m    containing a JSON document).\u001b[39;00m\n\u001b[0;32m    <a href='file:///c%3A/Users/aryij/anaconda3/envs/cp2/lib/json/decoder.py?line=334'>335</a>\u001b[0m \n\u001b[0;32m    <a href='file:///c%3A/Users/aryij/anaconda3/envs/cp2/lib/json/decoder.py?line=335'>336</a>\u001b[0m \u001b[39m    \"\"\"\u001b[39;00m\n\u001b[1;32m--> <a href='file:///c%3A/Users/aryij/anaconda3/envs/cp2/lib/json/decoder.py?line=336'>337</a>\u001b[0m     obj, end \u001b[39m=\u001b[39m \u001b[39mself\u001b[39;49m\u001b[39m.\u001b[39;49mraw_decode(s, idx\u001b[39m=\u001b[39;49m_w(s, \u001b[39m0\u001b[39;49m)\u001b[39m.\u001b[39;49mend())\n\u001b[0;32m    <a href='file:///c%3A/Users/aryij/anaconda3/envs/cp2/lib/json/decoder.py?line=337'>338</a>\u001b[0m     end \u001b[39m=\u001b[39m _w(s, end)\u001b[39m.\u001b[39mend()\n\u001b[0;32m    <a href='file:///c%3A/Users/aryij/anaconda3/envs/cp2/lib/json/decoder.py?line=338'>339</a>\u001b[0m     \u001b[39mif\u001b[39;00m end \u001b[39m!=\u001b[39m \u001b[39mlen\u001b[39m(s):\n",
      "File \u001b[1;32mc:\\Users\\aryij\\anaconda3\\envs\\cp2\\lib\\json\\decoder.py:353\u001b[0m, in \u001b[0;36mJSONDecoder.raw_decode\u001b[1;34m(self, s, idx)\u001b[0m\n\u001b[0;32m    <a href='file:///c%3A/Users/aryij/anaconda3/envs/cp2/lib/json/decoder.py?line=343'>344</a>\u001b[0m \u001b[39m\"\"\"Decode a JSON document from ``s`` (a ``str`` beginning with\u001b[39;00m\n\u001b[0;32m    <a href='file:///c%3A/Users/aryij/anaconda3/envs/cp2/lib/json/decoder.py?line=344'>345</a>\u001b[0m \u001b[39ma JSON document) and return a 2-tuple of the Python\u001b[39;00m\n\u001b[0;32m    <a href='file:///c%3A/Users/aryij/anaconda3/envs/cp2/lib/json/decoder.py?line=345'>346</a>\u001b[0m \u001b[39mrepresentation and the index in ``s`` where the document ended.\u001b[39;00m\n\u001b[1;32m   (...)\u001b[0m\n\u001b[0;32m    <a href='file:///c%3A/Users/aryij/anaconda3/envs/cp2/lib/json/decoder.py?line=349'>350</a>\u001b[0m \n\u001b[0;32m    <a href='file:///c%3A/Users/aryij/anaconda3/envs/cp2/lib/json/decoder.py?line=350'>351</a>\u001b[0m \u001b[39m\"\"\"\u001b[39;00m\n\u001b[0;32m    <a href='file:///c%3A/Users/aryij/anaconda3/envs/cp2/lib/json/decoder.py?line=351'>352</a>\u001b[0m \u001b[39mtry\u001b[39;00m:\n\u001b[1;32m--> <a href='file:///c%3A/Users/aryij/anaconda3/envs/cp2/lib/json/decoder.py?line=352'>353</a>\u001b[0m     obj, end \u001b[39m=\u001b[39m \u001b[39mself\u001b[39;49m\u001b[39m.\u001b[39;49mscan_once(s, idx)\n\u001b[0;32m    <a href='file:///c%3A/Users/aryij/anaconda3/envs/cp2/lib/json/decoder.py?line=353'>354</a>\u001b[0m \u001b[39mexcept\u001b[39;00m \u001b[39mStopIteration\u001b[39;00m \u001b[39mas\u001b[39;00m err:\n\u001b[0;32m    <a href='file:///c%3A/Users/aryij/anaconda3/envs/cp2/lib/json/decoder.py?line=354'>355</a>\u001b[0m     \u001b[39mraise\u001b[39;00m JSONDecodeError(\u001b[39m\"\u001b[39m\u001b[39mExpecting value\u001b[39m\u001b[39m\"\u001b[39m, s, err\u001b[39m.\u001b[39mvalue) \u001b[39mfrom\u001b[39;00m \u001b[39mNone\u001b[39m\n",
      "\u001b[1;31mMemoryError\u001b[0m: "
     ]
    }
   ],
   "source": [
    "import plotly.express as px\n",
    "import plotly.graph_objects as go\n",
    "\n",
    "fig = go.Figure()\n",
    "fig.add_trace(\n",
    "    go.Scatter(x=df_mod[\"day_name\"])\n",
    ")\n",
    "fig.show()"
   ]
  },
  {
   "cell_type": "code",
   "execution_count": 4,
   "metadata": {},
   "outputs": [
    {
     "data": {
      "text/plain": [
       "6"
      ]
     },
     "execution_count": 4,
     "metadata": {},
     "output_type": "execute_result"
    }
   ],
   "source": [
    "1+5"
   ]
  },
  {
   "cell_type": "code",
   "execution_count": null,
   "metadata": {},
   "outputs": [],
   "source": []
  },
  {
   "cell_type": "code",
   "execution_count": 15,
   "metadata": {},
   "outputs": [
    {
     "data": {
      "text/plain": [
       "0           10\n",
       "1           10\n",
       "2           10\n",
       "3           10\n",
       "4           10\n",
       "            ..\n",
       "42448759    11\n",
       "42448760    11\n",
       "42448761    11\n",
       "42448762    11\n",
       "42448763    11\n",
       "Name: event_time, Length: 42448764, dtype: int64"
      ]
     },
     "execution_count": 15,
     "metadata": {},
     "output_type": "execute_result"
    }
   ],
   "source": [
    "# event_time 월만 빼내기\n",
    "df[\"event_time\"].dt.month"
   ]
  },
  {
   "cell_type": "code",
   "execution_count": 16,
   "metadata": {},
   "outputs": [
    {
     "data": {
      "text/plain": [
       "0           1\n",
       "1           1\n",
       "2           1\n",
       "3           1\n",
       "4           1\n",
       "           ..\n",
       "42448759    1\n",
       "42448760    1\n",
       "42448761    1\n",
       "42448762    1\n",
       "42448763    1\n",
       "Name: event_time, Length: 42448764, dtype: int64"
      ]
     },
     "execution_count": 16,
     "metadata": {},
     "output_type": "execute_result"
    }
   ],
   "source": [
    "# event_time 일만 빼내기\n",
    "df[\"event_time\"].dt.day"
   ]
  },
  {
   "cell_type": "code",
   "execution_count": 17,
   "metadata": {},
   "outputs": [
    {
     "data": {
      "text/plain": [
       "0           4\n",
       "1           4\n",
       "2           4\n",
       "3           4\n",
       "4           4\n",
       "           ..\n",
       "42448759    3\n",
       "42448760    3\n",
       "42448761    3\n",
       "42448762    3\n",
       "42448763    3\n",
       "Name: event_time, Length: 42448764, dtype: int64"
      ]
     },
     "execution_count": 17,
     "metadata": {},
     "output_type": "execute_result"
    }
   ],
   "source": [
    "# event_time 시간만 빼내기\n",
    "df[\"event_time\"].dt.hour"
   ]
  },
  {
   "cell_type": "code",
   "execution_count": 18,
   "metadata": {},
   "outputs": [
    {
     "data": {
      "text/plain": [
       "0            0\n",
       "1            0\n",
       "2            0\n",
       "3            0\n",
       "4            0\n",
       "            ..\n",
       "42448759    59\n",
       "42448760    59\n",
       "42448761    59\n",
       "42448762    59\n",
       "42448763    59\n",
       "Name: event_time, Length: 42448764, dtype: int64"
      ]
     },
     "execution_count": 18,
     "metadata": {},
     "output_type": "execute_result"
    }
   ],
   "source": [
    "# event_time 분만 빼내기\n",
    "df[\"event_time\"].dt.minute"
   ]
  },
  {
   "cell_type": "code",
   "execution_count": 19,
   "metadata": {},
   "outputs": [
    {
     "data": {
      "text/plain": [
       "0           Tuesday\n",
       "1           Tuesday\n",
       "2           Tuesday\n",
       "3           Tuesday\n",
       "4           Tuesday\n",
       "             ...   \n",
       "42448759     Friday\n",
       "42448760     Friday\n",
       "42448761     Friday\n",
       "42448762     Friday\n",
       "42448763     Friday\n",
       "Name: event_time, Length: 42448764, dtype: object"
      ]
     },
     "execution_count": 19,
     "metadata": {},
     "output_type": "execute_result"
    }
   ],
   "source": [
    "# event_time 요일 이름만 빼내기\n",
    "df[\"event_time\"].apply(lambda x : x.day_name())"
   ]
  },
  {
   "cell_type": "code",
   "execution_count": 6,
   "metadata": {},
   "outputs": [
    {
     "data": {
      "text/plain": [
       "11"
      ]
     },
     "execution_count": 6,
     "metadata": {},
     "output_type": "execute_result"
    }
   ],
   "source": [
    "1+10"
   ]
  },
  {
   "cell_type": "code",
   "execution_count": null,
   "metadata": {},
   "outputs": [],
   "source": []
  },
  {
   "cell_type": "code",
   "execution_count": null,
   "metadata": {},
   "outputs": [],
   "source": []
  },
  {
   "cell_type": "code",
   "execution_count": 20,
   "metadata": {},
   "outputs": [
    {
     "ename": "MemoryError",
     "evalue": "",
     "output_type": "error",
     "traceback": [
      "\u001b[1;31m---------------------------------------------------------------------------\u001b[0m",
      "\u001b[1;31mMemoryError\u001b[0m                               Traceback (most recent call last)",
      "\u001b[1;32mc:\\Users\\aryij\\Documents\\AI Bootcamp\\Codestates Project\\cp2\\ecommerce-behavior-data-analysis\\2019_oct.ipynb Cell 27'\u001b[0m in \u001b[0;36m<cell line: 1>\u001b[1;34m()\u001b[0m\n\u001b[1;32m----> <a href='vscode-notebook-cell:/c%3A/Users/aryij/Documents/AI%20Bootcamp/Codestates%20Project/cp2/ecommerce-behavior-data-analysis/2019_oct.ipynb#ch0000026?line=0'>1</a>\u001b[0m df[\u001b[39m\"\u001b[39;49m\u001b[39mcategory_code\u001b[39;49m\u001b[39m\"\u001b[39;49m]\u001b[39m.\u001b[39;49mstr\u001b[39m.\u001b[39;49msplit(\u001b[39m\"\u001b[39;49m\u001b[39m.\u001b[39;49m\u001b[39m\"\u001b[39;49m)\u001b[39m.\u001b[39mstr[\u001b[39m0\u001b[39m]\n",
      "File \u001b[1;32mc:\\Users\\aryij\\anaconda3\\envs\\cp2\\lib\\site-packages\\pandas\\core\\strings\\accessor.py:125\u001b[0m, in \u001b[0;36mforbid_nonstring_types.<locals>._forbid_nonstring_types.<locals>.wrapper\u001b[1;34m(self, *args, **kwargs)\u001b[0m\n\u001b[0;32m    <a href='file:///c%3A/Users/aryij/anaconda3/envs/cp2/lib/site-packages/pandas/core/strings/accessor.py?line=119'>120</a>\u001b[0m     msg \u001b[39m=\u001b[39m (\n\u001b[0;32m    <a href='file:///c%3A/Users/aryij/anaconda3/envs/cp2/lib/site-packages/pandas/core/strings/accessor.py?line=120'>121</a>\u001b[0m         \u001b[39mf\u001b[39m\u001b[39m\"\u001b[39m\u001b[39mCannot use .str.\u001b[39m\u001b[39m{\u001b[39;00mfunc_name\u001b[39m}\u001b[39;00m\u001b[39m with values of \u001b[39m\u001b[39m\"\u001b[39m\n\u001b[0;32m    <a href='file:///c%3A/Users/aryij/anaconda3/envs/cp2/lib/site-packages/pandas/core/strings/accessor.py?line=121'>122</a>\u001b[0m         \u001b[39mf\u001b[39m\u001b[39m\"\u001b[39m\u001b[39minferred dtype \u001b[39m\u001b[39m'\u001b[39m\u001b[39m{\u001b[39;00m\u001b[39mself\u001b[39m\u001b[39m.\u001b[39m_inferred_dtype\u001b[39m}\u001b[39;00m\u001b[39m'\u001b[39m\u001b[39m.\u001b[39m\u001b[39m\"\u001b[39m\n\u001b[0;32m    <a href='file:///c%3A/Users/aryij/anaconda3/envs/cp2/lib/site-packages/pandas/core/strings/accessor.py?line=122'>123</a>\u001b[0m     )\n\u001b[0;32m    <a href='file:///c%3A/Users/aryij/anaconda3/envs/cp2/lib/site-packages/pandas/core/strings/accessor.py?line=123'>124</a>\u001b[0m     \u001b[39mraise\u001b[39;00m \u001b[39mTypeError\u001b[39;00m(msg)\n\u001b[1;32m--> <a href='file:///c%3A/Users/aryij/anaconda3/envs/cp2/lib/site-packages/pandas/core/strings/accessor.py?line=124'>125</a>\u001b[0m \u001b[39mreturn\u001b[39;00m func(\u001b[39mself\u001b[39;49m, \u001b[39m*\u001b[39;49margs, \u001b[39m*\u001b[39;49m\u001b[39m*\u001b[39;49mkwargs)\n",
      "File \u001b[1;32mc:\\Users\\aryij\\anaconda3\\envs\\cp2\\lib\\site-packages\\pandas\\core\\strings\\accessor.py:850\u001b[0m, in \u001b[0;36mStringMethods.split\u001b[1;34m(self, pat, n, expand, regex)\u001b[0m\n\u001b[0;32m    <a href='file:///c%3A/Users/aryij/anaconda3/envs/cp2/lib/site-packages/pandas/core/strings/accessor.py?line=847'>848</a>\u001b[0m \u001b[39mif\u001b[39;00m is_re(pat):\n\u001b[0;32m    <a href='file:///c%3A/Users/aryij/anaconda3/envs/cp2/lib/site-packages/pandas/core/strings/accessor.py?line=848'>849</a>\u001b[0m     regex \u001b[39m=\u001b[39m \u001b[39mTrue\u001b[39;00m\n\u001b[1;32m--> <a href='file:///c%3A/Users/aryij/anaconda3/envs/cp2/lib/site-packages/pandas/core/strings/accessor.py?line=849'>850</a>\u001b[0m result \u001b[39m=\u001b[39m \u001b[39mself\u001b[39;49m\u001b[39m.\u001b[39;49m_data\u001b[39m.\u001b[39;49marray\u001b[39m.\u001b[39;49m_str_split(pat, n, expand, regex)\n\u001b[0;32m    <a href='file:///c%3A/Users/aryij/anaconda3/envs/cp2/lib/site-packages/pandas/core/strings/accessor.py?line=850'>851</a>\u001b[0m \u001b[39mreturn\u001b[39;00m \u001b[39mself\u001b[39m\u001b[39m.\u001b[39m_wrap_result(result, returns_string\u001b[39m=\u001b[39mexpand, expand\u001b[39m=\u001b[39mexpand)\n",
      "File \u001b[1;32mc:\\Users\\aryij\\anaconda3\\envs\\cp2\\lib\\site-packages\\pandas\\core\\strings\\object_array.py:341\u001b[0m, in \u001b[0;36mObjectStringArrayMixin._str_split\u001b[1;34m(self, pat, n, expand, regex)\u001b[0m\n\u001b[0;32m    <a href='file:///c%3A/Users/aryij/anaconda3/envs/cp2/lib/site-packages/pandas/core/strings/object_array.py?line=338'>339</a>\u001b[0m             n \u001b[39m=\u001b[39m \u001b[39m-\u001b[39m\u001b[39m1\u001b[39m\n\u001b[0;32m    <a href='file:///c%3A/Users/aryij/anaconda3/envs/cp2/lib/site-packages/pandas/core/strings/object_array.py?line=339'>340</a>\u001b[0m         f \u001b[39m=\u001b[39m \u001b[39mlambda\u001b[39;00m x: x\u001b[39m.\u001b[39msplit(pat, n)\n\u001b[1;32m--> <a href='file:///c%3A/Users/aryij/anaconda3/envs/cp2/lib/site-packages/pandas/core/strings/object_array.py?line=340'>341</a>\u001b[0m \u001b[39mreturn\u001b[39;00m \u001b[39mself\u001b[39;49m\u001b[39m.\u001b[39;49m_str_map(f, dtype\u001b[39m=\u001b[39;49m\u001b[39mobject\u001b[39;49m)\n",
      "File \u001b[1;32mc:\\Users\\aryij\\anaconda3\\envs\\cp2\\lib\\site-packages\\pandas\\core\\strings\\object_array.py:71\u001b[0m, in \u001b[0;36mObjectStringArrayMixin._str_map\u001b[1;34m(self, f, na_value, dtype, convert)\u001b[0m\n\u001b[0;32m     <a href='file:///c%3A/Users/aryij/anaconda3/envs/cp2/lib/site-packages/pandas/core/strings/object_array.py?line=68'>69</a>\u001b[0m map_convert \u001b[39m=\u001b[39m convert \u001b[39mand\u001b[39;00m \u001b[39mnot\u001b[39;00m np\u001b[39m.\u001b[39mall(mask)\n\u001b[0;32m     <a href='file:///c%3A/Users/aryij/anaconda3/envs/cp2/lib/site-packages/pandas/core/strings/object_array.py?line=69'>70</a>\u001b[0m \u001b[39mtry\u001b[39;00m:\n\u001b[1;32m---> <a href='file:///c%3A/Users/aryij/anaconda3/envs/cp2/lib/site-packages/pandas/core/strings/object_array.py?line=70'>71</a>\u001b[0m     result \u001b[39m=\u001b[39m lib\u001b[39m.\u001b[39;49mmap_infer_mask(arr, f, mask\u001b[39m.\u001b[39;49mview(np\u001b[39m.\u001b[39;49muint8), map_convert)\n\u001b[0;32m     <a href='file:///c%3A/Users/aryij/anaconda3/envs/cp2/lib/site-packages/pandas/core/strings/object_array.py?line=71'>72</a>\u001b[0m \u001b[39mexcept\u001b[39;00m (\u001b[39mTypeError\u001b[39;00m, \u001b[39mAttributeError\u001b[39;00m) \u001b[39mas\u001b[39;00m err:\n\u001b[0;32m     <a href='file:///c%3A/Users/aryij/anaconda3/envs/cp2/lib/site-packages/pandas/core/strings/object_array.py?line=72'>73</a>\u001b[0m     \u001b[39m# Reraise the exception if callable `f` got wrong number of args.\u001b[39;00m\n\u001b[0;32m     <a href='file:///c%3A/Users/aryij/anaconda3/envs/cp2/lib/site-packages/pandas/core/strings/object_array.py?line=73'>74</a>\u001b[0m     \u001b[39m# The user may want to be warned by this, instead of getting NaN\u001b[39;00m\n\u001b[0;32m     <a href='file:///c%3A/Users/aryij/anaconda3/envs/cp2/lib/site-packages/pandas/core/strings/object_array.py?line=74'>75</a>\u001b[0m     p_err \u001b[39m=\u001b[39m (\n\u001b[0;32m     <a href='file:///c%3A/Users/aryij/anaconda3/envs/cp2/lib/site-packages/pandas/core/strings/object_array.py?line=75'>76</a>\u001b[0m         \u001b[39mr\u001b[39m\u001b[39m\"\u001b[39m\u001b[39m((takes)|(missing)) (?(2)from \u001b[39m\u001b[39m\\\u001b[39m\u001b[39md+ to )?\u001b[39m\u001b[39m\\\u001b[39m\u001b[39md+ \u001b[39m\u001b[39m\"\u001b[39m\n\u001b[0;32m     <a href='file:///c%3A/Users/aryij/anaconda3/envs/cp2/lib/site-packages/pandas/core/strings/object_array.py?line=76'>77</a>\u001b[0m         \u001b[39mr\u001b[39m\u001b[39m\"\u001b[39m\u001b[39m(?(3)required )positional arguments?\u001b[39m\u001b[39m\"\u001b[39m\n\u001b[0;32m     <a href='file:///c%3A/Users/aryij/anaconda3/envs/cp2/lib/site-packages/pandas/core/strings/object_array.py?line=77'>78</a>\u001b[0m     )\n",
      "File \u001b[1;32mc:\\Users\\aryij\\anaconda3\\envs\\cp2\\lib\\site-packages\\pandas\\_libs\\lib.pyx:2822\u001b[0m, in \u001b[0;36mpandas._libs.lib.map_infer_mask\u001b[1;34m()\u001b[0m\n",
      "File \u001b[1;32mc:\\Users\\aryij\\anaconda3\\envs\\cp2\\lib\\site-packages\\pandas\\core\\strings\\object_array.py:340\u001b[0m, in \u001b[0;36mObjectStringArrayMixin._str_split.<locals>.<lambda>\u001b[1;34m(x)\u001b[0m\n\u001b[0;32m    <a href='file:///c%3A/Users/aryij/anaconda3/envs/cp2/lib/site-packages/pandas/core/strings/object_array.py?line=337'>338</a>\u001b[0m         \u001b[39mif\u001b[39;00m n \u001b[39mis\u001b[39;00m \u001b[39mNone\u001b[39;00m \u001b[39mor\u001b[39;00m n \u001b[39m==\u001b[39m \u001b[39m0\u001b[39m:\n\u001b[0;32m    <a href='file:///c%3A/Users/aryij/anaconda3/envs/cp2/lib/site-packages/pandas/core/strings/object_array.py?line=338'>339</a>\u001b[0m             n \u001b[39m=\u001b[39m \u001b[39m-\u001b[39m\u001b[39m1\u001b[39m\n\u001b[1;32m--> <a href='file:///c%3A/Users/aryij/anaconda3/envs/cp2/lib/site-packages/pandas/core/strings/object_array.py?line=339'>340</a>\u001b[0m         f \u001b[39m=\u001b[39m \u001b[39mlambda\u001b[39;00m x: x\u001b[39m.\u001b[39;49msplit(pat, n)\n\u001b[0;32m    <a href='file:///c%3A/Users/aryij/anaconda3/envs/cp2/lib/site-packages/pandas/core/strings/object_array.py?line=340'>341</a>\u001b[0m \u001b[39mreturn\u001b[39;00m \u001b[39mself\u001b[39m\u001b[39m.\u001b[39m_str_map(f, dtype\u001b[39m=\u001b[39m\u001b[39mobject\u001b[39m)\n",
      "\u001b[1;31mMemoryError\u001b[0m: "
     ]
    }
   ],
   "source": [
    "df[\"category_code\"].str.split(\".\").str[0]"
   ]
  },
  {
   "cell_type": "code",
   "execution_count": null,
   "metadata": {},
   "outputs": [],
   "source": []
  }
 ],
 "metadata": {
  "interpreter": {
   "hash": "082be1bbb8cf51e79f7eecb97b4a3116b1b28bb6664706b22c0c7433d973cc3c"
  },
  "kernelspec": {
   "display_name": "Python 3.8.13 ('cp2')",
   "language": "python",
   "name": "python3"
  },
  "language_info": {
   "codemirror_mode": {
    "name": "ipython",
    "version": 3
   },
   "file_extension": ".py",
   "mimetype": "text/x-python",
   "name": "python",
   "nbconvert_exporter": "python",
   "pygments_lexer": "ipython3",
   "version": "3.8.13"
  },
  "orig_nbformat": 4
 },
 "nbformat": 4,
 "nbformat_minor": 2
}
